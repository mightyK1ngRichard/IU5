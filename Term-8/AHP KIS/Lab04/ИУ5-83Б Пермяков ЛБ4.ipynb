{
  "nbformat": 4,
  "nbformat_minor": 0,
  "metadata": {
    "colab": {
      "provenance": []
    },
    "kernelspec": {
      "name": "ir",
      "display_name": "R"
    },
    "language_info": {
      "name": "R"
    }
  },
  "cells": [
    {
      "cell_type": "markdown",
      "source": [
        "Пермяков Дмитрий ЛР4 КИС"
      ],
      "metadata": {
        "id": "yCrdLDyAqIhF"
      }
    },
    {
      "cell_type": "markdown",
      "source": [
        "## Задание 1.\n",
        "\n",
        "Вычислительный центр фирмы состоит из $m$ главных серверов коллективного пользования. Число работающих в центре программистов в любой момент времени равно $k$. Каждый программист готовит свою программу и через терминал передает ее на сервер для выполнения, куда она сразу попадает. Время подготовки программ имеет экспоненциальное распределение со средним значением $t_{1}$ мин. Время выполнения программы на любом из серверов имеет экспоненциальное распределение со средним значением $t_{2}$ мин. Каждый программист ожидает ответа от сервера, прежде, чем начнет писать следующую программу.\n",
        "\n",
        "Найти (теоретически и экспериментально):\n",
        " - вероятность того, что программа не будет выполнена сразу же, как только она поступила на терминал;\n",
        " - среднее время до получения пользователем результатов реализации;\n",
        " - среднее количество программ, ожидающих выполнения на сервере.\n",
        "\n",
        "Требуется выполнить расчет при заданном по варианту значении $m$, а также при $m=1$."
      ],
      "metadata": {
        "id": "EC74iHM1qOPT"
      }
    },
    {
      "cell_type": "code",
      "source": [
        "Variant<-13\n",
        "set.seed(Variant)\n",
        "k<-sample(c(10:25),1)\n",
        "m<-sample(c(3:6),1)\n",
        "t1<-sample(c(14:20),1)\n",
        "t2<-sample(c(2:5),1)\n",
        "View(data.frame(k,m,t1,t2))"
      ],
      "metadata": {
        "colab": {
          "base_uri": "https://localhost:8080/",
          "height": 128
        },
        "id": "OAV8EEiXqNGr",
        "outputId": "4fe86d6f-a1c0-4a6a-e7b6-4a33f69efb0d"
      },
      "execution_count": null,
      "outputs": [
        {
          "output_type": "display_data",
          "data": {
            "text/plain": [
              "  k  m t1 t2\n",
              "1 17 5 18 3 "
            ],
            "text/html": [
              "<table class=\"dataframe\">\n",
              "<caption>A data.frame: 1 × 4</caption>\n",
              "<thead>\n",
              "\t<tr><th scope=col>k</th><th scope=col>m</th><th scope=col>t1</th><th scope=col>t2</th></tr>\n",
              "\t<tr><th scope=col>&lt;int&gt;</th><th scope=col>&lt;int&gt;</th><th scope=col>&lt;int&gt;</th><th scope=col>&lt;int&gt;</th></tr>\n",
              "</thead>\n",
              "<tbody>\n",
              "\t<tr><td>17</td><td>5</td><td>18</td><td>3</td></tr>\n",
              "</tbody>\n",
              "</table>\n"
            ],
            "text/markdown": "\nA data.frame: 1 × 4\n\n| k &lt;int&gt; | m &lt;int&gt; | t1 &lt;int&gt; | t2 &lt;int&gt; |\n|---|---|---|---|\n| 17 | 5 | 18 | 3 |\n\n",
            "text/latex": "A data.frame: 1 × 4\n\\begin{tabular}{llll}\n k & m & t1 & t2\\\\\n <int> & <int> & <int> & <int>\\\\\n\\hline\n\t 17 & 5 & 18 & 3\\\\\n\\end{tabular}\n"
          },
          "metadata": {}
        }
      ]
    },
    {
      "cell_type": "markdown",
      "source": [
        "# Для m по варианту"
      ],
      "metadata": {
        "id": "2UMk-SlpwfjU"
      }
    },
    {
      "cell_type": "markdown",
      "source": [
        "## Теоретическая часть\n",
        "\n",
        "### Формула Эрланга\n",
        "\n",
        "$$\n",
        "P_{0} = \\left( \\sum_{i = 0}^{m} \\frac{\\frac{k!}{(k - i)!}}{i!}y^{i} + \\sum_{j = m + 1}^{k} \\frac{\\frac{k!}{(k - j)!}}{m!m^{j - m}}y^{j} \\right)^{-1}\n",
        "$$\n",
        "\n",
        "### Длина очереди\n",
        "\n",
        "$$\n",
        "L_{queue} = \\sum_{r = 1}^{k - m} r P_{m + r} = \\sum_{r = 1}^{k - m} r \\frac{\\frac{k!}{(k - m - r)!}}{m!m^{r}} y^{m + r} P_{0}\n",
        "$$\n",
        "\n",
        "### Вероятность необработки заявки\n",
        "\n",
        "$$\n",
        "P_{busy} = \\sum_{r = 0}^{k - m} P_{m + r} = \\sum_{r = 0}^{k - m} \\frac{\\frac{k!}{(k - m - r)!}}{m!m^{r}} y^{m + r} P_{0}\n",
        "$$\n",
        "\n",
        "### Среднее число заявок в системе\n",
        "\n",
        "$$\n",
        "L_{sys} = \\sum_{i = 0}^{m} i P_{i} + \\sum_{r = 1}^{k - m} (r + m) P_{m + r} = \\sum_{i = 0}^{m} i \\frac{\\frac{k!}{(k - i)!}}{i!} y^{i} P_{0} + \\sum_{r = 1}^{k - m} r \\frac{\\frac{k!}{(k - m - r)!}}{m!m^{r}} y^{m + r} P_{0}\n",
        "$$\n",
        "\n",
        "### Средняя интенсивность суммарного входного потока\n",
        "\n",
        "$$\n",
        "\\Lambda = (k - L_{sys}) * \\lambda\n",
        "$$\n",
        "\n",
        "### Время нахождения заявок в системе\n",
        "\n",
        "$$\n",
        "T_{sys} = \\frac{L_{sys}}{\\Lambda}\n",
        "$$\n",
        "\n",
        "### Вычислим для m по варианту:"
      ],
      "metadata": {
        "id": "QWfHQB9KtZSh"
      }
    },
    {
      "cell_type": "code",
      "source": [
        "lambda <- 1 / t1\n",
        "mu <- 1 / t2\n",
        "y <- lambda / mu\n",
        "P0 <- 0\n",
        "\n",
        "for(i in 0:m) {\n",
        "  sum <-(factorial(k)/factorial(k - i))/factorial(i) * y^i\n",
        "  P0 <- P0 + sum\n",
        "}\n",
        "\n",
        "for(j in (m + 1):k) {\n",
        "  sum <-(factorial(k)/factorial(k - j)) / (factorial(m) * m^(j - m)) * y^j\n",
        "  P0 <- P0 + sum\n",
        "}\n",
        "\n",
        "P0 <- 1 / P0\n",
        "P0"
      ],
      "metadata": {
        "colab": {
          "base_uri": "https://localhost:8080/",
          "height": 34
        },
        "id": "syecFGSytvSn",
        "outputId": "94ad2445-7460-4d70-f737-d39d6ba89f2d"
      },
      "execution_count": null,
      "outputs": [
        {
          "output_type": "display_data",
          "data": {
            "text/html": [
              "0.072040523039207"
            ],
            "text/markdown": "0.072040523039207",
            "text/latex": "0.072040523039207",
            "text/plain": [
              "[1] 0.07204052"
            ]
          },
          "metadata": {}
        }
      ]
    },
    {
      "cell_type": "code",
      "source": [
        "L_queue <- 0\n",
        "\n",
        "for (r in 1:(k - m)) {\n",
        "  sum = (factorial(k)/factorial(k-m-r))/(factorial(m)*m^r)*y^(m+r)\n",
        "\n",
        "  L_queue <- L_queue + r*sum*P0\n",
        "}\n",
        "\n",
        "L_queue"
      ],
      "metadata": {
        "colab": {
          "base_uri": "https://localhost:8080/",
          "height": 34
        },
        "id": "tgmB0Iqqtv-h",
        "outputId": "c2022f36-d4e0-48f5-833f-1b9c824299d9"
      },
      "execution_count": null,
      "outputs": [
        {
          "output_type": "display_data",
          "data": {
            "text/html": [
              "0.053043787414603"
            ],
            "text/markdown": "0.053043787414603",
            "text/latex": "0.053043787414603",
            "text/plain": [
              "[1] 0.05304379"
            ]
          },
          "metadata": {}
        }
      ]
    },
    {
      "cell_type": "code",
      "source": [
        "Pbusy <- 0\n",
        "\n",
        "for (r in 0:(k - m)) {\n",
        "  sum = (factorial(k)/factorial(k-m-r))/(factorial(m)*m^r)*y^(m+r)\n",
        "\n",
        "  Pbusy <- Pbusy + sum*P0\n",
        "}\n",
        "\n",
        "Pbusy"
      ],
      "metadata": {
        "colab": {
          "base_uri": "https://localhost:8080/",
          "height": 34
        },
        "id": "XZZNYdietzbu",
        "outputId": "d1ab6fc8-e15b-4ee8-8740-4da59003c5e0"
      },
      "execution_count": null,
      "outputs": [
        {
          "output_type": "display_data",
          "data": {
            "text/html": [
              "0.0926006959166554"
            ],
            "text/markdown": "0.0926006959166554",
            "text/latex": "0.0926006959166554",
            "text/plain": [
              "[1] 0.0926007"
            ]
          },
          "metadata": {}
        }
      ]
    },
    {
      "cell_type": "code",
      "source": [
        "Lsys <- 0\n",
        "\n",
        "for(i in 0:m) {\n",
        "  sum <-(factorial(k)/factorial(k - i))/factorial(i) * y^i\n",
        "  Lsys <- Lsys + i*sum*P0\n",
        "}\n",
        "\n",
        "for (r in 1:(k - m)) {\n",
        "  sum = (factorial(k)/factorial(k-m-r))/(factorial(m)*m^r)*y^(m+r)\n",
        "\n",
        "  Lsys <- Lsys + (r+m)*sum*P0\n",
        "}\n",
        "\n",
        "Lsys"
      ],
      "metadata": {
        "colab": {
          "base_uri": "https://localhost:8080/",
          "height": 34
        },
        "id": "xRMtxlRft1U2",
        "outputId": "0a03e417-1874-4eb1-a0fe-efcceac22690"
      },
      "execution_count": null,
      "outputs": [
        {
          "output_type": "display_data",
          "data": {
            "text/html": [
              "2.47403753206966"
            ],
            "text/markdown": "2.47403753206966",
            "text/latex": "2.47403753206966",
            "text/plain": [
              "[1] 2.474038"
            ]
          },
          "metadata": {}
        }
      ]
    },
    {
      "cell_type": "code",
      "source": [
        "ML = (k - Lsys) * lambda\n",
        "ML"
      ],
      "metadata": {
        "colab": {
          "base_uri": "https://localhost:8080/",
          "height": 34
        },
        "id": "p4zS67w4t3I6",
        "outputId": "112cec6b-f9c6-44d3-9eb6-1f498802374c"
      },
      "execution_count": null,
      "outputs": [
        {
          "output_type": "display_data",
          "data": {
            "text/html": [
              "0.806997914885019"
            ],
            "text/markdown": "0.806997914885019",
            "text/latex": "0.806997914885019",
            "text/plain": [
              "[1] 0.8069979"
            ]
          },
          "metadata": {}
        }
      ]
    },
    {
      "cell_type": "code",
      "source": [
        "Tsys = Lsys/ML\n",
        "Tsys"
      ],
      "metadata": {
        "colab": {
          "base_uri": "https://localhost:8080/",
          "height": 34
        },
        "id": "AzFgZWKet4_o",
        "outputId": "a06be4aa-329e-431b-9b02-65dfdaedd4fe"
      },
      "execution_count": null,
      "outputs": [
        {
          "output_type": "display_data",
          "data": {
            "text/html": [
              "3.06572977009756"
            ],
            "text/markdown": "3.06572977009756",
            "text/latex": "3.06572977009756",
            "text/plain": [
              "[1] 3.06573"
            ]
          },
          "metadata": {}
        }
      ]
    },
    {
      "cell_type": "code",
      "source": [
        "bar_string <- \"--------------------------------------------------------------\"\n",
        "View(bar_string)\n",
        "View(\"среднее время до получения пользователем результатов реализации\")\n",
        "View(Tsys)\n",
        "View(bar_string)\n",
        "View(\"среднее количество программ, ожидающих выполнения на сервере.\")\n",
        "View(L_queue)\n",
        "View(bar_string)\n",
        "View('вероятность того, что программа не будет выполнена сразу же, как только она поступила на терминал')\n",
        "View(Pbusy)"
      ],
      "metadata": {
        "colab": {
          "base_uri": "https://localhost:8080/",
          "height": 170
        },
        "id": "ZdsLx9PSt8BE",
        "outputId": "53c9dcf9-941d-4a4d-f578-755aca7f1b60"
      },
      "execution_count": null,
      "outputs": [
        {
          "output_type": "display_data",
          "data": {
            "text/plain": [
              "[1] \"--------------------------------------------------------------\""
            ],
            "text/html": [
              "'--------------------------------------------------------------'"
            ],
            "text/markdown": "'--------------------------------------------------------------'",
            "text/latex": "'--------------------------------------------------------------'"
          },
          "metadata": {}
        },
        {
          "output_type": "display_data",
          "data": {
            "text/plain": [
              "[1] \"среднее время до получения пользователем результатов реализации\""
            ],
            "text/html": [
              "'среднее время до получения пользователем результатов реализации'"
            ],
            "text/markdown": "'среднее время до получения пользователем результатов реализации'",
            "text/latex": "'среднее время до получения пользователем результатов реализации'"
          },
          "metadata": {}
        },
        {
          "output_type": "display_data",
          "data": {
            "text/plain": [
              "[1] 3.06573"
            ],
            "text/html": [
              "3.06572977009756"
            ],
            "text/markdown": "3.06572977009756",
            "text/latex": "3.06572977009756"
          },
          "metadata": {}
        },
        {
          "output_type": "display_data",
          "data": {
            "text/plain": [
              "[1] \"--------------------------------------------------------------\""
            ],
            "text/html": [
              "'--------------------------------------------------------------'"
            ],
            "text/markdown": "'--------------------------------------------------------------'",
            "text/latex": "'--------------------------------------------------------------'"
          },
          "metadata": {}
        },
        {
          "output_type": "display_data",
          "data": {
            "text/plain": [
              "[1] \"среднее количество программ, ожидающих выполнения на сервере.\""
            ],
            "text/html": [
              "'среднее количество программ, ожидающих выполнения на сервере.'"
            ],
            "text/markdown": "'среднее количество программ, ожидающих выполнения на сервере.'",
            "text/latex": "'среднее количество программ, ожидающих выполнения на сервере.'"
          },
          "metadata": {}
        },
        {
          "output_type": "display_data",
          "data": {
            "text/plain": [
              "[1] 0.05304379"
            ],
            "text/html": [
              "0.053043787414603"
            ],
            "text/markdown": "0.053043787414603",
            "text/latex": "0.053043787414603"
          },
          "metadata": {}
        },
        {
          "output_type": "display_data",
          "data": {
            "text/plain": [
              "[1] \"--------------------------------------------------------------\""
            ],
            "text/html": [
              "'--------------------------------------------------------------'"
            ],
            "text/markdown": "'--------------------------------------------------------------'",
            "text/latex": "'--------------------------------------------------------------'"
          },
          "metadata": {}
        },
        {
          "output_type": "display_data",
          "data": {
            "text/plain": [
              "[1] \"вероятность того, что программа не будет выполнена сразу же, как только она поступила на терминал\""
            ],
            "text/html": [
              "'вероятность того, что программа не будет выполнена сразу же, как только она поступила на терминал'"
            ],
            "text/markdown": "'вероятность того, что программа не будет выполнена сразу же, как только она поступила на терминал'",
            "text/latex": "'вероятность того, что программа не будет выполнена сразу же, как только она поступила на терминал'"
          },
          "metadata": {}
        },
        {
          "output_type": "display_data",
          "data": {
            "text/plain": [
              "[1] 0.0926007"
            ],
            "text/html": [
              "0.0926006959166554"
            ],
            "text/markdown": "0.0926006959166554",
            "text/latex": "0.0926006959166554"
          },
          "metadata": {}
        }
      ]
    },
    {
      "cell_type": "markdown",
      "source": [
        " ## Экспериментальная часть"
      ],
      "metadata": {
        "id": "gFNauSGjtM5t"
      }
    },
    {
      "cell_type": "code",
      "source": [
        "Tend <- 10000\n",
        "tsys <- 0\n",
        "\n",
        "# Таблица с информацией о программистах и их программах\n",
        "progs <- data.frame(\n",
        "  end = tsys + rexp(1, 1 / t1),\n",
        "  start = rep(0, k),\n",
        "  prog_id = rep(0, k)\n",
        ")\n",
        "colnames(progs) <- c(\"end\", \"start\", \"deploy_prog_id\")\n",
        "\n",
        "servers <- data.frame(\n",
        "  end = rep(Tend + 1, m),\n",
        "  start = rep(0, m),\n",
        "  prog_id = rep(0, m)\n",
        ")\n",
        "colnames(servers) <- c(\"end\", \"start\", \"prog_id\")\n",
        "\n",
        "counter_deploy <- 0 # количество отправленных в систему программ\n",
        "counter_ready <- 0  # количество завершённых программ\n",
        "system_count <- 1   # счётчик состояния системы\n",
        "last_switch <- 0    # последнее время изменения состояния системы\n",
        "\n",
        "Pn_vec <- c(0,0)    # 1 - количество программ, которые были выполнены сразу, 2 - количество программ, которые попали в очередь\n",
        "L_queue_vec <- c(0) # массив для статистики по количеству программ в очереди\n",
        "\n",
        "Tget_vec <- data.frame() # Время завершения работы программы\n",
        "Tget_vec <- rbind(Tget_vec, c(0,0))\n",
        "colnames(Tget_vec) <- c(\"time\", \"ready_flag\")\n",
        "\n",
        "queue <- c()           # очередь ожидающих выполнения программ\n",
        "ready_time <- Tend + 1 # ближайшее время, когда сервер будет свободен\n",
        "\n",
        "# Проверка, свободны ли серваки\n",
        "if_free_servers <- function() {\n",
        "  for (i in 1:m) {\n",
        "    if (servers$prog_id[i] == 0) {\n",
        "      return (1)\n",
        "    }\n",
        "  }\n",
        "  return (0)\n",
        "}\n",
        "\n",
        "\n",
        "while (tsys < Tend) {\n",
        "  l_och_index <- length(queue) + 1\n",
        "  # Если вектор по текущему индексу ещё не сущ, создаём\n",
        "  if (is.na(L_queue_vec[l_och_index])) {\n",
        "    L_queue_vec[l_och_index] <- 0\n",
        "  }\n",
        "  # Учитывается, сколько времени длилось состояние с определённой длиной очереди\n",
        "  L_queue_vec[l_och_index] <- L_queue_vec[l_och_index] + tsys - last_switch\n",
        "  last_switch <- tsys\n",
        "\n",
        "  # Обработка программ, которые завершили подготовку\n",
        "  for (i in 1:k) {\n",
        "    # Если у программиста закончилось время подготовки программы\n",
        "    if (tsys == progs$end[i]) {\n",
        "      if (counter_deploy - counter_ready < m) {\n",
        "        # Если есть свободные сервера\n",
        "        Pn_vec[1] <- Pn_vec[1] + 1\n",
        "      } else {\n",
        "         # Если сервера заняты\n",
        "        Pn_vec[2] <- Pn_vec[2] + 1\n",
        "      }\n",
        "\n",
        "      counter_deploy <- counter_deploy + 1\n",
        "      progs$deploy_prog_id[i] <- counter_deploy\n",
        "\n",
        "      Tget_vec <- rbind(Tget_vec, c(0,0))\n",
        "      Tget_vec$time[counter_deploy] <- progs$end[i] # обновляется время ожидания программы\n",
        "      Tget_vec$ready_flag[counter_deploy] <- 0      # флаг готовности программы 0 - программа ещё не завершена\n",
        "\n",
        "      progs$end[i] <- Tend + 1 # чтобы она не была выполнена снова\n",
        "\n",
        "      queue <- append(queue, counter_deploy)\n",
        "    }\n",
        "  }\n",
        "\n",
        "  # Обработка завершённых программ на серверах\n",
        "  for (i in 1:m) {\n",
        "    # Завершилась ли прога на серваке?\n",
        "    if (tsys == servers$end[i]) {\n",
        "      counter_ready <- counter_ready + 1\n",
        "      Tget_vec$time[counter_ready] <- tsys - Tget_vec$time[counter_ready] # Время ожидания программы. Т.е now минус временя, когда она была добавлена в систему\n",
        "      Tget_vec$ready_flag[counter_ready] <- 1\n",
        "\n",
        "      for (j in 1:k) {\n",
        "        # Ищем ту самую прогу по её id\n",
        "        if (progs$deploy_prog_id[j] == servers$prog_id[i]) {\n",
        "          progs$start[j] = tsys\n",
        "          progs$end[j] = tsys + rexp(1, 1 / t1)\n",
        "        }\n",
        "      }\n",
        "\n",
        "      servers$prog_id[i] <- 0\n",
        "      servers$end[i] <- Tend + 1\n",
        "    }\n",
        "  }\n",
        "\n",
        "  # Запуск программы на сервере\n",
        "  if (length(queue)) {\n",
        "    if (if_free_servers()) {\n",
        "      # В случайном порядке найдём свободный сервер\n",
        "      for (i in sample(1:m)) {\n",
        "        if(servers$prog_id[i] == 0){\n",
        "          servers$start[i] <- tsys\n",
        "          servers$end[i] <- tsys + rexp(1, 1 / t2)\n",
        "          servers$prog_id[i] <- queue[1]\n",
        "          queue <- queue[-1] # Удаляем первую прогу из очереди\n",
        "          break\n",
        "        }\n",
        "      }\n",
        "    }\n",
        "  }\n",
        "\n",
        "  tsys <- min(progs$end[1:k], servers$end[1:m])\n",
        "}"
      ],
      "metadata": {
        "id": "AXU8uQZ_tQX6"
      },
      "execution_count": null,
      "outputs": []
    },
    {
      "cell_type": "code",
      "source": [
        "# Отфильтровываем завершенные программы и выводим среднее время\n",
        "Tget_vec <- Tget_vec[Tget_vec$ready_flag == 1,]\n",
        "mean_time <- mean(Tget_vec$time)\n",
        "cat(\"Среднее время до получения пользователем результатов реализации:\", mean_time, \"\\n\")\n",
        "\n",
        "# Рассчитываем среднее количество программ в очереди\n",
        "Loch_vec_P <- L_queue_vec / sum(L_queue_vec)\n",
        "Loch <- sum((1:length(L_queue_vec) - 1) * Loch_vec_P)\n",
        "cat(\"Среднее количество программ, ожидающих выполнения на сервере:\", Loch, \"\\n\")\n",
        "\n",
        "# Вероятность того, что программа не будет выполнена сразу\n",
        "Pn <- Pn_vec[2] / sum(Pn_vec)\n",
        "cat(\"Вероятность того, что программа не будет выполнена сразу, как только она поступила на терминал:\", Pn, \"\\n\")"
      ],
      "metadata": {
        "colab": {
          "base_uri": "https://localhost:8080/"
        },
        "id": "BZQTVxS7tK5g",
        "outputId": "067c01e3-fdf2-42eb-cc1a-e97974d9072d"
      },
      "execution_count": null,
      "outputs": [
        {
          "output_type": "stream",
          "name": "stdout",
          "text": [
            "Среднее время до получения пользователем результатов реализации: 3.089704 \n",
            "Среднее количество программ, ожидающих выполнения на сервере: 0.06176837 \n",
            "Вероятность того, что программа не будет выполнена сразу, как только она поступила на терминал: 0.07505573 \n"
          ]
        }
      ]
    },
    {
      "cell_type": "markdown",
      "source": [
        "# Для m = 1"
      ],
      "metadata": {
        "id": "9xVXl-9Kupz6"
      }
    },
    {
      "cell_type": "markdown",
      "source": [
        " ## Экспериментальная часть"
      ],
      "metadata": {
        "id": "z7xr7FKwuvzL"
      }
    },
    {
      "cell_type": "code",
      "source": [
        "m=1\n",
        "Tend <- 10000\n",
        "tsys <- 0\n",
        "\n",
        "# Таблица с информацией о программистах и их программах\n",
        "progs <- data.frame(\n",
        "  end = tsys + rexp(1, 1 / t1),\n",
        "  start = rep(0, k),\n",
        "  prog_id = rep(0, k)\n",
        ")\n",
        "colnames(progs) <- c(\"end\", \"start\", \"deploy_prog_id\")\n",
        "\n",
        "servers <- data.frame(\n",
        "  end = rep(Tend + 1, m),\n",
        "  start = rep(0, m),\n",
        "  prog_id = rep(0, m)\n",
        ")\n",
        "colnames(servers) <- c(\"end\", \"start\", \"prog_id\")\n",
        "\n",
        "counter_deploy <- 0 # количество отправленных в систему программ\n",
        "counter_ready <- 0  # количество завершённых программ\n",
        "system_count <- 1   # счётчик состояния системы\n",
        "last_switch <- 0    # последнее время изменения состояния системы\n",
        "\n",
        "Pn_vec <- c(0,0)    # 1 - количество программ, которые были выполнены сразу, 2 - количество программ, которые попали в очередь\n",
        "L_queue_vec <- c(0) # массив для статистики по количеству программ в очереди\n",
        "\n",
        "Tget_vec <- data.frame() # Время завершения работы программы\n",
        "Tget_vec <- rbind(Tget_vec, c(0,0))\n",
        "\n",
        "colnames(Tget_vec) <- c(\"time\", \"ready_flag\")\n",
        "\n",
        "queue <- c()           # очередь ожидающих выполнения программ\n",
        "ready_time <- Tend + 1 # ближайшее время, когда сервер будет свободен\n",
        "\n",
        "# Проверка, свободны ли серваки\n",
        "if_free_servers <- function() {\n",
        "  for (i in 1:m) {\n",
        "    if (servers$prog_id[i] == 0) {\n",
        "      return (1)\n",
        "    }\n",
        "  }\n",
        "  return (0)\n",
        "}\n",
        "\n",
        "\n",
        "while (tsys < Tend) {\n",
        "  l_och_index <- length(queue) + 1\n",
        "  # Если вектор по текущему индексу ещё не сущ, создаём\n",
        "  if (is.na(L_queue_vec[l_och_index])) {\n",
        "    L_queue_vec[l_och_index] <- 0\n",
        "  }\n",
        "  # Учитывается, сколько времени длилось состояние с определённой длиной очереди\n",
        "  L_queue_vec[l_och_index] <- L_queue_vec[l_och_index] + tsys - last_switch\n",
        "  last_switch <- tsys\n",
        "\n",
        "  # Обработка программ, которые завершили подготовку\n",
        "  for (i in 1:k) {\n",
        "    # Если у программиста закончилось время подготовки программы\n",
        "    if (tsys == progs$end[i]) {\n",
        "      if (counter_deploy - counter_ready < m) {\n",
        "        # Если есть свободные сервера\n",
        "        Pn_vec[1] <- Pn_vec[1] + 1\n",
        "      } else {\n",
        "         # Если сервера заняты\n",
        "        Pn_vec[2] <- Pn_vec[2] + 1\n",
        "      }\n",
        "\n",
        "      counter_deploy <- counter_deploy + 1\n",
        "      progs$deploy_prog_id[i] <- counter_deploy\n",
        "\n",
        "      Tget_vec <- rbind(Tget_vec, c(0,0))\n",
        "      Tget_vec$time[counter_deploy] <- progs$end[i] # обновляется время ожидания программы\n",
        "      Tget_vec$ready_flag[counter_deploy] <- 0 # флаг готовности программы 0, что означает, что программа ещё не завершена\n",
        "\n",
        "      progs$end[i] <- Tend + 1 # чтобы она не была выполнена снова\n",
        "\n",
        "      queue <- append(queue, counter_deploy)\n",
        "    }\n",
        "  }\n",
        "\n",
        "  # Обработка завершённых программ на серверах\n",
        "  for (i in 1:m) {\n",
        "    # Завершилась ли прога на серваке?\n",
        "    if (tsys == servers$end[i]) {\n",
        "      counter_ready <- counter_ready + 1\n",
        "      Tget_vec$time[counter_ready] <- tsys - Tget_vec$time[counter_ready] # Время ожидания программы. Т.е now минус временя, когда она была добавлена в систему\n",
        "      Tget_vec$ready_flag[counter_ready] <- 1\n",
        "\n",
        "      for (j in 1:k) {\n",
        "        # Ищем ту самую прогу по её id\n",
        "        if (progs$deploy_prog_id[j] == servers$prog_id[i]) {\n",
        "          progs$start[j] = tsys\n",
        "          progs$end[j] = tsys + rexp(1, 1 / t1)\n",
        "        }\n",
        "      }\n",
        "\n",
        "      servers$prog_id[i] <- 0\n",
        "      servers$end[i] <- Tend + 1\n",
        "    }\n",
        "  }\n",
        "\n",
        "  # Запуск программы на сервере\n",
        "  if (length(queue)) {\n",
        "    if (if_free_servers()) {\n",
        "      # В случайном порядке найдём свободный сервер\n",
        "      for (i in sample(1:m)) {\n",
        "        if(servers$prog_id[i] == 0){\n",
        "          servers$start[i] <- tsys\n",
        "          servers$end[i] <- tsys + rexp(1, 1 / t2)\n",
        "          servers$prog_id[i] <- queue[1]\n",
        "          queue <- queue[-1] # Удаляем первую прогу из очереди\n",
        "          break\n",
        "        }\n",
        "      }\n",
        "    }\n",
        "  }\n",
        "\n",
        "  tsys <- min(progs$end[1:k], servers$end[1:m])\n",
        "}"
      ],
      "metadata": {
        "id": "fNsWvEENur7n"
      },
      "execution_count": null,
      "outputs": []
    },
    {
      "cell_type": "code",
      "source": [
        "Tget_vec <- Tget_vec[Tget_vec$ready_flag == 1,]\n",
        "paste <- \"--------------------------------------------------------------\"\n",
        "View(paste)\n",
        "View(\"среднее время до получения пользователем результатов реализации\")\n",
        "mean(Tget_vec$time)\n",
        "\n",
        "Loch_vec_P <- Loch_vec / sum(Loch_vec)\n",
        "Loch <- 0\n",
        "for (i in 1:length(Loch_vec)) {\n",
        "  Loch <- Loch + (i - 1) * Loch_vec_P[i]\n",
        "}\n",
        "\n",
        "View(paste)\n",
        "View(\"среднее количество программ, ожидающих выполнения на сервере.\")\n",
        "Loch\n",
        "\n",
        "Pn <- Pn_vec[2]/sum(Pn_vec)\n",
        "\n",
        "View(paste)\n",
        "View('вероятность того, что программа не будет выполнена сразу же, как только она поступила на терминал')\n",
        "Pn"
      ],
      "metadata": {
        "colab": {
          "base_uri": "https://localhost:8080/",
          "height": 170
        },
        "id": "E0qBVrz8uzaN",
        "outputId": "c026ba8d-c54b-4506-dd3f-e01c8b9f8cde"
      },
      "execution_count": null,
      "outputs": [
        {
          "output_type": "display_data",
          "data": {
            "text/plain": [
              "[1] \"--------------------------------------------------------------\""
            ],
            "text/html": [
              "'--------------------------------------------------------------'"
            ],
            "text/markdown": "'--------------------------------------------------------------'",
            "text/latex": "'--------------------------------------------------------------'"
          },
          "metadata": {}
        },
        {
          "output_type": "display_data",
          "data": {
            "text/plain": [
              "[1] \"среднее время до получения пользователем результатов реализации\""
            ],
            "text/html": [
              "'среднее время до получения пользователем результатов реализации'"
            ],
            "text/markdown": "'среднее время до получения пользователем результатов реализации'",
            "text/latex": "'среднее время до получения пользователем результатов реализации'"
          },
          "metadata": {}
        },
        {
          "output_type": "display_data",
          "data": {
            "text/html": [
              "32.5443085982615"
            ],
            "text/markdown": "32.5443085982615",
            "text/latex": "32.5443085982615",
            "text/plain": [
              "[1] 32.54431"
            ]
          },
          "metadata": {}
        },
        {
          "output_type": "display_data",
          "data": {
            "text/plain": [
              "[1] \"--------------------------------------------------------------\""
            ],
            "text/html": [
              "'--------------------------------------------------------------'"
            ],
            "text/markdown": "'--------------------------------------------------------------'",
            "text/latex": "'--------------------------------------------------------------'"
          },
          "metadata": {}
        },
        {
          "output_type": "display_data",
          "data": {
            "text/plain": [
              "[1] \"среднее количество программ, ожидающих выполнения на сервере.\""
            ],
            "text/html": [
              "'среднее количество программ, ожидающих выполнения на сервере.'"
            ],
            "text/markdown": "'среднее количество программ, ожидающих выполнения на сервере.'",
            "text/latex": "'среднее количество программ, ожидающих выполнения на сервере.'"
          },
          "metadata": {}
        },
        {
          "output_type": "display_data",
          "data": {
            "text/html": [
              "9.99548768626127"
            ],
            "text/markdown": "9.99548768626127",
            "text/latex": "9.99548768626127",
            "text/plain": [
              "[1] 9.995488"
            ]
          },
          "metadata": {}
        },
        {
          "output_type": "display_data",
          "data": {
            "text/plain": [
              "[1] \"--------------------------------------------------------------\""
            ],
            "text/html": [
              "'--------------------------------------------------------------'"
            ],
            "text/markdown": "'--------------------------------------------------------------'",
            "text/latex": "'--------------------------------------------------------------'"
          },
          "metadata": {}
        },
        {
          "output_type": "display_data",
          "data": {
            "text/plain": [
              "[1] \"вероятность того, что программа не будет выполнена сразу же, как только она поступила на терминал\""
            ],
            "text/html": [
              "'вероятность того, что программа не будет выполнена сразу же, как только она поступила на терминал'"
            ],
            "text/markdown": "'вероятность того, что программа не будет выполнена сразу же, как только она поступила на терминал'",
            "text/latex": "'вероятность того, что программа не будет выполнена сразу же, как только она поступила на терминал'"
          },
          "metadata": {}
        },
        {
          "output_type": "display_data",
          "data": {
            "text/html": [
              "0.999408459035788"
            ],
            "text/markdown": "0.999408459035788",
            "text/latex": "0.999408459035788",
            "text/plain": [
              "[1] 0.9994085"
            ]
          },
          "metadata": {}
        }
      ]
    },
    {
      "cell_type": "markdown",
      "source": [
        "## Теоретическая\n",
        "\n",
        "### Составим формулу Эрланга\n",
        "\n",
        "$$\n",
        "P_{0} = \\left( 1 + \\frac{\\frac{k!}{(k - 1)!}}{1!} y + \\frac{\\frac{k!}{(k - 2)!}}{2!} y^{2} + \\frac{\\frac{k!}{(k - 3)!}}{3!} y^{3} + \\dots + \\frac{\\frac{k!}{(k - m)!}}{m!} y^{m} + \\frac{\\frac{k!}{(k - m - 1)!}}{m! m} y^{m + 1} + \\frac{\\frac{k!}{(k - m - 2)!}}{m! m^{2}} y^{m + 2} + \\dots + \\frac{\\frac{k!}{(k - (k - 1))!}}{m! m^{k - m - 1}} y^{k - 1} + \\frac{\\frac{k!}{(k - k)!}}{m! m^{k - m}} y^{k} \\right)^{-1}\n",
        "$$\n",
        "\n",
        "### Свернём формулу\n",
        "\n",
        "$$\n",
        "P_{0} = \\left( \\sum_{i = 0}^{m} \\frac{\\frac{k!}{(k - i)!}}{i!} y^{i} + \\sum_{j = m + 1}^{k} \\frac{\\frac{k!}{(k - j)!}}{m! m^{j - m}} y^{j} \\right)^{-1}\n",
        "$$\n",
        "\n",
        "### Длина очереди\n",
        "\n",
        "$$\n",
        "L_{och} = \\sum_{r = 1}^{k - m} r P_{m + r} = \\sum_{r = 1}^{k - m} r \\frac{\\frac{k!}{(k - m - r)!}}{m! m^{r}} y^{m + r} P_{0}\n",
        "$$\n",
        "\n",
        "### Вероятность необработки заявки\n",
        "\n",
        "$$\n",
        "P_{busy} = \\sum_{r = 0}^{k - m} P_{m + r} = \\sum_{r = 0}^{k - m} \\frac{\\frac{k!}{(k - m - r)!}}{m! m^{r}} y^{m + r} P_{0}\n",
        "$$\n",
        "\n",
        "### Среднее число заявок в системе\n",
        "\n",
        "$$\n",
        "L_{sys} = \\sum_{i = 0}^{m} i P_{i} + \\sum_{r = 1}^{k - m} (r + m) P_{m + r} = \\sum_{i = 0}^{m} i \\frac{\\frac{k!}{(k - i)!}}{i!} y^{i} P_{0} + \\sum_{r = 1}^{k - m} r \\frac{\\frac{k!}{(k - m - r)!}}{m! m^{r}} y^{m + r} P_{0}\n",
        "$$\n",
        "\n",
        "### Средняя интенсивность суммарного входного потока\n",
        "\n",
        "$$\n",
        "\\Lambda = (k - L_{sys}) \\times \\lambda\n",
        "$$\n",
        "\n",
        "### Время нахождения заявок в системе\n",
        "\n",
        "$$\n",
        "T_{sys} = \\frac{L_{sys}}{\\Lambda}\n",
        "$$\n",
        "\n",
        "### Вычислим:"
      ],
      "metadata": {
        "id": "MCAPfLfju_mn"
      }
    },
    {
      "cell_type": "code",
      "source": [
        "lambda <- 1 / t1\n",
        "mu <- 1 / t2\n",
        "y <- lambda / mu\n",
        "P0 <- 0\n",
        "\n",
        "for(i in 0:m) {\n",
        "  sum <-(factorial(k)/factorial(k - i))/factorial(i) * y^i\n",
        "  P0 <- P0 + sum\n",
        "}\n",
        "\n",
        "for(j in (m + 1):k) {\n",
        "  sum <-(factorial(k)/factorial(k - j)) / (factorial(m) * m^(j - m)) * y^j\n",
        "  P0 <- P0 + sum\n",
        "}\n",
        "\n",
        "P0 <- 1 / P0\n",
        "P0"
      ],
      "metadata": {
        "colab": {
          "base_uri": "https://localhost:8080/",
          "height": 34
        },
        "id": "xCIghRjhvHvL",
        "outputId": "7eda3b37-f8b0-4eaa-cc45-f39cc16e33fa"
      },
      "execution_count": null,
      "outputs": [
        {
          "output_type": "display_data",
          "data": {
            "text/html": [
              "0.000117967009334529"
            ],
            "text/markdown": "0.000117967009334529",
            "text/latex": "0.000117967009334529",
            "text/plain": [
              "[1] 0.000117967"
            ]
          },
          "metadata": {}
        }
      ]
    },
    {
      "cell_type": "code",
      "source": [
        "L_queue <- 0\n",
        "\n",
        "for (r in 1:(k - m)) {\n",
        "  sum = (factorial(k)/factorial(k-m-r))/(factorial(m)*m^r)*y^(m+r)\n",
        "\n",
        "  L_queue <- L_queue + r*sum*P0\n",
        "}\n",
        "\n",
        "L_queue"
      ],
      "metadata": {
        "colab": {
          "base_uri": "https://localhost:8080/",
          "height": 34
        },
        "id": "6TDH3pBxvIzD",
        "outputId": "39ef92af-8309-4bec-db8d-f1a6d01ffbdb"
      },
      "execution_count": null,
      "outputs": [
        {
          "output_type": "display_data",
          "data": {
            "text/html": [
              "10.0008257690653"
            ],
            "text/markdown": "10.0008257690653",
            "text/latex": "10.0008257690653",
            "text/plain": [
              "[1] 10.00083"
            ]
          },
          "metadata": {}
        }
      ]
    },
    {
      "cell_type": "code",
      "source": [
        "Pbusy <- 0\n",
        "\n",
        "for (r in 0:(k - m)) {\n",
        "  sum = (factorial(k)/factorial(k-m-r))/(factorial(m)*m^r)*y^(m+r)\n",
        "\n",
        "  Pbusy <- Pbusy + sum*P0\n",
        "}\n",
        "\n",
        "Pbusy"
      ],
      "metadata": {
        "colab": {
          "base_uri": "https://localhost:8080/",
          "height": 34
        },
        "id": "3xKn_otdvLol",
        "outputId": "9ec8e252-20c0-494d-93c6-70d5760191ad"
      },
      "execution_count": null,
      "outputs": [
        {
          "output_type": "display_data",
          "data": {
            "text/html": [
              "0.999882032990665"
            ],
            "text/markdown": "0.999882032990665",
            "text/latex": "0.999882032990665",
            "text/plain": [
              "[1] 0.999882"
            ]
          },
          "metadata": {}
        }
      ]
    },
    {
      "cell_type": "code",
      "source": [
        "Lsys <- 0\n",
        "\n",
        "for(i in 0:m) {\n",
        "  sum <-(factorial(k)/factorial(k - i))/factorial(i) * y^i\n",
        "  Lsys <- Lsys + i*sum*P0\n",
        "}\n",
        "\n",
        "for (r in 1:(k - m)) {\n",
        "  sum = (factorial(k)/factorial(k-m-r))/(factorial(m)*m^r)*y^(m+r)\n",
        "\n",
        "  Lsys <- Lsys + (r+m)*sum*P0\n",
        "}\n",
        "\n",
        "Lsys"
      ],
      "metadata": {
        "colab": {
          "base_uri": "https://localhost:8080/",
          "height": 34
        },
        "id": "zb76zWDevNdn",
        "outputId": "187a5499-a403-4683-8afa-1b7a234431b5"
      },
      "execution_count": null,
      "outputs": [
        {
          "output_type": "display_data",
          "data": {
            "text/html": [
              "11.000707802056"
            ],
            "text/markdown": "11.000707802056",
            "text/latex": "11.000707802056",
            "text/plain": [
              "[1] 11.00071"
            ]
          },
          "metadata": {}
        }
      ]
    },
    {
      "cell_type": "code",
      "source": [
        "ML = (k - Lsys) * lambda\n",
        "ML"
      ],
      "metadata": {
        "colab": {
          "base_uri": "https://localhost:8080/",
          "height": 34
        },
        "id": "PlZLQwZ0vOwN",
        "outputId": "7aefd68d-1735-4e17-dbb0-83196f202dd6"
      },
      "execution_count": null,
      "outputs": [
        {
          "output_type": "display_data",
          "data": {
            "text/html": [
              "0.333294010996888"
            ],
            "text/markdown": "0.333294010996888",
            "text/latex": "0.333294010996888",
            "text/plain": [
              "[1] 0.333294"
            ]
          },
          "metadata": {}
        }
      ]
    },
    {
      "cell_type": "code",
      "source": [
        "Tsys = Lsys/ML\n",
        "Tsys"
      ],
      "metadata": {
        "colab": {
          "base_uri": "https://localhost:8080/",
          "height": 34
        },
        "id": "xgHP2hxzvQAA",
        "outputId": "403c29a6-1e3c-4432-c194-ed49fe31a0b6"
      },
      "execution_count": null,
      "outputs": [
        {
          "output_type": "display_data",
          "data": {
            "text/html": [
              "33.0060170272868"
            ],
            "text/markdown": "33.0060170272868",
            "text/latex": "33.0060170272868",
            "text/plain": [
              "[1] 33.00602"
            ]
          },
          "metadata": {}
        }
      ]
    },
    {
      "cell_type": "code",
      "source": [
        "paste <- \"--------------------------------------------------------------\"\n",
        "View(paste)\n",
        "View(\"среднее время до получения пользователем результатов реализации\")\n",
        "View(Tsys)\n",
        "View(paste)\n",
        "View(\"среднее количество программ, ожидающих выполнения на сервере.\")\n",
        "View(L_queue)\n",
        "View(paste)\n",
        "View('вероятность того, что программа не будет выполнена сразу же, как только она поступила на терминал')\n",
        "View(Pbusy)"
      ],
      "metadata": {
        "colab": {
          "base_uri": "https://localhost:8080/",
          "height": 170
        },
        "id": "87ZGnLtQvTPQ",
        "outputId": "6f7c444b-0bf8-4816-c979-9020705bcfc2"
      },
      "execution_count": null,
      "outputs": [
        {
          "output_type": "display_data",
          "data": {
            "text/plain": [
              "[1] \"--------------------------------------------------------------\""
            ],
            "text/html": [
              "'--------------------------------------------------------------'"
            ],
            "text/markdown": "'--------------------------------------------------------------'",
            "text/latex": "'--------------------------------------------------------------'"
          },
          "metadata": {}
        },
        {
          "output_type": "display_data",
          "data": {
            "text/plain": [
              "[1] \"среднее время до получения пользователем результатов реализации\""
            ],
            "text/html": [
              "'среднее время до получения пользователем результатов реализации'"
            ],
            "text/markdown": "'среднее время до получения пользователем результатов реализации'",
            "text/latex": "'среднее время до получения пользователем результатов реализации'"
          },
          "metadata": {}
        },
        {
          "output_type": "display_data",
          "data": {
            "text/plain": [
              "[1] 33.00602"
            ],
            "text/html": [
              "33.0060170272868"
            ],
            "text/markdown": "33.0060170272868",
            "text/latex": "33.0060170272868"
          },
          "metadata": {}
        },
        {
          "output_type": "display_data",
          "data": {
            "text/plain": [
              "[1] \"--------------------------------------------------------------\""
            ],
            "text/html": [
              "'--------------------------------------------------------------'"
            ],
            "text/markdown": "'--------------------------------------------------------------'",
            "text/latex": "'--------------------------------------------------------------'"
          },
          "metadata": {}
        },
        {
          "output_type": "display_data",
          "data": {
            "text/plain": [
              "[1] \"среднее количество программ, ожидающих выполнения на сервере.\""
            ],
            "text/html": [
              "'среднее количество программ, ожидающих выполнения на сервере.'"
            ],
            "text/markdown": "'среднее количество программ, ожидающих выполнения на сервере.'",
            "text/latex": "'среднее количество программ, ожидающих выполнения на сервере.'"
          },
          "metadata": {}
        },
        {
          "output_type": "display_data",
          "data": {
            "text/plain": [
              "[1] 10.00083"
            ],
            "text/html": [
              "10.0008257690653"
            ],
            "text/markdown": "10.0008257690653",
            "text/latex": "10.0008257690653"
          },
          "metadata": {}
        },
        {
          "output_type": "display_data",
          "data": {
            "text/plain": [
              "[1] \"--------------------------------------------------------------\""
            ],
            "text/html": [
              "'--------------------------------------------------------------'"
            ],
            "text/markdown": "'--------------------------------------------------------------'",
            "text/latex": "'--------------------------------------------------------------'"
          },
          "metadata": {}
        },
        {
          "output_type": "display_data",
          "data": {
            "text/plain": [
              "[1] \"вероятность того, что программа не будет выполнена сразу же, как только она поступила на терминал\""
            ],
            "text/html": [
              "'вероятность того, что программа не будет выполнена сразу же, как только она поступила на терминал'"
            ],
            "text/markdown": "'вероятность того, что программа не будет выполнена сразу же, как только она поступила на терминал'",
            "text/latex": "'вероятность того, что программа не будет выполнена сразу же, как только она поступила на терминал'"
          },
          "metadata": {}
        },
        {
          "output_type": "display_data",
          "data": {
            "text/plain": [
              "[1] 0.999882"
            ],
            "text/html": [
              "0.999882032990665"
            ],
            "text/markdown": "0.999882032990665",
            "text/latex": "0.999882032990665"
          },
          "metadata": {}
        }
      ]
    }
  ]
}