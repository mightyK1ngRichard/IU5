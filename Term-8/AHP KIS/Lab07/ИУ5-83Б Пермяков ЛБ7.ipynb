{
  "cells": [
    {
      "cell_type": "markdown",
      "source": [
        "## Пермяков Дмитрий ИУ5-83Б\n"
      ],
      "metadata": {
        "id": "UTllRBlbII-d"
      },
      "id": "UTllRBlbII-d"
    },
    {
      "cell_type": "markdown",
      "id": "0930b58e-7229-48f1-bf09-b5d9e98dbabd",
      "metadata": {
        "id": "0930b58e-7229-48f1-bf09-b5d9e98dbabd"
      },
      "source": [
        "# Лабораторная работа 7. Управление ресурсами в однопроцессорной с неоднородными заявками, аппроксимация немарковских процессов потоками Эрланга."
      ]
    },
    {
      "cell_type": "markdown",
      "id": "812c1018-f022-4f93-b424-44d95c772e42",
      "metadata": {
        "id": "812c1018-f022-4f93-b424-44d95c772e42"
      },
      "source": [
        "## Задание 1.\n",
        "\n",
        "В однопроцессорную  систему случайным образом поступают на выполнение $m$ разных типов программ, отличающихся известной трудоемкостью $Q_1, Q_2, \\ldots, Q_m$. Входящий поток простейший с интенсивностью $\\lambda$.\n",
        "\n",
        "Представив данную систему как одноканальную СМО с неограниченной очередью, вычислить среднее время обслуживания программ, считая длительность обслуживания случайной величиной (теоретически и экспериментально) - не учитывая известные трудоемкости.\n",
        "\n",
        "Реализовать алгоритм SPT, выбирая из очереди заявки в соответствии с их приоритетом по трудоемкости. Рассчитать среднее время обслуживания программ. Сравнить полученные результаты.\n",
        "\n",
        "Реализовать алгоритм RR при заданном кванте времени $q$. Оценить среднее время обслуживания программ. Сравнить полученные результаты. Выяснить, как влияет величина кванта на среднее время обслуживания программ."
      ]
    },
    {
      "cell_type": "code",
      "execution_count": null,
      "id": "98fc2563-02e6-4c17-9fea-9f4a47c89898",
      "metadata": {
        "colab": {
          "base_uri": "https://localhost:8080/",
          "height": 179
        },
        "id": "98fc2563-02e6-4c17-9fea-9f4a47c89898",
        "outputId": "73168724-2de2-47a4-adb4-8858508f8e6b"
      },
      "outputs": [
        {
          "output_type": "display_data",
          "data": {
            "text/plain": [
              "  m  q lambda   \n",
              "1 13 2 0.4459301"
            ],
            "text/html": [
              "<table class=\"dataframe\">\n",
              "<caption>A data.frame: 1 × 3</caption>\n",
              "<thead>\n",
              "\t<tr><th scope=col>m</th><th scope=col>q</th><th scope=col>lambda</th></tr>\n",
              "\t<tr><th scope=col>&lt;int&gt;</th><th scope=col>&lt;int&gt;</th><th scope=col>&lt;dbl&gt;</th></tr>\n",
              "</thead>\n",
              "<tbody>\n",
              "\t<tr><td>13</td><td>2</td><td>0.4459301</td></tr>\n",
              "</tbody>\n",
              "</table>\n"
            ],
            "text/markdown": "\nA data.frame: 1 × 3\n\n| m &lt;int&gt; | q &lt;int&gt; | lambda &lt;dbl&gt; |\n|---|---|---|\n| 13 | 2 | 0.4459301 |\n\n",
            "text/latex": "A data.frame: 1 × 3\n\\begin{tabular}{lll}\n m & q & lambda\\\\\n <int> & <int> & <dbl>\\\\\n\\hline\n\t 13 & 2 & 0.4459301\\\\\n\\end{tabular}\n"
          },
          "metadata": {}
        },
        {
          "output_type": "stream",
          "name": "stdout",
          "text": [
            " [1]  0.9571087 10.7782044  6.1020738  4.2133438  0.5279063  2.7430176\n",
            " [7]  1.9374744  1.7874695  1.8111315  2.0270093  2.6466527  4.3566138\n",
            "[13]  2.5254399\n"
          ]
        }
      ],
      "source": [
        "Variant<-13\n",
        "set.seed(Variant+212)\n",
        "m<-sample(c(6:20),1)\n",
        "lambda<-runif(1,0.1, 2)\n",
        "Q<-rexp(m,0.3)\n",
        "q<-sample(c(1:4),1)\n",
        "View(data.frame(m,q, lambda))\n",
        "print(Q)"
      ]
    },
    {
      "cell_type": "markdown",
      "id": "3cfb50ee-65bb-492a-8469-c3f7abea1d19",
      "metadata": {
        "id": "3cfb50ee-65bb-492a-8469-c3f7abea1d19"
      },
      "source": [
        "## Задание 2."
      ]
    },
    {
      "cell_type": "markdown",
      "id": "a68be2eb-6cdf-4b98-bf33-85e299519c94",
      "metadata": {
        "id": "a68be2eb-6cdf-4b98-bf33-85e299519c94"
      },
      "source": [
        "На $N$ серверов с ограничением на длину очереди $M$ поступает поток заявок с заданным законом распределения, поток обслуживания также подчиняется заданному закону распределения.\n",
        "\n",
        "Принятые обозначения:\n",
        "\n",
        "$M$ - экспоненциальное распределение;\n",
        "\n",
        "$E_2$ - распределение Эрланга 2 порядка;\n",
        "\n",
        "$E_3$ - распределение Эрланга 3 порядка.\n",
        "\n",
        "Используя:\n",
        "- метод этапов;\n",
        "- экспериментальную модель на языке R;\n",
        "- систему моделирования дискретных событий Simmer в R;\n",
        "\n",
        "определить:\n",
        "\n",
        "- среднее время нахождения заявки в системе;\n",
        "- среднее количество заявок в системе;\n",
        "- среднее время нахождения заявки в очереди;\n",
        "- среднюю длину очереди;\n",
        "- абсолютную пропускную способность системы."
      ]
    },
    {
      "cell_type": "code",
      "execution_count": null,
      "id": "7cf28ec6-e433-4aae-8e0b-5c87c3b30437",
      "metadata": {
        "colab": {
          "base_uri": "https://localhost:8080/",
          "height": 128
        },
        "id": "7cf28ec6-e433-4aae-8e0b-5c87c3b30437",
        "outputId": "e951954c-7e09-419c-b3b0-035b9c1ada1e"
      },
      "outputs": [
        {
          "output_type": "display_data",
          "data": {
            "text/plain": [
              "  N M lambda   mu        input output\n",
              "1 4 2 1.927923 0.1207733 M     E_3   "
            ],
            "text/html": [
              "<table class=\"dataframe\">\n",
              "<caption>A data.frame: 1 × 6</caption>\n",
              "<thead>\n",
              "\t<tr><th scope=col>N</th><th scope=col>M</th><th scope=col>lambda</th><th scope=col>mu</th><th scope=col>input</th><th scope=col>output</th></tr>\n",
              "\t<tr><th scope=col>&lt;int&gt;</th><th scope=col>&lt;int&gt;</th><th scope=col>&lt;dbl&gt;</th><th scope=col>&lt;dbl&gt;</th><th scope=col>&lt;chr&gt;</th><th scope=col>&lt;chr&gt;</th></tr>\n",
              "</thead>\n",
              "<tbody>\n",
              "\t<tr><td>4</td><td>2</td><td>1.927923</td><td>0.1207733</td><td>M</td><td>E_3</td></tr>\n",
              "</tbody>\n",
              "</table>\n"
            ],
            "text/markdown": "\nA data.frame: 1 × 6\n\n| N &lt;int&gt; | M &lt;int&gt; | lambda &lt;dbl&gt; | mu &lt;dbl&gt; | input &lt;chr&gt; | output &lt;chr&gt; |\n|---|---|---|---|---|---|\n| 4 | 2 | 1.927923 | 0.1207733 | M | E_3 |\n\n",
            "text/latex": "A data.frame: 1 × 6\n\\begin{tabular}{llllll}\n N & M & lambda & mu & input & output\\\\\n <int> & <int> & <dbl> & <dbl> & <chr> & <chr>\\\\\n\\hline\n\t 4 & 2 & 1.927923 & 0.1207733 & M & E\\_3\\\\\n\\end{tabular}\n"
          },
          "metadata": {}
        }
      ],
      "source": [
        "Variant<-13\n",
        "set.seed(Variant)\n",
        "N<-sample(c(2:4),1)\n",
        "M<-sample(c(2:4),1)\n",
        "lambda<-runif(1,0.1, 2)\n",
        "mu <- runif(1,0.1, 2)\n",
        "choice <-sample(c(\"E_2\",\"E_3\"),1)\n",
        "IO<-sample(c(\"input\", \"output\"),1)\n",
        "if (IO == \"input\") {input <-choice; output <-\"M\"} else {input <-\"M\"; output <-choice}\n",
        "D<- data.frame(N, M, lambda, mu, input, output )\n",
        "View(D)"
      ]
    }
  ],
  "metadata": {
    "kernelspec": {
      "display_name": "R",
      "language": "R",
      "name": "ir"
    },
    "language_info": {
      "codemirror_mode": "r",
      "file_extension": ".r",
      "mimetype": "text/x-r-source",
      "name": "R",
      "pygments_lexer": "r",
      "version": "4.2.2"
    },
    "colab": {
      "provenance": []
    }
  },
  "nbformat": 4,
  "nbformat_minor": 5
}