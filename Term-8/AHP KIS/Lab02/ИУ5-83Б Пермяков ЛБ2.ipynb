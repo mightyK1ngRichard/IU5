{
  "nbformat": 4,
  "nbformat_minor": 0,
  "metadata": {
    "colab": {
      "provenance": []
    },
    "kernelspec": {
      "name": "ir",
      "display_name": "R"
    },
    "language_info": {
      "name": "R"
    }
  },
  "cells": [
    {
      "cell_type": "markdown",
      "source": [
        "ИУ5-83Б Пермяков Дмитрий ЛР2 КИС Вариант 13"
      ],
      "metadata": {
        "id": "b-xUPQ7YouH4"
      }
    },
    {
      "cell_type": "markdown",
      "source": [
        "#Задание 1.\n",
        "Заданы три независимые целочисленные неотрицательные случайные величины $X_1, X_2, X_3$, необходимо найти математическое ожидание, дисперсию, среднее квадратическое отклонение и коэффициент вариации случайной величины $X_1+X_2+X_3$ численно и теоретически (из определения и с использованием производящей функции).\n",
        "В таблице ниже по вариантам представлены соответствия значений случайной величины и их вероятности."
      ],
      "metadata": {
        "id": "yhlbMJ6zxvhE"
      }
    },
    {
      "cell_type": "code",
      "execution_count": null,
      "metadata": {
        "id": "Pb3KFZPHvO-U"
      },
      "outputs": [],
      "source": [
        "Variant<-13\n",
        "set.seed(Variant)\n",
        "X1<-sample(c(1:20),5)\n",
        "X2<-sample(c(3:100),5)\n",
        "X3<-sample(c(0:40),5)\n",
        "pp1<-runif(5)\n",
        "p1<-pp1/sum(pp1)\n",
        "pp2<-runif(5)\n",
        "p2<-pp2/sum(pp2)\n",
        "pp3<-runif(5)\n",
        "p3<-pp3/sum(pp3)"
      ]
    },
    {
      "cell_type": "code",
      "source": [
        "View(data.frame(X1, X2, X3, p1, p2, p3))"
      ],
      "metadata": {
        "colab": {
          "base_uri": "https://localhost:8080/",
          "height": 252
        },
        "id": "Lp0vG2gAwqAH",
        "outputId": "d25e22c2-933a-4f20-86d0-9f66f33ea6ac"
      },
      "execution_count": null,
      "outputs": [
        {
          "output_type": "display_data",
          "data": {
            "text/plain": [
              "  X1 X2 X3 p1         p2        p3        \n",
              "1  3 50 16 0.30560821 0.1217534 0.41209694\n",
              "2  5 24 14 0.05020882 0.2337225 0.27519884\n",
              "3 10  6 22 0.35879729 0.1560960 0.05466657\n",
              "4 13 66  4 0.01835962 0.1494926 0.23155858\n",
              "5  6 95 11 0.26702606 0.3389355 0.02647908"
            ],
            "text/html": [
              "<table class=\"dataframe\">\n",
              "<caption>A data.frame: 5 × 6</caption>\n",
              "<thead>\n",
              "\t<tr><th scope=col>X1</th><th scope=col>X2</th><th scope=col>X3</th><th scope=col>p1</th><th scope=col>p2</th><th scope=col>p3</th></tr>\n",
              "\t<tr><th scope=col>&lt;int&gt;</th><th scope=col>&lt;int&gt;</th><th scope=col>&lt;int&gt;</th><th scope=col>&lt;dbl&gt;</th><th scope=col>&lt;dbl&gt;</th><th scope=col>&lt;dbl&gt;</th></tr>\n",
              "</thead>\n",
              "<tbody>\n",
              "\t<tr><td> 3</td><td>50</td><td>16</td><td>0.30560821</td><td>0.1217534</td><td>0.41209694</td></tr>\n",
              "\t<tr><td> 5</td><td>24</td><td>14</td><td>0.05020882</td><td>0.2337225</td><td>0.27519884</td></tr>\n",
              "\t<tr><td>10</td><td> 6</td><td>22</td><td>0.35879729</td><td>0.1560960</td><td>0.05466657</td></tr>\n",
              "\t<tr><td>13</td><td>66</td><td> 4</td><td>0.01835962</td><td>0.1494926</td><td>0.23155858</td></tr>\n",
              "\t<tr><td> 6</td><td>95</td><td>11</td><td>0.26702606</td><td>0.3389355</td><td>0.02647908</td></tr>\n",
              "</tbody>\n",
              "</table>\n"
            ],
            "text/markdown": "\nA data.frame: 5 × 6\n\n| X1 &lt;int&gt; | X2 &lt;int&gt; | X3 &lt;int&gt; | p1 &lt;dbl&gt; | p2 &lt;dbl&gt; | p3 &lt;dbl&gt; |\n|---|---|---|---|---|---|\n|  3 | 50 | 16 | 0.30560821 | 0.1217534 | 0.41209694 |\n|  5 | 24 | 14 | 0.05020882 | 0.2337225 | 0.27519884 |\n| 10 |  6 | 22 | 0.35879729 | 0.1560960 | 0.05466657 |\n| 13 | 66 |  4 | 0.01835962 | 0.1494926 | 0.23155858 |\n|  6 | 95 | 11 | 0.26702606 | 0.3389355 | 0.02647908 |\n\n",
            "text/latex": "A data.frame: 5 × 6\n\\begin{tabular}{llllll}\n X1 & X2 & X3 & p1 & p2 & p3\\\\\n <int> & <int> & <int> & <dbl> & <dbl> & <dbl>\\\\\n\\hline\n\t  3 & 50 & 16 & 0.30560821 & 0.1217534 & 0.41209694\\\\\n\t  5 & 24 & 14 & 0.05020882 & 0.2337225 & 0.27519884\\\\\n\t 10 &  6 & 22 & 0.35879729 & 0.1560960 & 0.05466657\\\\\n\t 13 & 66 &  4 & 0.01835962 & 0.1494926 & 0.23155858\\\\\n\t  6 & 95 & 11 & 0.26702606 & 0.3389355 & 0.02647908\\\\\n\\end{tabular}\n"
          },
          "metadata": {}
        }
      ]
    },
    {
      "cell_type": "markdown",
      "source": [
        "# Теория из определения:"
      ],
      "metadata": {
        "id": "0uUaiedP14j4"
      }
    },
    {
      "cell_type": "markdown",
      "source": [
        "Найду математическое ожидание:\n",
        "$$M[X]=\\sum_{k=0}^N p_k\\cdot x_k$$  \n",
        "$$M[X_1+X_2+X_3] = M[X_1]+M[X_2]+M[X_3]$$\n"
      ],
      "metadata": {
        "id": "xUVrGCO_y9Q-"
      }
    },
    {
      "cell_type": "markdown",
      "source": [
        "Найду дисперсию:  \n",
        "$$D[X]=\\sum_{k=0}^N p_k\\cdot (x_k-M[X])^2$$\n",
        "$$D[X_1+X_2+X_3] = D[X_1]+D[X_2]+D[X_3]$$"
      ],
      "metadata": {
        "id": "Dq4mivBH1tVW"
      }
    },
    {
      "cell_type": "code",
      "source": [
        "MO1_1<-sum(X1*p1)\n",
        "MO1_2<-sum(X2*p2)\n",
        "MO1_3<-sum(X3*p3)\n",
        "MO1 <- MO1_1 + MO1_2 + MO1_3\n",
        "MO1"
      ],
      "metadata": {
        "colab": {
          "base_uri": "https://localhost:8080/",
          "height": 34
        },
        "id": "hmn75f7Ly8pn",
        "outputId": "0a2c4574-f83f-4bce-b761-d6b620465e69"
      },
      "execution_count": null,
      "outputs": [
        {
          "output_type": "display_data",
          "data": {
            "text/html": [
              "74.1621478134246"
            ],
            "text/markdown": "74.1621478134246",
            "text/latex": "74.1621478134246",
            "text/plain": [
              "[1] 74.16215"
            ]
          },
          "metadata": {}
        }
      ]
    },
    {
      "cell_type": "code",
      "source": [
        "D1_1 <- sum(p1*(X1-MO1_1)^2)\n",
        "D1_2 <- sum(p2*(X2-MO1_2)^2)\n",
        "D1_3 <- sum(p3*(X3-MO1_3)^2)\n",
        "D1 <- D1_1 + D1_2 + D1_3\n",
        "D1"
      ],
      "metadata": {
        "colab": {
          "base_uri": "https://localhost:8080/",
          "height": 34
        },
        "id": "NEJguM652M72",
        "outputId": "bb4db727-84af-4522-bcf9-862c31792694"
      },
      "execution_count": null,
      "outputs": [
        {
          "output_type": "display_data",
          "data": {
            "text/html": [
              "1199.07377494861"
            ],
            "text/markdown": "1199.07377494861",
            "text/latex": "1199.07377494861",
            "text/plain": [
              "[1] 1199.074"
            ]
          },
          "metadata": {}
        }
      ]
    },
    {
      "cell_type": "markdown",
      "source": [
        "Найду среднеквадратическое отклонение:\n",
        "$$\\sigma = \\sqrt{D[X]}$$"
      ],
      "metadata": {
        "id": "OaPuZSN76pIy"
      }
    },
    {
      "cell_type": "markdown",
      "source": [
        "Найду коэффициент вариации:\n",
        "$$c_v = \\frac{\\sigma}{μ} \\cdot 100 \\% $$\n"
      ],
      "metadata": {
        "id": "mFVoa1-L7Xla"
      }
    },
    {
      "cell_type": "code",
      "source": [
        "SD1 = sqrt(D1)\n",
        "SD1"
      ],
      "metadata": {
        "colab": {
          "base_uri": "https://localhost:8080/",
          "height": 34
        },
        "id": "KUlZ69jh7UzL",
        "outputId": "6d0bda88-0bfb-4169-dee4-144269faaf4b"
      },
      "execution_count": null,
      "outputs": [
        {
          "output_type": "display_data",
          "data": {
            "text/html": [
              "34.627644663601"
            ],
            "text/markdown": "34.627644663601",
            "text/latex": "34.627644663601",
            "text/plain": [
              "[1] 34.62764"
            ]
          },
          "metadata": {}
        }
      ]
    },
    {
      "cell_type": "code",
      "source": [
        "COV1 = (SD1 / MO1) * 100\n",
        "COV1"
      ],
      "metadata": {
        "colab": {
          "base_uri": "https://localhost:8080/",
          "height": 34
        },
        "id": "tWwh-8sE-F7M",
        "outputId": "a19ee410-61d4-4002-fb2d-09cdfcb61b48"
      },
      "execution_count": null,
      "outputs": [
        {
          "output_type": "display_data",
          "data": {
            "text/html": [
              "46.6918039519519"
            ],
            "text/markdown": "46.6918039519519",
            "text/latex": "46.6918039519519",
            "text/plain": [
              "[1] 46.6918"
            ]
          },
          "metadata": {}
        }
      ]
    },
    {
      "cell_type": "code",
      "source": [
        "print(MO1)\n",
        "print(D1)\n",
        "print(SD1)\n",
        "print(COV1)"
      ],
      "metadata": {
        "colab": {
          "base_uri": "https://localhost:8080/"
        },
        "id": "OdjqpVX-FUE_",
        "outputId": "16e4c5e1-927e-4da6-fa1f-03dca47ecc36"
      },
      "execution_count": null,
      "outputs": [
        {
          "output_type": "stream",
          "name": "stdout",
          "text": [
            "[1] 74.16215\n",
            "[1] 1199.074\n",
            "[1] 34.62764\n",
            "[1] 46.6918\n"
          ]
        }
      ]
    },
    {
      "cell_type": "markdown",
      "source": [
        "# Теория с использованием производящей функции:"
      ],
      "metadata": {
        "id": "7OoITh7V7USZ"
      }
    },
    {
      "cell_type": "markdown",
      "source": [
        "Производящая функция считается по формуле:\n",
        "$$P_{\\zeta}(z)=\\sum_{n=0}^\\infty p_nz^n$$"
      ],
      "metadata": {
        "id": "5VYuls1L-19T"
      }
    },
    {
      "cell_type": "markdown",
      "source": [
        "$$ P_{X_1}(z) = p_{11} \\cdot z^{3} + p_{12} \\cdot z^{5} + p_{13} \\cdot z^{10} + p_{14} \\cdot z^{13} + p_{15} \\cdot z^{6} \\\\  \n",
        "P_{X_2}(z) = p_{21} \\cdot z^{50} + p_{22} \\cdot z^{24} + p_{23} \\cdot z^{6} + p_{24} \\cdot z^{66} + p_{25} \\cdot z^{95} \\\\  \n",
        "P_{X_3}(z) = p_{31} \\cdot z^{16} + p_{32} \\cdot z^{14} + p_{33} \\cdot z^{22} + p_{44} \\cdot z^{4} + p_{45} \\cdot z^{11} $$  \n",
        "По свойству производящих функций:  \n",
        "$$ P_X(z) = P_{X_1+X_2+X_3}(z) = P_{X_1}(z) \\cdot P_{X_2}(z) \\cdot P_{X_3}(z) $$"
      ],
      "metadata": {
        "id": "brHuGLJ8rHq-"
      }
    },
    {
      "cell_type": "code",
      "source": [
        "PX1 <- \"\"; PX2 <- \"\"; PX3 <- \"\"\n",
        "for (i in c(1:length(X1))) {\n",
        "    PX1<-paste(PX1, \"+\", toString(p1[i]), \"* z^\", toString(X1[i]))\n",
        "    PX2<-paste(PX2, \"+\", toString(p2[i]), \"* z^\", toString(X2[i]))\n",
        "    PX3<-paste(PX3, \"+\", toString(p3[i]), \"* z^\", toString(X3[i]))\n",
        "}"
      ],
      "metadata": {
        "id": "2KNESRr8pfFK"
      },
      "execution_count": null,
      "outputs": []
    },
    {
      "cell_type": "code",
      "source": [
        "PX<-paste(\"(\",PX1,\") *\",\"(\",PX2,\") *\",\"(\",PX3,\")\")\n",
        "PX"
      ],
      "metadata": {
        "colab": {
          "base_uri": "https://localhost:8080/",
          "height": 51
        },
        "id": "Z76BJWMkvCTP",
        "outputId": "20ca5cce-d018-4891-f247-6276198f14be"
      },
      "execution_count": null,
      "outputs": [
        {
          "output_type": "display_data",
          "data": {
            "text/html": [
              "<span style=white-space:pre-wrap>'(  + 0.30560820882601 * z^ 3 + 0.0502088249538088 * z^ 5 + 0.358797286326261 * z^ 10 + 0.0183596161579727 * z^ 13 + 0.267026063735947 * z^ 6 ) * (  + 0.121753412868981 * z^ 50 + 0.233722506871615 * z^ 24 + 0.15609596116032 * z^ 6 + 0.149492636633038 * z^ 66 + 0.338935482466047 * z^ 95 ) * (  + 0.412096936229996 * z^ 16 + 0.275198838712963 * z^ 14 + 0.054666567589847 * z^ 22 + 0.231558580245182 * z^ 4 + 0.0264790772220121 * z^ 11 )'</span>"
            ],
            "text/markdown": "<span style=white-space:pre-wrap>'(  + 0.30560820882601 * z^ 3 + 0.0502088249538088 * z^ 5 + 0.358797286326261 * z^ 10 + 0.0183596161579727 * z^ 13 + 0.267026063735947 * z^ 6 ) * (  + 0.121753412868981 * z^ 50 + 0.233722506871615 * z^ 24 + 0.15609596116032 * z^ 6 + 0.149492636633038 * z^ 66 + 0.338935482466047 * z^ 95 ) * (  + 0.412096936229996 * z^ 16 + 0.275198838712963 * z^ 14 + 0.054666567589847 * z^ 22 + 0.231558580245182 * z^ 4 + 0.0264790772220121 * z^ 11 )'</span>",
            "text/latex": "'(  + 0.30560820882601 * z\\textasciicircum{} 3 + 0.0502088249538088 * z\\textasciicircum{} 5 + 0.358797286326261 * z\\textasciicircum{} 10 + 0.0183596161579727 * z\\textasciicircum{} 13 + 0.267026063735947 * z\\textasciicircum{} 6 ) * (  + 0.121753412868981 * z\\textasciicircum{} 50 + 0.233722506871615 * z\\textasciicircum{} 24 + 0.15609596116032 * z\\textasciicircum{} 6 + 0.149492636633038 * z\\textasciicircum{} 66 + 0.338935482466047 * z\\textasciicircum{} 95 ) * (  + 0.412096936229996 * z\\textasciicircum{} 16 + 0.275198838712963 * z\\textasciicircum{} 14 + 0.054666567589847 * z\\textasciicircum{} 22 + 0.231558580245182 * z\\textasciicircum{} 4 + 0.0264790772220121 * z\\textasciicircum{} 11 )'",
            "text/plain": [
              "[1] \"(  + 0.30560820882601 * z^ 3 + 0.0502088249538088 * z^ 5 + 0.358797286326261 * z^ 10 + 0.0183596161579727 * z^ 13 + 0.267026063735947 * z^ 6 ) * (  + 0.121753412868981 * z^ 50 + 0.233722506871615 * z^ 24 + 0.15609596116032 * z^ 6 + 0.149492636633038 * z^ 66 + 0.338935482466047 * z^ 95 ) * (  + 0.412096936229996 * z^ 16 + 0.275198838712963 * z^ 14 + 0.054666567589847 * z^ 22 + 0.231558580245182 * z^ 4 + 0.0264790772220121 * z^ 11 )\""
            ]
          },
          "metadata": {}
        }
      ]
    },
    {
      "cell_type": "markdown",
      "source": [
        "Математическое ожидание:\n",
        "$$M[X] = M[X_1+X_2+X_3] = P'_X(z)|_{z=1}$$"
      ],
      "metadata": {
        "id": "EjCLFQRto_wV"
      }
    },
    {
      "cell_type": "markdown",
      "source": [
        "Дисперсия:\n",
        "$$D[X] = D[X_1+X_2+X_3] = P''_X(z)|_{z=1}+P'_X(z)|_{z=1}-(P'_X(z))^2|_{z=1}$$"
      ],
      "metadata": {
        "id": "GTGpPaLA0jcd"
      }
    },
    {
      "cell_type": "code",
      "source": [
        "D_PX<-function(z){eval(D(parse(text=PX),\"z\"))}\n",
        "D_PX"
      ],
      "metadata": {
        "colab": {
          "base_uri": "https://localhost:8080/",
          "height": 85
        },
        "id": "79r-M-ZvGiSS",
        "outputId": "3997b4de-9374-4204-c90f-f15fede0444b"
      },
      "execution_count": null,
      "outputs": [
        {
          "output_type": "display_data",
          "data": {
            "text/html": [
              "<pre class=language-r><code>function (z) \n",
              "{\n",
              "<span style=white-space:pre-wrap>    eval(D(parse(text = PX), \"z\"))</span>\n",
              "}</code></pre>"
            ],
            "text/markdown": "```r\nfunction (z) \n{\n    eval(D(parse(text = PX), \"z\"))\n}\n```",
            "text/latex": "\\begin{minted}{r}\nfunction (z) \n\\{\n    eval(D(parse(text = PX), \"z\"))\n\\}\n\\end{minted}",
            "text/plain": [
              "function (z) \n",
              "{\n",
              "    eval(D(parse(text = PX), \"z\"))\n",
              "}"
            ]
          },
          "metadata": {}
        }
      ]
    },
    {
      "cell_type": "markdown",
      "source": [
        "Мат. ожидание:"
      ],
      "metadata": {
        "id": "Rqx5l8T4HXgv"
      }
    },
    {
      "cell_type": "code",
      "source": [
        "MO1_PX <- D_PX(1)\n",
        "MO1_PX"
      ],
      "metadata": {
        "colab": {
          "base_uri": "https://localhost:8080/",
          "height": 34
        },
        "id": "few4awGxGugQ",
        "outputId": "f058e423-6c10-40e8-f813-a0b819dbc0ee"
      },
      "execution_count": null,
      "outputs": [
        {
          "output_type": "display_data",
          "data": {
            "text/html": [
              "74.1621478134246"
            ],
            "text/markdown": "74.1621478134246",
            "text/latex": "74.1621478134246",
            "text/plain": [
              "[1] 74.16215"
            ]
          },
          "metadata": {}
        }
      ]
    },
    {
      "cell_type": "code",
      "source": [
        "DD <- function(expr, name, order = 1) {\n",
        "   if(order < 1) stop(\"'order' must be >= 1\")\n",
        "   if(order == 1) D(expr, name)\n",
        "   else DD(D(expr, name), name, order - 1)\n",
        "}"
      ],
      "metadata": {
        "id": "UDlso_i_G13V"
      },
      "execution_count": null,
      "outputs": []
    },
    {
      "cell_type": "code",
      "source": [
        "DD_PX<-function(z){eval(DD(parse(text=PX),\"z\",2))}\n",
        "DD_PX"
      ],
      "metadata": {
        "colab": {
          "base_uri": "https://localhost:8080/",
          "height": 85
        },
        "id": "3WEZo5UTG5WI",
        "outputId": "80fe9e67-0758-456a-9350-f6c294b5a20e"
      },
      "execution_count": null,
      "outputs": [
        {
          "output_type": "display_data",
          "data": {
            "text/html": [
              "<pre class=language-r><code>function (z) \n",
              "{\n",
              "<span style=white-space:pre-wrap>    eval(DD(parse(text = PX), \"z\", 2))</span>\n",
              "}</code></pre>"
            ],
            "text/markdown": "```r\nfunction (z) \n{\n    eval(DD(parse(text = PX), \"z\", 2))\n}\n```",
            "text/latex": "\\begin{minted}{r}\nfunction (z) \n\\{\n    eval(DD(parse(text = PX), \"z\", 2))\n\\}\n\\end{minted}",
            "text/plain": [
              "function (z) \n",
              "{\n",
              "    eval(DD(parse(text = PX), \"z\", 2))\n",
              "}"
            ]
          },
          "metadata": {}
        }
      ]
    },
    {
      "cell_type": "markdown",
      "source": [
        "Дисперсия:"
      ],
      "metadata": {
        "id": "Qo6lCB_WHbEb"
      }
    },
    {
      "cell_type": "code",
      "source": [
        "D1_PX <- DD_PX(1)+D_PX(1)-(D_PX(1))^2\n",
        "D1_PX"
      ],
      "metadata": {
        "colab": {
          "base_uri": "https://localhost:8080/",
          "height": 34
        },
        "id": "kHueeKVtG-0D",
        "outputId": "8067e2bb-c27f-4a66-e189-621a8b316c57"
      },
      "execution_count": null,
      "outputs": [
        {
          "output_type": "display_data",
          "data": {
            "text/html": [
              "1199.07377494861"
            ],
            "text/markdown": "1199.07377494861",
            "text/latex": "1199.07377494861",
            "text/plain": [
              "[1] 1199.074"
            ]
          },
          "metadata": {}
        }
      ]
    },
    {
      "cell_type": "markdown",
      "source": [
        "Среднеквадратическое отклонение:"
      ],
      "metadata": {
        "id": "cCZ7ZLN_5Atq"
      }
    },
    {
      "cell_type": "code",
      "source": [
        "SD1_PX <- sqrt(1199.07377494861)\n",
        "SD1_PX"
      ],
      "metadata": {
        "id": "Nm0AgTVv49SK",
        "colab": {
          "base_uri": "https://localhost:8080/",
          "height": 34
        },
        "outputId": "e0638ecc-6bf7-45b5-d30a-d32e23adfcc0"
      },
      "execution_count": null,
      "outputs": [
        {
          "output_type": "display_data",
          "data": {
            "text/html": [
              "34.6276446636009"
            ],
            "text/markdown": "34.6276446636009",
            "text/latex": "34.6276446636009",
            "text/plain": [
              "[1] 34.62764"
            ]
          },
          "metadata": {}
        }
      ]
    },
    {
      "cell_type": "markdown",
      "source": [
        "Коэффициент вариации:"
      ],
      "metadata": {
        "id": "DS8L2u_n5Krj"
      }
    },
    {
      "cell_type": "code",
      "source": [
        "COV1_PX <- 34.6276446636009 / 74.1621478134246 * 100\n",
        "COV1_PX"
      ],
      "metadata": {
        "id": "eU_mwkxZ5K_e",
        "colab": {
          "base_uri": "https://localhost:8080/",
          "height": 34
        },
        "outputId": "20c7e5c8-3b1c-4fd8-cb76-d2f5a100c4f6"
      },
      "execution_count": null,
      "outputs": [
        {
          "output_type": "display_data",
          "data": {
            "text/html": [
              "46.6918039519518"
            ],
            "text/markdown": "46.6918039519518",
            "text/latex": "46.6918039519518",
            "text/plain": [
              "[1] 46.6918"
            ]
          },
          "metadata": {}
        }
      ]
    },
    {
      "cell_type": "code",
      "source": [
        "print(MO1_PX)\n",
        "print(D1_PX)\n",
        "print(SD1_PX)\n",
        "print(COV1_PX)"
      ],
      "metadata": {
        "colab": {
          "base_uri": "https://localhost:8080/"
        },
        "id": "8N3UkTyYHhW_",
        "outputId": "379b7542-f5ab-4bff-b590-5d351a25715c"
      },
      "execution_count": null,
      "outputs": [
        {
          "output_type": "stream",
          "name": "stdout",
          "text": [
            "[1] 74.16215\n",
            "[1] 1199.074\n",
            "[1] 34.62764\n",
            "[1] 46.6918\n"
          ]
        }
      ]
    },
    {
      "cell_type": "markdown",
      "source": [
        "#Экспериментальные вычисления"
      ],
      "metadata": {
        "id": "F8ev2KE85tdV"
      }
    },
    {
      "cell_type": "code",
      "source": [
        "N<-100000\n",
        "XX1<-c()\n",
        "XX2<-c()\n",
        "XX3<-c()\n",
        "for (i in c(1:N)){\n",
        "    f<-runif(1)\n",
        "    pp<-0; ppp<-p1[1]\n",
        "    for (j in c(1:length(p1))){\n",
        "        if ((f>pp) & (f<=ppp)) XX1<-c(XX1,X1[j])\n",
        "        if (j != length(p1)) pp<-ppp; ppp<-ppp+p1[j+1]}\n",
        "    f<-runif(1)\n",
        "    pp<-0; ppp<-p2[1]\n",
        "    for (j in c(1:length(p2))){\n",
        "        if ((f>pp) & (f<=ppp)) XX2<-c(XX2,X2[j])\n",
        "        if (j != length(p2)) pp<-ppp; ppp<-ppp+p2[j+1]}\n",
        "    f<-runif(1)\n",
        "    pp<-0; ppp<-p3[1]\n",
        "    for (j in c(1:length(p3))){\n",
        "        if ((f>pp) & (f<=ppp)) XX3<-c(XX3,X3[j])\n",
        "        if (j != length(p3)) pp<-ppp; ppp<-ppp+p3[j+1]}\n",
        "    }\n",
        "print(mean(XX1+XX2+XX3))\n",
        "print((sd(XX1+XX2+XX3))^2)\n",
        "print(sd(XX1+XX2+XX3))\n",
        "print(sd(XX1+XX2+XX3)/mean(XX1+XX2+XX3)*100)"
      ],
      "metadata": {
        "colab": {
          "base_uri": "https://localhost:8080/"
        },
        "id": "npj-LNvR52dE",
        "outputId": "c4e71f74-1810-46d0-8d53-aaeaadaff509"
      },
      "execution_count": null,
      "outputs": [
        {
          "output_type": "stream",
          "name": "stdout",
          "text": [
            "[1] 74.28439\n",
            "[1] 1196.602\n",
            "[1] 34.59193\n",
            "[1] 46.56689\n"
          ]
        }
      ]
    },
    {
      "cell_type": "markdown",
      "source": [
        "#Задание 2.\n",
        "\n",
        "Заданы три независимые целочисленные неотрицательные случайные величины $X_1$, $X_2$, $X_3$, распределенные по закону Пуассона, необходимо найти математическое ожидание, дисперсию, среднее квадратическое отклонение и коэффициент вариации случайной величины $X_1$ + $X_2$ + $X_3$ численно и теоретически. Параметры закона Пуассона для $X_1$, $X_2$, $X_3$ определить в соответствии с вариантом."
      ],
      "metadata": {
        "id": "I79VIcrUBYrc"
      }
    },
    {
      "cell_type": "code",
      "source": [
        "Variant<-13\n",
        "set.seed(Variant)\n",
        "runif(3)"
      ],
      "metadata": {
        "colab": {
          "base_uri": "https://localhost:8080/",
          "height": 34
        },
        "id": "_zwhhi8nFe_U",
        "outputId": "0c81571b-be36-43fe-9abe-05e42de0f047"
      },
      "execution_count": null,
      "outputs": [
        {
          "output_type": "display_data",
          "data": {
            "text/html": [
              "<style>\n",
              ".list-inline {list-style: none; margin:0; padding: 0}\n",
              ".list-inline>li {display: inline-block}\n",
              ".list-inline>li:not(:last-child)::after {content: \"\\00b7\"; padding: 0 .5ex}\n",
              "</style>\n",
              "<ol class=list-inline><li>0.710322446655482</li><li>0.246137301670387</li><li>0.389634444611147</li></ol>\n"
            ],
            "text/markdown": "1. 0.710322446655482\n2. 0.246137301670387\n3. 0.389634444611147\n\n\n",
            "text/latex": "\\begin{enumerate*}\n\\item 0.710322446655482\n\\item 0.246137301670387\n\\item 0.389634444611147\n\\end{enumerate*}\n",
            "text/plain": [
              "[1] 0.7103224 0.2461373 0.3896344"
            ]
          },
          "metadata": {}
        }
      ]
    },
    {
      "cell_type": "markdown",
      "source": [
        "#Теория:"
      ],
      "metadata": {
        "id": "t5KnDVwoMf90"
      }
    },
    {
      "cell_type": "markdown",
      "source": [
        "Производящие функции:\n",
        "$$P_{X_1}(z) = \\sum_{n=0}^\\infty p_n^{X_1} z^n=\\sum_{n=0}^\\infty\\frac{(\\lambda_1 t)^n}{n!}e^{-\\lambda t}z^n=e^{-\\lambda_1 t}\\cdot e^{\\lambda_1 t z}=e^{-\\lambda_1 t(1-z)}$$\n",
        "$$P_{X_2}(z) = e^{-\\lambda_2 t(1-z)}$$\n",
        "$$P_{X_3}(z) = e^{-\\lambda_3 t(1-z)}$$"
      ],
      "metadata": {
        "id": "vgLKcQnZGiJV"
      }
    },
    {
      "cell_type": "markdown",
      "source": [
        "По свойству производящих функций:\n",
        "$$P_{X_1+X_2+X_3}(z) = P_X(z) = e^{-\\lambda_1 t(1-z)}\\cdot e^{-\\lambda_2 t(1-z)}\\cdot e^{-\\lambda_3 t(1-z)}=e^{-(\\lambda_1+\\lambda_2+\\lambda_3) t(1-z)}$$"
      ],
      "metadata": {
        "id": "vu7rF8gWInNZ"
      }
    },
    {
      "cell_type": "markdown",
      "source": [
        "Математическое ожидание:\n",
        "$$M[X] = P_X'(z)|_{z=1} = ((\\lambda_1+\\lambda_2+\\lambda_3) t\\cdot e^{-(\\lambda_1+\\lambda_2+\\lambda_3) t(1-z)})|_{z=1} = (\\lambda_1+\\lambda_2+\\lambda_3) t$$"
      ],
      "metadata": {
        "id": "rw-RrRXVJnxS"
      }
    },
    {
      "cell_type": "markdown",
      "source": [
        "Дисперсия:\n",
        "$$ D(X) = P_X''(z)|_{z=1}+P_X'(z)|_{z=1}-(P_X'(z)|_{z=1})^2 $$  \n",
        "$$ P_X''(z)|_{z=1} = (\\lambda_1+\\lambda_2+\\lambda_3)^2 t^2\\cdot e^{-(\\lambda_1+\\lambda_2+\\lambda_3) t(1-z)}|_{z=1} = (\\lambda_1+\\lambda_2+\\lambda_3)^2 t^2 $$  \n",
        "$$ D(X) = (\\lambda_1+\\lambda_2+\\lambda_3)^2 t^2+(\\lambda_1+\\lambda_2+\\lambda_3) t-(\\lambda_1+\\lambda_2+\\lambda_3)^2 t^2=(\\lambda_1+\\lambda_2+\\lambda_3) t $$"
      ],
      "metadata": {
        "id": "4BIn4vv0KUFg"
      }
    },
    {
      "cell_type": "code",
      "source": [
        "lambda1 <- 0.710322446655482\n",
        "lambda2 <- 0.246137301670387\n",
        "lambda3 <- 0.389634444611147\n",
        "t = 2"
      ],
      "metadata": {
        "id": "FcolwfnfLyM5"
      },
      "execution_count": null,
      "outputs": []
    },
    {
      "cell_type": "code",
      "source": [
        "MO2 <- (lambda1+lambda2+lambda3)*t\n",
        "D2 <- MO2"
      ],
      "metadata": {
        "id": "s5DgfJVpNHHL"
      },
      "execution_count": null,
      "outputs": []
    },
    {
      "cell_type": "code",
      "source": [
        "SD2 <- sqrt(D2)\n",
        "SD2"
      ],
      "metadata": {
        "colab": {
          "base_uri": "https://localhost:8080/",
          "height": 34
        },
        "id": "Pgpg_F7-NltZ",
        "outputId": "362dae45-6616-46ba-abb6-6ce14d9c240e"
      },
      "execution_count": null,
      "outputs": [
        {
          "output_type": "display_data",
          "data": {
            "text/html": [
              "1.64078895226474"
            ],
            "text/markdown": "1.64078895226474",
            "text/latex": "1.64078895226474",
            "text/plain": [
              "[1] 1.640789"
            ]
          },
          "metadata": {}
        }
      ]
    },
    {
      "cell_type": "code",
      "source": [
        "COV2 = SD2 / MO2 * 100\n",
        "COV2"
      ],
      "metadata": {
        "colab": {
          "base_uri": "https://localhost:8080/",
          "height": 34
        },
        "id": "3rhuRUixNujU",
        "outputId": "a0718165-5aae-419a-c767-8c2fc7a919d4"
      },
      "execution_count": null,
      "outputs": [
        {
          "output_type": "display_data",
          "data": {
            "text/html": [
              "60.9462904183822"
            ],
            "text/markdown": "60.9462904183822",
            "text/latex": "60.9462904183822",
            "text/plain": [
              "[1] 60.94629"
            ]
          },
          "metadata": {}
        }
      ]
    },
    {
      "cell_type": "code",
      "source": [
        "print(MO2)\n",
        "print(SD2)\n",
        "print(COV2)"
      ],
      "metadata": {
        "colab": {
          "base_uri": "https://localhost:8080/"
        },
        "id": "TnJOHRx8Ja1s",
        "outputId": "493d53bd-f3ad-4f5e-9431-95d38a8aea81"
      },
      "execution_count": null,
      "outputs": [
        {
          "output_type": "stream",
          "name": "stdout",
          "text": [
            "[1] 2.692188\n",
            "[1] 1.640789\n",
            "[1] 60.94629\n"
          ]
        }
      ]
    },
    {
      "cell_type": "markdown",
      "source": [
        "#Экспериментальное вычисление:"
      ],
      "metadata": {
        "id": "MqxkFPClOWvo"
      }
    },
    {
      "cell_type": "code",
      "source": [
        "N<-10000000\n",
        "X1<-rpois(N, lambda1*t)\n",
        "X2<-rpois(N, lambda2*t)\n",
        "X3<-rpois(N, lambda3*t)\n",
        "X<-X1+X2+X3\n",
        "print(mean(X))\n",
        "print((sd(X))^2)\n",
        "print(sd(X))\n",
        "print(sd(X)/mean(X)*100)"
      ],
      "metadata": {
        "colab": {
          "base_uri": "https://localhost:8080/"
        },
        "id": "0md7efgIN9XK",
        "outputId": "db9b9571-b5a3-4a4d-b049-4bb1950e9374"
      },
      "execution_count": null,
      "outputs": [
        {
          "output_type": "stream",
          "name": "stdout",
          "text": [
            "[1] 2.693\n",
            "[1] 2.692279\n",
            "[1] 1.640817\n",
            "[1] 60.92894\n"
          ]
        }
      ]
    },
    {
      "cell_type": "markdown",
      "source": [
        "#Задание 3.\n",
        "Обработка сообщения в специализированной ВС осуществляется $K$ последовательными программами. Длительность работы каждой программы представляет собой случайную величину, распределенную экспоненциально со средним значением $T = \\frac {1}{λ}$. Найти преобразование Лапласа-Стилтьеса распределения длительности обработки сообщения в ВС, его математическое ожидание и дисперсию. Также построить модель и провести численный расчет."
      ],
      "metadata": {
        "id": "ZaoSEaAOP-_A"
      }
    },
    {
      "cell_type": "code",
      "source": [
        "Variant<-13\n",
        "alpha<-runif(7)[7]\n",
        "alpha"
      ],
      "metadata": {
        "colab": {
          "base_uri": "https://localhost:8080/",
          "height": 34
        },
        "id": "raDUrtDdSLwH",
        "outputId": "33a76be0-a8fc-45f7-861f-4d25d8fdbf00"
      },
      "execution_count": null,
      "outputs": [
        {
          "output_type": "display_data",
          "data": {
            "text/html": [
              "0.38803742476739"
            ],
            "text/markdown": "0.38803742476739",
            "text/latex": "0.38803742476739",
            "text/plain": [
              "[1] 0.3880374"
            ]
          },
          "metadata": {}
        }
      ]
    },
    {
      "cell_type": "markdown",
      "source": [
        "# Теория:"
      ],
      "metadata": {
        "id": "VqWuOSgwjlvL"
      }
    },
    {
      "cell_type": "markdown",
      "source": [
        "Экспоненциальное распределение случайной величины:\n",
        "$$ F(t)=1-e^{-\\lambda t}, t>0 $$"
      ],
      "metadata": {
        "id": "xQe5aoKTXwr2"
      }
    },
    {
      "cell_type": "markdown",
      "source": [
        "Плотность вероятности:\n",
        "$$f(t)=F'(t)=\\lambda e^{-\\lambda t}$$"
      ],
      "metadata": {
        "id": "u_0SMoZtYBd5"
      }
    },
    {
      "cell_type": "markdown",
      "source": [
        "Преобразование Лапласа-Стилтьеса для случайной величины $t_i$ длительности работы $i$-й программы:\n",
        "$$  \\beta_i(s) = \\int_0^\\infty e^{-st}dF(t) = \\int_0^\\infty e^{-st}f(t)dt = \\int_0^\\infty e^{-st}\\lambda\\cdot e^{-\\lambda t}dt = \\lambda\\cdot \\int_0^\\infty e^{-(s+\\lambda)t}dt=\\frac{\\lambda}{s+\\lambda}$$"
      ],
      "metadata": {
        "id": "-_WfTI4oY2iR"
      }
    },
    {
      "cell_type": "markdown",
      "source": [
        "Поскольку непрерывная случайная величина определяется как сумма случайных величин, то:\n",
        "$$ \\beta(s) = \\beta_1(s) + \\beta_2(s) + ... + \\beta_k(s) = \\left (\\frac {\\lambda}{s+\\lambda}\\right)^k = \\frac{\\lambda^k}{(s+\\lambda)^k}$$"
      ],
      "metadata": {
        "id": "VQ8a15xRd7iG"
      }
    },
    {
      "cell_type": "markdown",
      "source": [
        "Найдём математическое ожидание:\n",
        "$$M[t] = -\\beta'(s)|_{s=0} = -\\left(-k\\cdot \\frac{\\lambda^k}{(s+\\lambda)^{k+1}}\\right)|_{s=0} = \\frac {k}{λ}$$"
      ],
      "metadata": {
        "id": "MXVUi4uThMaa"
      }
    },
    {
      "cell_type": "markdown",
      "metadata": {
        "id": "1e4e52c0-720a-47a5-b310-153494bc4e34"
      },
      "source": [
        "Найдем дисперсию:\n",
        "$$\\beta''(s)=k(k+1)\\cdot \\frac{\\lambda^k}{(s+\\lambda)^{k+2}}$$\n",
        "$$D(t)=\\beta''(0)-\\left(\\beta'(0)\\right)^2$$\n",
        "$$D(t)=\\frac{k(k+1)}{\\lambda^2}-\\frac{k^2}{\\lambda^2}=\\frac{k}{\\lambda^2}$$"
      ]
    },
    {
      "cell_type": "code",
      "source": [
        "k = 5\n",
        "lambda = 0.38803742476739\n",
        "print(k/lambda)\n",
        "print(k/lambda^2)"
      ],
      "metadata": {
        "colab": {
          "base_uri": "https://localhost:8080/"
        },
        "id": "lYsbQzMXcSod",
        "outputId": "a8c13b9b-a1fe-4268-c4de-18a9a3e7c63f"
      },
      "execution_count": null,
      "outputs": [
        {
          "output_type": "stream",
          "name": "stdout",
          "text": [
            "[1] 12.88536\n",
            "[1] 33.20648\n"
          ]
        }
      ]
    },
    {
      "cell_type": "markdown",
      "source": [
        "#Эксперимент:"
      ],
      "metadata": {
        "id": "R7dPsimWp1sA"
      }
    },
    {
      "cell_type": "code",
      "source": [
        "N<-100000\n",
        "X<-c()\n",
        "\n",
        "for (i in c(1:N)) {\n",
        "    X<-c(X,sum(rexp(k, lambda)))\n",
        "}\n",
        "\n",
        "print(mean(X))\n",
        "print((sd(X))^2)"
      ],
      "metadata": {
        "colab": {
          "base_uri": "https://localhost:8080/"
        },
        "id": "uhqrDqe0p4Oc",
        "outputId": "8aeac4fe-b7f3-40b8-c459-cc62bd0df9f1"
      },
      "execution_count": null,
      "outputs": [
        {
          "output_type": "stream",
          "name": "stdout",
          "text": [
            "[1] 12.86156\n",
            "[1] 33.13698\n"
          ]
        }
      ]
    },
    {
      "cell_type": "markdown",
      "source": [
        "#Задание 4.\n",
        "Доказать, что сумма величин, распределенных по закону Пуассона с параметрами\n",
        "$\\alpha_1, \\alpha_2,...,$ распределена по закону Пуассона, также обосновать это экспериментально."
      ],
      "metadata": {
        "id": "LwWbPeJ6rLpc"
      }
    },
    {
      "cell_type": "markdown",
      "source": [
        "#Теория:"
      ],
      "metadata": {
        "id": "QidcPirH39qA"
      }
    },
    {
      "cell_type": "markdown",
      "source": [
        "Из задания 2:\n",
        "$$P_{X}(z) = \\sum_{n=0}^\\infty p_n^{X} z^n=\\sum_{n=0}^\\infty\\frac{(\\lambda t)^n}{n!}e^{-\\lambda t}z^n=e^{-\\lambda t}\\cdot e^{\\lambda t z}=e^{-\\lambda t(1-z)}$$"
      ],
      "metadata": {
        "id": "UG_NN3ybzPm4"
      }
    },
    {
      "cell_type": "markdown",
      "source": [
        "При $k = 3$:\n",
        "\n",
        "$$P_{X_1+X_2+X_3}(z) = P_X(z) = e^{-\\lambda_1 t(1-z)}\\cdot e^{-\\lambda_2 t(1-z)}\\cdot e^{-\\lambda_3 t(1-z)}=e^{-(\\lambda_1+\\lambda_2+\\lambda_3) t(1-z)}$$\n",
        "\n",
        "И это соответствует производящей функции, распределённой по закону Пуассона с параметром $\\lambda_1$ + $\\lambda_2$ + $\\lambda_3$."
      ],
      "metadata": {
        "id": "XPq-NWWPzztD"
      }
    },
    {
      "cell_type": "markdown",
      "source": [
        "Это можно представить как:\n",
        "$$ P_X(z) = e^{-\\left(\\sum\\limits_{i=1}^k \\lambda_i\\right)\\cdot t(1-z)} = \\sum_{n=0}^\\infty p_nz^n $$"
      ],
      "metadata": {
        "id": "-0bgIzOE1P8y"
      }
    },
    {
      "cell_type": "markdown",
      "source": [
        "Если взять $\\sum_\\limits {i=1}^k \\lambda_i = \\lambda$, то:\n",
        "$$ e^{-\\lambda\\cdot t\\cdot (1-z)} = \\sum_{n=0}^\\infty\\frac{(\\lambda t)^n}{n!}e^{-\\lambda t}z^n\\Rightarrow p_n=\\frac{(\\lambda t)^n}{n!}e^{-\\lambda t} $$"
      ],
      "metadata": {
        "id": "tm437Mw_2IYv"
      }
    },
    {
      "cell_type": "markdown",
      "source": [
        "Математическое ожидание и дисперсия:\n",
        "$$M(X)=D(X) = \\left(\\sum_{i=1}^k \\lambda_i\\right) \\cdot t = \\lambda t$$"
      ],
      "metadata": {
        "id": "37fRZ-B24Yqb"
      }
    },
    {
      "cell_type": "markdown",
      "source": [
        "#Эксперимент:"
      ],
      "metadata": {
        "id": "Tp2seQfd5qVn"
      }
    },
    {
      "cell_type": "code",
      "source": [
        "N<-100000\n",
        "k<-5\n",
        "t<-1\n",
        "X<-c()\n",
        "lambda<-runif(k)\n",
        "\n",
        "for (i in c(1:N)) {\n",
        "    xx<-c()\n",
        "    for (j in c(1:k)) {\n",
        "      xx<-c(xx,rpois(1, lambda[j]*t))\n",
        "    }\n",
        "    X<-c(X, sum(xx))\n",
        "}\n",
        "\n",
        "print(sum(lambda)*t) # теория\n",
        "print(mean(X))       # эксп\n",
        "print((sd(X))^2)     # эксп"
      ],
      "metadata": {
        "colab": {
          "base_uri": "https://localhost:8080/"
        },
        "id": "W0YpzQwd5tbu",
        "outputId": "1787a634-fdb0-4844-b862-1b1e25089560"
      },
      "execution_count": null,
      "outputs": [
        {
          "output_type": "stream",
          "name": "stdout",
          "text": [
            "[1] 2.490958\n",
            "[1] 2.48446\n",
            "[1] 2.498123\n"
          ]
        }
      ]
    },
    {
      "cell_type": "markdown",
      "source": [
        "#Задание 5.\n",
        "Серверная станция состоит из двух модулей питания. Время безотказной работы каждого из них распределено по показательному закону с одинаковыми параметрами:\n",
        "$$f(t)=\\lambda e^{-\\lambda t}$$\n",
        "$t$ - время работы одного модуля до первого отказа.\n",
        "Второй модуль питания включается сразу же после отказа первого. Определить плотность вероятности времени безотказной работы всей системы, а также математическое ожидание и дисперсию времени безотказной работы."
      ],
      "metadata": {
        "id": "P2sPq3CPHICA"
      }
    },
    {
      "cell_type": "code",
      "source": [
        "Variant<-13\n",
        "alpha<-runif(100)[77]\n",
        "alpha"
      ],
      "metadata": {
        "colab": {
          "base_uri": "https://localhost:8080/",
          "height": 34
        },
        "id": "ArhmdOkUHcel",
        "outputId": "ab97a489-edcd-4b35-b1d9-d2c925323700"
      },
      "execution_count": null,
      "outputs": [
        {
          "output_type": "display_data",
          "data": {
            "text/html": [
              "0.73421140294522"
            ],
            "text/markdown": "0.73421140294522",
            "text/latex": "0.73421140294522",
            "text/plain": [
              "[1] 0.7342114"
            ]
          },
          "metadata": {}
        }
      ]
    },
    {
      "cell_type": "markdown",
      "source": [
        "#Теория:"
      ],
      "metadata": {
        "id": "4Rcc4tGQL3if"
      }
    },
    {
      "cell_type": "markdown",
      "source": [
        "Экспоненциальное распределение случайной величины:\n",
        "$$ F(t)=1-e^{-\\lambda t}, t>0 $$"
      ],
      "metadata": {
        "id": "JHINw7zhNjDi"
      }
    },
    {
      "cell_type": "markdown",
      "source": [
        "Плотность вероятности:\n",
        "$$f(t)=F'(t)=\\lambda e^{-\\lambda t}$$"
      ],
      "metadata": {
        "id": "eJAO-4huNnES"
      }
    },
    {
      "cell_type": "markdown",
      "source": [
        "Функция плотности распределения вероятностей композиции в виде суммы этих случайных величин $t=t_1+t_2$ выразится:\n",
        "$$f_{t}=\\int_{A(t)}^{B(t)} f_{t_1}(t_1)\\cdot f_{t_2}(t-t_1)d t_1$$\n",
        "Пределы интегрирования вычисляются:\n",
        "$$A(t)=a+\\frac{t-(a+d)+|t-(a+d)|}{2}$$  \n",
        "$$B(t)=b+\\frac{t-(b+c)-|t-(b+c)|}{2}$$  \n",
        "$$a\\leq t_1\\leq b, ~ c\\leq t_2\\leq d$$  \n",
        "При этом:\n",
        "$$a = 0, b = ∞, c = 0, d = \\infty$$"
      ],
      "metadata": {
        "id": "7f8Pa-CeNAbm"
      }
    },
    {
      "cell_type": "markdown",
      "metadata": {
        "id": "ixphFKT_MHQR"
      },
      "source": [
        "$$A(t)=0+\\frac{t-a-d-t+a+d}{2}=0$$\n",
        "$$B(t)=b+\\frac{t-b-c+t-b-c}{2}=t$$"
      ]
    },
    {
      "cell_type": "markdown",
      "metadata": {
        "id": "496ed193-a009-4fa4-b03e-221e3ba2a1bd"
      },
      "source": [
        "$$f_{t}(t)=\\int_0^t \\lambda e^{-\\lambda t_1}\\lambda e^{-\\lambda (t-t_1)}dt_1=\\lambda^2\\cdot e^{-\\lambda\\cdot t} \\int_0^t dt_1= \\lambda^2\\cdot e^{-\\lambda\\cdot t}\\cdot t$$"
      ]
    },
    {
      "cell_type": "markdown",
      "source": [
        "Преобразование Лапласа-Стилтьеса:\n",
        "$$ \\beta(s) = \\int_0^\\infty e^{-st}dF(t) = \\int_0^\\infty e^{-st}f(t)dt =\\lambda^2\\cdot \\int_0^\\infty t\\cdot e^{-t(s+\\lambda)}dt \\\\\n",
        "= -\\frac {\\lambda^2}{(s+\\lambda)^2} \\int_0^\\infty de^{-t(s+\\lambda)} = \\frac{\\lambda^2}{(s+\\lambda)^2} $$"
      ],
      "metadata": {
        "id": "aa_FTMycQ9kI"
      }
    },
    {
      "cell_type": "markdown",
      "source": [
        "Найдём мат. лжидание и дисперсию:\n",
        "$$\\beta'(s)|_{s=0} = \\left(\\frac {\\lambda^2}{(s+\\lambda)^2}\\right)'|_{s=0} = \\frac {-2\\lambda^2}{\\lambda^3} = -\\frac {2}{\\lambda}$$\n",
        "\n",
        "$$\\beta''(s)|_{s=0} = \\left(\\frac {\\lambda^2}{(s+\\lambda)^2}\\right)''|_{s=0} = \\frac {6\\lambda^2}{\\lambda^4} = \\frac {6}{\\lambda^2}$$\n",
        "$$M(t) = -\\beta'(s)|_{s=0} = \\frac {2}{\\lambda}$$\n",
        "$$D(t) = \\beta''(s)|_{s=0}-(\\beta'(s))^2|_{s=0} = \\frac {6}{\\lambda^2}-\\frac{4}{\\lambda^2}=\\frac{2}{\\lambda^2}$$"
      ],
      "metadata": {
        "id": "gh7lxNvSUcIm"
      }
    },
    {
      "cell_type": "markdown",
      "source": [
        "#Эксперимент:"
      ],
      "metadata": {
        "id": "lFZCXFAlXfoc"
      }
    },
    {
      "cell_type": "code",
      "source": [
        "lambda<-0.263351009925827\n",
        "print(2/lambda)\n",
        "print(2/lambda^2)"
      ],
      "metadata": {
        "colab": {
          "base_uri": "https://localhost:8080/"
        },
        "id": "2lNVzIcdXfFo",
        "outputId": "17566774-79c9-4d3e-dbb0-0cb94580ed44"
      },
      "execution_count": null,
      "outputs": [
        {
          "output_type": "stream",
          "name": "stdout",
          "text": [
            "[1] 7.594427\n",
            "[1] 28.83766\n"
          ]
        }
      ]
    },
    {
      "cell_type": "code",
      "source": [
        "X<-c()\n",
        "N<-100000\n",
        "for (i in c(1:N)){\n",
        "    X<-c(X,rexp(1,lambda)+rexp(1,lambda))}\n",
        "print(mean(X))\n",
        "print((sd(X))^2)"
      ],
      "metadata": {
        "colab": {
          "base_uri": "https://localhost:8080/"
        },
        "id": "iT-2MoVPYl0l",
        "outputId": "48b22479-0bfa-4c1c-fdba-bd6b3f8483f1"
      },
      "execution_count": null,
      "outputs": [
        {
          "output_type": "stream",
          "name": "stdout",
          "text": [
            "[1] 7.58883\n",
            "[1] 28.70538\n"
          ]
        }
      ]
    }
  ]
}