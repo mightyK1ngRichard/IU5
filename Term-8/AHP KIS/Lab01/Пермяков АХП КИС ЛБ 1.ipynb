{
  "nbformat": 4,
  "nbformat_minor": 0,
  "metadata": {
    "colab": {
      "provenance": []
    },
    "kernelspec": {
      "name": "ir",
      "display_name": "R"
    },
    "language_info": {
      "name": "R"
    }
  },
  "cells": [
    {
      "cell_type": "markdown",
      "source": [
        "# ИУ5-83Б Пермяков Д.К. Вариант 13"
      ],
      "metadata": {
        "id": "OwGLydwI2C-u"
      }
    },
    {
      "cell_type": "code",
      "source": [
        "install.packages(\"lpSolve\")"
      ],
      "metadata": {
        "colab": {
          "base_uri": "https://localhost:8080/"
        },
        "id": "59hVojLK7ZIj",
        "outputId": "1d695e04-bf6a-4cbe-975b-47f884066b4a"
      },
      "execution_count": null,
      "outputs": [
        {
          "output_type": "stream",
          "name": "stderr",
          "text": [
            "Installing package into ‘/usr/local/lib/R/site-library’\n",
            "(as ‘lib’ is unspecified)\n",
            "\n"
          ]
        }
      ]
    },
    {
      "cell_type": "code",
      "source": [
        "library(lpSolve)"
      ],
      "metadata": {
        "id": "YeZOrEQP70FI"
      },
      "execution_count": null,
      "outputs": []
    },
    {
      "cell_type": "code",
      "source": [
        "Data<-read.csv(\"Computers.csv\",sep=\",\")\n",
        "View(Data)"
      ],
      "metadata": {
        "colab": {
          "base_uri": "https://localhost:8080/",
          "height": 1000
        },
        "id": "Vc1zjBsiu_VH",
        "outputId": "5d27b018-207c-4528-ecd9-dfb31a232847"
      },
      "execution_count": null,
      "outputs": [
        {
          "output_type": "display_data",
          "data": {
            "text/plain": [
              "     X    price speed hd   ram screen cd  multi premium ads trend\n",
              "1     1   1499  25     80   4  14     no  no    yes     94  1    \n",
              "2     2   1795  33     85   2  14     no  no    yes     94  1    \n",
              "3     3   1595  25    170   4  15     no  no    yes     94  1    \n",
              "4     4   1849  25    170   8  14     no  no    no      94  1    \n",
              "5     5   3295  33    340  16  14     no  no    yes     94  1    \n",
              "6     6   3695  66    340  16  14     no  no    yes     94  1    \n",
              "7     7   1720  25    170   4  14     yes no    yes     94  1    \n",
              "8     8   1995  50     85   2  14     no  no    yes     94  1    \n",
              "9     9   2225  50    210   8  14     no  no    yes     94  1    \n",
              "10   10   2575  50    210   4  15     no  no    yes     94  1    \n",
              "11   11   2195  33    170   8  15     no  no    yes     94  1    \n",
              "12   12   2605  66    210   8  14     no  no    yes     94  1    \n",
              "13   13   2045  50    130   4  14     no  no    yes     94  1    \n",
              "14   14   2295  25    245   8  14     no  no    yes     94  1    \n",
              "15   15   2699  50    212   8  14     no  no    yes     94  1    \n",
              "16   16   2225  50    130   4  14     no  no    yes     94  1    \n",
              "17   17   1595  33     85   2  14     no  no    yes     94  1    \n",
              "18   18   2325  33    210   4  15     no  no    yes     94  1    \n",
              "19   19   2095  33    250   4  15     no  no    yes     94  1    \n",
              "20   20   4395  66    452   8  14     no  no    yes     94  1    \n",
              "21   21   1695  33    130   4  14     no  no    yes     94  1    \n",
              "22   22   2795  66    130   4  14     no  no    yes     94  1    \n",
              "23   23   2895  25    340  16  14     no  no    yes     94  1    \n",
              "24   24   2875  50    210   4  17     no  no    yes     94  1    \n",
              "25   25   4195  50    452   8  14     no  no    yes     94  1    \n",
              "26   26   1290  33     80   2  14     no  no    yes     94  1    \n",
              "27   27   1975  33    130   4  14     no  no    yes     94  1    \n",
              "28   28   3995  33    452   8  14     no  no    yes     94  1    \n",
              "29   29   3095  33    340  16  14     no  no    yes     94  1    \n",
              "30   30   3244  66    245   8  14     no  no    yes     94  1    \n",
              "⋮    ⋮    ⋮     ⋮     ⋮    ⋮   ⋮      ⋮   ⋮     ⋮       ⋮   ⋮    \n",
              "6230 6230 2344   66    850 16  15     yes no    yes     39  35   \n",
              "6231 6231 2890  100   1200 24  17     yes no    yes     39  35   \n",
              "6232 6232 2390   66    850 16  17     yes no    yes     39  35   \n",
              "6233 6233 1495   66    528  8  14     no  no    yes     39  35   \n",
              "6234 6234 1844  100    528  8  14     no  no    yes     39  35   \n",
              "6235 6235 1699   66    630  8  15     no  no    no      39  35   \n",
              "6236 6236 3290   75   1600 32  17     yes no    yes     39  35   \n",
              "6237 6237 2790   66   1200 24  17     yes no    yes     39  35   \n",
              "6238 6238 2845  100   1600 24  15     yes no    yes     39  35   \n",
              "6239 6239 1744   66    528  8  14     no  no    yes     39  35   \n",
              "6240 6240 3095  100   1600 32  15     yes no    yes     39  35   \n",
              "6241 6241 1595  100    528  8  14     no  no    yes     39  35   \n",
              "6242 6242 2254  100    850 16  15     yes no    yes     39  35   \n",
              "6243 6243 2723  100   1200 24  15     yes yes   yes     39  35   \n",
              "6244 6244 2745   66   1600 24  15     yes no    yes     39  35   \n",
              "6245 6245 3054   75   1600 32  15     yes no    yes     39  35   \n",
              "6246 6246 2744   66   1200 24  15     yes no    yes     39  35   \n",
              "6247 6247 1554   66    528  8  14     no  no    yes     39  35   \n",
              "6248 6248 1654  100    528  8  14     no  no    yes     39  35   \n",
              "6249 6249 2623   66   1200 24  15     yes yes   yes     39  35   \n",
              "6250 6250 2095   66    850 16  15     yes no    yes     39  35   \n",
              "6251 6251 2495   66   1200 24  15     yes no    yes     39  35   \n",
              "6252 6252 2995   66   1600 32  15     yes no    yes     39  35   \n",
              "6253 6253 1690   66   1200  8  14     no  no    yes     39  35   \n",
              "6254 6254 2154   66    850 16  15     yes no    yes     39  35   \n",
              "6255 6255 1690  100    528  8  15     no  no    yes     39  35   \n",
              "6256 6256 2223   66    850 16  15     yes yes   yes     39  35   \n",
              "6257 6257 2654  100   1200 24  15     yes no    yes     39  35   \n",
              "6258 6258 2195  100    850 16  15     yes no    yes     39  35   \n",
              "6259 6259 2490  100    850 16  17     yes no    yes     39  35   "
            ],
            "text/html": [
              "<table class=\"dataframe\">\n",
              "<caption>A data.frame: 6259 × 11</caption>\n",
              "<thead>\n",
              "\t<tr><th scope=col>X</th><th scope=col>price</th><th scope=col>speed</th><th scope=col>hd</th><th scope=col>ram</th><th scope=col>screen</th><th scope=col>cd</th><th scope=col>multi</th><th scope=col>premium</th><th scope=col>ads</th><th scope=col>trend</th></tr>\n",
              "\t<tr><th scope=col>&lt;int&gt;</th><th scope=col>&lt;int&gt;</th><th scope=col>&lt;int&gt;</th><th scope=col>&lt;int&gt;</th><th scope=col>&lt;int&gt;</th><th scope=col>&lt;int&gt;</th><th scope=col>&lt;chr&gt;</th><th scope=col>&lt;chr&gt;</th><th scope=col>&lt;chr&gt;</th><th scope=col>&lt;int&gt;</th><th scope=col>&lt;int&gt;</th></tr>\n",
              "</thead>\n",
              "<tbody>\n",
              "\t<tr><td> 1</td><td>1499</td><td>25</td><td> 80</td><td> 4</td><td>14</td><td>no </td><td>no</td><td>yes</td><td>94</td><td>1</td></tr>\n",
              "\t<tr><td> 2</td><td>1795</td><td>33</td><td> 85</td><td> 2</td><td>14</td><td>no </td><td>no</td><td>yes</td><td>94</td><td>1</td></tr>\n",
              "\t<tr><td> 3</td><td>1595</td><td>25</td><td>170</td><td> 4</td><td>15</td><td>no </td><td>no</td><td>yes</td><td>94</td><td>1</td></tr>\n",
              "\t<tr><td> 4</td><td>1849</td><td>25</td><td>170</td><td> 8</td><td>14</td><td>no </td><td>no</td><td>no </td><td>94</td><td>1</td></tr>\n",
              "\t<tr><td> 5</td><td>3295</td><td>33</td><td>340</td><td>16</td><td>14</td><td>no </td><td>no</td><td>yes</td><td>94</td><td>1</td></tr>\n",
              "\t<tr><td> 6</td><td>3695</td><td>66</td><td>340</td><td>16</td><td>14</td><td>no </td><td>no</td><td>yes</td><td>94</td><td>1</td></tr>\n",
              "\t<tr><td> 7</td><td>1720</td><td>25</td><td>170</td><td> 4</td><td>14</td><td>yes</td><td>no</td><td>yes</td><td>94</td><td>1</td></tr>\n",
              "\t<tr><td> 8</td><td>1995</td><td>50</td><td> 85</td><td> 2</td><td>14</td><td>no </td><td>no</td><td>yes</td><td>94</td><td>1</td></tr>\n",
              "\t<tr><td> 9</td><td>2225</td><td>50</td><td>210</td><td> 8</td><td>14</td><td>no </td><td>no</td><td>yes</td><td>94</td><td>1</td></tr>\n",
              "\t<tr><td>10</td><td>2575</td><td>50</td><td>210</td><td> 4</td><td>15</td><td>no </td><td>no</td><td>yes</td><td>94</td><td>1</td></tr>\n",
              "\t<tr><td>11</td><td>2195</td><td>33</td><td>170</td><td> 8</td><td>15</td><td>no </td><td>no</td><td>yes</td><td>94</td><td>1</td></tr>\n",
              "\t<tr><td>12</td><td>2605</td><td>66</td><td>210</td><td> 8</td><td>14</td><td>no </td><td>no</td><td>yes</td><td>94</td><td>1</td></tr>\n",
              "\t<tr><td>13</td><td>2045</td><td>50</td><td>130</td><td> 4</td><td>14</td><td>no </td><td>no</td><td>yes</td><td>94</td><td>1</td></tr>\n",
              "\t<tr><td>14</td><td>2295</td><td>25</td><td>245</td><td> 8</td><td>14</td><td>no </td><td>no</td><td>yes</td><td>94</td><td>1</td></tr>\n",
              "\t<tr><td>15</td><td>2699</td><td>50</td><td>212</td><td> 8</td><td>14</td><td>no </td><td>no</td><td>yes</td><td>94</td><td>1</td></tr>\n",
              "\t<tr><td>16</td><td>2225</td><td>50</td><td>130</td><td> 4</td><td>14</td><td>no </td><td>no</td><td>yes</td><td>94</td><td>1</td></tr>\n",
              "\t<tr><td>17</td><td>1595</td><td>33</td><td> 85</td><td> 2</td><td>14</td><td>no </td><td>no</td><td>yes</td><td>94</td><td>1</td></tr>\n",
              "\t<tr><td>18</td><td>2325</td><td>33</td><td>210</td><td> 4</td><td>15</td><td>no </td><td>no</td><td>yes</td><td>94</td><td>1</td></tr>\n",
              "\t<tr><td>19</td><td>2095</td><td>33</td><td>250</td><td> 4</td><td>15</td><td>no </td><td>no</td><td>yes</td><td>94</td><td>1</td></tr>\n",
              "\t<tr><td>20</td><td>4395</td><td>66</td><td>452</td><td> 8</td><td>14</td><td>no </td><td>no</td><td>yes</td><td>94</td><td>1</td></tr>\n",
              "\t<tr><td>21</td><td>1695</td><td>33</td><td>130</td><td> 4</td><td>14</td><td>no </td><td>no</td><td>yes</td><td>94</td><td>1</td></tr>\n",
              "\t<tr><td>22</td><td>2795</td><td>66</td><td>130</td><td> 4</td><td>14</td><td>no </td><td>no</td><td>yes</td><td>94</td><td>1</td></tr>\n",
              "\t<tr><td>23</td><td>2895</td><td>25</td><td>340</td><td>16</td><td>14</td><td>no </td><td>no</td><td>yes</td><td>94</td><td>1</td></tr>\n",
              "\t<tr><td>24</td><td>2875</td><td>50</td><td>210</td><td> 4</td><td>17</td><td>no </td><td>no</td><td>yes</td><td>94</td><td>1</td></tr>\n",
              "\t<tr><td>25</td><td>4195</td><td>50</td><td>452</td><td> 8</td><td>14</td><td>no </td><td>no</td><td>yes</td><td>94</td><td>1</td></tr>\n",
              "\t<tr><td>26</td><td>1290</td><td>33</td><td> 80</td><td> 2</td><td>14</td><td>no </td><td>no</td><td>yes</td><td>94</td><td>1</td></tr>\n",
              "\t<tr><td>27</td><td>1975</td><td>33</td><td>130</td><td> 4</td><td>14</td><td>no </td><td>no</td><td>yes</td><td>94</td><td>1</td></tr>\n",
              "\t<tr><td>28</td><td>3995</td><td>33</td><td>452</td><td> 8</td><td>14</td><td>no </td><td>no</td><td>yes</td><td>94</td><td>1</td></tr>\n",
              "\t<tr><td>29</td><td>3095</td><td>33</td><td>340</td><td>16</td><td>14</td><td>no </td><td>no</td><td>yes</td><td>94</td><td>1</td></tr>\n",
              "\t<tr><td>30</td><td>3244</td><td>66</td><td>245</td><td> 8</td><td>14</td><td>no </td><td>no</td><td>yes</td><td>94</td><td>1</td></tr>\n",
              "\t<tr><td>⋮</td><td>⋮</td><td>⋮</td><td>⋮</td><td>⋮</td><td>⋮</td><td>⋮</td><td>⋮</td><td>⋮</td><td>⋮</td><td>⋮</td></tr>\n",
              "\t<tr><td>6230</td><td>2344</td><td> 66</td><td> 850</td><td>16</td><td>15</td><td>yes</td><td>no </td><td>yes</td><td>39</td><td>35</td></tr>\n",
              "\t<tr><td>6231</td><td>2890</td><td>100</td><td>1200</td><td>24</td><td>17</td><td>yes</td><td>no </td><td>yes</td><td>39</td><td>35</td></tr>\n",
              "\t<tr><td>6232</td><td>2390</td><td> 66</td><td> 850</td><td>16</td><td>17</td><td>yes</td><td>no </td><td>yes</td><td>39</td><td>35</td></tr>\n",
              "\t<tr><td>6233</td><td>1495</td><td> 66</td><td> 528</td><td> 8</td><td>14</td><td>no </td><td>no </td><td>yes</td><td>39</td><td>35</td></tr>\n",
              "\t<tr><td>6234</td><td>1844</td><td>100</td><td> 528</td><td> 8</td><td>14</td><td>no </td><td>no </td><td>yes</td><td>39</td><td>35</td></tr>\n",
              "\t<tr><td>6235</td><td>1699</td><td> 66</td><td> 630</td><td> 8</td><td>15</td><td>no </td><td>no </td><td>no </td><td>39</td><td>35</td></tr>\n",
              "\t<tr><td>6236</td><td>3290</td><td> 75</td><td>1600</td><td>32</td><td>17</td><td>yes</td><td>no </td><td>yes</td><td>39</td><td>35</td></tr>\n",
              "\t<tr><td>6237</td><td>2790</td><td> 66</td><td>1200</td><td>24</td><td>17</td><td>yes</td><td>no </td><td>yes</td><td>39</td><td>35</td></tr>\n",
              "\t<tr><td>6238</td><td>2845</td><td>100</td><td>1600</td><td>24</td><td>15</td><td>yes</td><td>no </td><td>yes</td><td>39</td><td>35</td></tr>\n",
              "\t<tr><td>6239</td><td>1744</td><td> 66</td><td> 528</td><td> 8</td><td>14</td><td>no </td><td>no </td><td>yes</td><td>39</td><td>35</td></tr>\n",
              "\t<tr><td>6240</td><td>3095</td><td>100</td><td>1600</td><td>32</td><td>15</td><td>yes</td><td>no </td><td>yes</td><td>39</td><td>35</td></tr>\n",
              "\t<tr><td>6241</td><td>1595</td><td>100</td><td> 528</td><td> 8</td><td>14</td><td>no </td><td>no </td><td>yes</td><td>39</td><td>35</td></tr>\n",
              "\t<tr><td>6242</td><td>2254</td><td>100</td><td> 850</td><td>16</td><td>15</td><td>yes</td><td>no </td><td>yes</td><td>39</td><td>35</td></tr>\n",
              "\t<tr><td>6243</td><td>2723</td><td>100</td><td>1200</td><td>24</td><td>15</td><td>yes</td><td>yes</td><td>yes</td><td>39</td><td>35</td></tr>\n",
              "\t<tr><td>6244</td><td>2745</td><td> 66</td><td>1600</td><td>24</td><td>15</td><td>yes</td><td>no </td><td>yes</td><td>39</td><td>35</td></tr>\n",
              "\t<tr><td>6245</td><td>3054</td><td> 75</td><td>1600</td><td>32</td><td>15</td><td>yes</td><td>no </td><td>yes</td><td>39</td><td>35</td></tr>\n",
              "\t<tr><td>6246</td><td>2744</td><td> 66</td><td>1200</td><td>24</td><td>15</td><td>yes</td><td>no </td><td>yes</td><td>39</td><td>35</td></tr>\n",
              "\t<tr><td>6247</td><td>1554</td><td> 66</td><td> 528</td><td> 8</td><td>14</td><td>no </td><td>no </td><td>yes</td><td>39</td><td>35</td></tr>\n",
              "\t<tr><td>6248</td><td>1654</td><td>100</td><td> 528</td><td> 8</td><td>14</td><td>no </td><td>no </td><td>yes</td><td>39</td><td>35</td></tr>\n",
              "\t<tr><td>6249</td><td>2623</td><td> 66</td><td>1200</td><td>24</td><td>15</td><td>yes</td><td>yes</td><td>yes</td><td>39</td><td>35</td></tr>\n",
              "\t<tr><td>6250</td><td>2095</td><td> 66</td><td> 850</td><td>16</td><td>15</td><td>yes</td><td>no </td><td>yes</td><td>39</td><td>35</td></tr>\n",
              "\t<tr><td>6251</td><td>2495</td><td> 66</td><td>1200</td><td>24</td><td>15</td><td>yes</td><td>no </td><td>yes</td><td>39</td><td>35</td></tr>\n",
              "\t<tr><td>6252</td><td>2995</td><td> 66</td><td>1600</td><td>32</td><td>15</td><td>yes</td><td>no </td><td>yes</td><td>39</td><td>35</td></tr>\n",
              "\t<tr><td>6253</td><td>1690</td><td> 66</td><td>1200</td><td> 8</td><td>14</td><td>no </td><td>no </td><td>yes</td><td>39</td><td>35</td></tr>\n",
              "\t<tr><td>6254</td><td>2154</td><td> 66</td><td> 850</td><td>16</td><td>15</td><td>yes</td><td>no </td><td>yes</td><td>39</td><td>35</td></tr>\n",
              "\t<tr><td>6255</td><td>1690</td><td>100</td><td> 528</td><td> 8</td><td>15</td><td>no </td><td>no </td><td>yes</td><td>39</td><td>35</td></tr>\n",
              "\t<tr><td>6256</td><td>2223</td><td> 66</td><td> 850</td><td>16</td><td>15</td><td>yes</td><td>yes</td><td>yes</td><td>39</td><td>35</td></tr>\n",
              "\t<tr><td>6257</td><td>2654</td><td>100</td><td>1200</td><td>24</td><td>15</td><td>yes</td><td>no </td><td>yes</td><td>39</td><td>35</td></tr>\n",
              "\t<tr><td>6258</td><td>2195</td><td>100</td><td> 850</td><td>16</td><td>15</td><td>yes</td><td>no </td><td>yes</td><td>39</td><td>35</td></tr>\n",
              "\t<tr><td>6259</td><td>2490</td><td>100</td><td> 850</td><td>16</td><td>17</td><td>yes</td><td>no </td><td>yes</td><td>39</td><td>35</td></tr>\n",
              "</tbody>\n",
              "</table>\n"
            ],
            "text/markdown": "\nA data.frame: 6259 × 11\n\n| X &lt;int&gt; | price &lt;int&gt; | speed &lt;int&gt; | hd &lt;int&gt; | ram &lt;int&gt; | screen &lt;int&gt; | cd &lt;chr&gt; | multi &lt;chr&gt; | premium &lt;chr&gt; | ads &lt;int&gt; | trend &lt;int&gt; |\n|---|---|---|---|---|---|---|---|---|---|---|\n|  1 | 1499 | 25 |  80 |  4 | 14 | no  | no | yes | 94 | 1 |\n|  2 | 1795 | 33 |  85 |  2 | 14 | no  | no | yes | 94 | 1 |\n|  3 | 1595 | 25 | 170 |  4 | 15 | no  | no | yes | 94 | 1 |\n|  4 | 1849 | 25 | 170 |  8 | 14 | no  | no | no  | 94 | 1 |\n|  5 | 3295 | 33 | 340 | 16 | 14 | no  | no | yes | 94 | 1 |\n|  6 | 3695 | 66 | 340 | 16 | 14 | no  | no | yes | 94 | 1 |\n|  7 | 1720 | 25 | 170 |  4 | 14 | yes | no | yes | 94 | 1 |\n|  8 | 1995 | 50 |  85 |  2 | 14 | no  | no | yes | 94 | 1 |\n|  9 | 2225 | 50 | 210 |  8 | 14 | no  | no | yes | 94 | 1 |\n| 10 | 2575 | 50 | 210 |  4 | 15 | no  | no | yes | 94 | 1 |\n| 11 | 2195 | 33 | 170 |  8 | 15 | no  | no | yes | 94 | 1 |\n| 12 | 2605 | 66 | 210 |  8 | 14 | no  | no | yes | 94 | 1 |\n| 13 | 2045 | 50 | 130 |  4 | 14 | no  | no | yes | 94 | 1 |\n| 14 | 2295 | 25 | 245 |  8 | 14 | no  | no | yes | 94 | 1 |\n| 15 | 2699 | 50 | 212 |  8 | 14 | no  | no | yes | 94 | 1 |\n| 16 | 2225 | 50 | 130 |  4 | 14 | no  | no | yes | 94 | 1 |\n| 17 | 1595 | 33 |  85 |  2 | 14 | no  | no | yes | 94 | 1 |\n| 18 | 2325 | 33 | 210 |  4 | 15 | no  | no | yes | 94 | 1 |\n| 19 | 2095 | 33 | 250 |  4 | 15 | no  | no | yes | 94 | 1 |\n| 20 | 4395 | 66 | 452 |  8 | 14 | no  | no | yes | 94 | 1 |\n| 21 | 1695 | 33 | 130 |  4 | 14 | no  | no | yes | 94 | 1 |\n| 22 | 2795 | 66 | 130 |  4 | 14 | no  | no | yes | 94 | 1 |\n| 23 | 2895 | 25 | 340 | 16 | 14 | no  | no | yes | 94 | 1 |\n| 24 | 2875 | 50 | 210 |  4 | 17 | no  | no | yes | 94 | 1 |\n| 25 | 4195 | 50 | 452 |  8 | 14 | no  | no | yes | 94 | 1 |\n| 26 | 1290 | 33 |  80 |  2 | 14 | no  | no | yes | 94 | 1 |\n| 27 | 1975 | 33 | 130 |  4 | 14 | no  | no | yes | 94 | 1 |\n| 28 | 3995 | 33 | 452 |  8 | 14 | no  | no | yes | 94 | 1 |\n| 29 | 3095 | 33 | 340 | 16 | 14 | no  | no | yes | 94 | 1 |\n| 30 | 3244 | 66 | 245 |  8 | 14 | no  | no | yes | 94 | 1 |\n| ⋮ | ⋮ | ⋮ | ⋮ | ⋮ | ⋮ | ⋮ | ⋮ | ⋮ | ⋮ | ⋮ |\n| 6230 | 2344 |  66 |  850 | 16 | 15 | yes | no  | yes | 39 | 35 |\n| 6231 | 2890 | 100 | 1200 | 24 | 17 | yes | no  | yes | 39 | 35 |\n| 6232 | 2390 |  66 |  850 | 16 | 17 | yes | no  | yes | 39 | 35 |\n| 6233 | 1495 |  66 |  528 |  8 | 14 | no  | no  | yes | 39 | 35 |\n| 6234 | 1844 | 100 |  528 |  8 | 14 | no  | no  | yes | 39 | 35 |\n| 6235 | 1699 |  66 |  630 |  8 | 15 | no  | no  | no  | 39 | 35 |\n| 6236 | 3290 |  75 | 1600 | 32 | 17 | yes | no  | yes | 39 | 35 |\n| 6237 | 2790 |  66 | 1200 | 24 | 17 | yes | no  | yes | 39 | 35 |\n| 6238 | 2845 | 100 | 1600 | 24 | 15 | yes | no  | yes | 39 | 35 |\n| 6239 | 1744 |  66 |  528 |  8 | 14 | no  | no  | yes | 39 | 35 |\n| 6240 | 3095 | 100 | 1600 | 32 | 15 | yes | no  | yes | 39 | 35 |\n| 6241 | 1595 | 100 |  528 |  8 | 14 | no  | no  | yes | 39 | 35 |\n| 6242 | 2254 | 100 |  850 | 16 | 15 | yes | no  | yes | 39 | 35 |\n| 6243 | 2723 | 100 | 1200 | 24 | 15 | yes | yes | yes | 39 | 35 |\n| 6244 | 2745 |  66 | 1600 | 24 | 15 | yes | no  | yes | 39 | 35 |\n| 6245 | 3054 |  75 | 1600 | 32 | 15 | yes | no  | yes | 39 | 35 |\n| 6246 | 2744 |  66 | 1200 | 24 | 15 | yes | no  | yes | 39 | 35 |\n| 6247 | 1554 |  66 |  528 |  8 | 14 | no  | no  | yes | 39 | 35 |\n| 6248 | 1654 | 100 |  528 |  8 | 14 | no  | no  | yes | 39 | 35 |\n| 6249 | 2623 |  66 | 1200 | 24 | 15 | yes | yes | yes | 39 | 35 |\n| 6250 | 2095 |  66 |  850 | 16 | 15 | yes | no  | yes | 39 | 35 |\n| 6251 | 2495 |  66 | 1200 | 24 | 15 | yes | no  | yes | 39 | 35 |\n| 6252 | 2995 |  66 | 1600 | 32 | 15 | yes | no  | yes | 39 | 35 |\n| 6253 | 1690 |  66 | 1200 |  8 | 14 | no  | no  | yes | 39 | 35 |\n| 6254 | 2154 |  66 |  850 | 16 | 15 | yes | no  | yes | 39 | 35 |\n| 6255 | 1690 | 100 |  528 |  8 | 15 | no  | no  | yes | 39 | 35 |\n| 6256 | 2223 |  66 |  850 | 16 | 15 | yes | yes | yes | 39 | 35 |\n| 6257 | 2654 | 100 | 1200 | 24 | 15 | yes | no  | yes | 39 | 35 |\n| 6258 | 2195 | 100 |  850 | 16 | 15 | yes | no  | yes | 39 | 35 |\n| 6259 | 2490 | 100 |  850 | 16 | 17 | yes | no  | yes | 39 | 35 |\n\n",
            "text/latex": "A data.frame: 6259 × 11\n\\begin{tabular}{lllllllllll}\n X & price & speed & hd & ram & screen & cd & multi & premium & ads & trend\\\\\n <int> & <int> & <int> & <int> & <int> & <int> & <chr> & <chr> & <chr> & <int> & <int>\\\\\n\\hline\n\t  1 & 1499 & 25 &  80 &  4 & 14 & no  & no & yes & 94 & 1\\\\\n\t  2 & 1795 & 33 &  85 &  2 & 14 & no  & no & yes & 94 & 1\\\\\n\t  3 & 1595 & 25 & 170 &  4 & 15 & no  & no & yes & 94 & 1\\\\\n\t  4 & 1849 & 25 & 170 &  8 & 14 & no  & no & no  & 94 & 1\\\\\n\t  5 & 3295 & 33 & 340 & 16 & 14 & no  & no & yes & 94 & 1\\\\\n\t  6 & 3695 & 66 & 340 & 16 & 14 & no  & no & yes & 94 & 1\\\\\n\t  7 & 1720 & 25 & 170 &  4 & 14 & yes & no & yes & 94 & 1\\\\\n\t  8 & 1995 & 50 &  85 &  2 & 14 & no  & no & yes & 94 & 1\\\\\n\t  9 & 2225 & 50 & 210 &  8 & 14 & no  & no & yes & 94 & 1\\\\\n\t 10 & 2575 & 50 & 210 &  4 & 15 & no  & no & yes & 94 & 1\\\\\n\t 11 & 2195 & 33 & 170 &  8 & 15 & no  & no & yes & 94 & 1\\\\\n\t 12 & 2605 & 66 & 210 &  8 & 14 & no  & no & yes & 94 & 1\\\\\n\t 13 & 2045 & 50 & 130 &  4 & 14 & no  & no & yes & 94 & 1\\\\\n\t 14 & 2295 & 25 & 245 &  8 & 14 & no  & no & yes & 94 & 1\\\\\n\t 15 & 2699 & 50 & 212 &  8 & 14 & no  & no & yes & 94 & 1\\\\\n\t 16 & 2225 & 50 & 130 &  4 & 14 & no  & no & yes & 94 & 1\\\\\n\t 17 & 1595 & 33 &  85 &  2 & 14 & no  & no & yes & 94 & 1\\\\\n\t 18 & 2325 & 33 & 210 &  4 & 15 & no  & no & yes & 94 & 1\\\\\n\t 19 & 2095 & 33 & 250 &  4 & 15 & no  & no & yes & 94 & 1\\\\\n\t 20 & 4395 & 66 & 452 &  8 & 14 & no  & no & yes & 94 & 1\\\\\n\t 21 & 1695 & 33 & 130 &  4 & 14 & no  & no & yes & 94 & 1\\\\\n\t 22 & 2795 & 66 & 130 &  4 & 14 & no  & no & yes & 94 & 1\\\\\n\t 23 & 2895 & 25 & 340 & 16 & 14 & no  & no & yes & 94 & 1\\\\\n\t 24 & 2875 & 50 & 210 &  4 & 17 & no  & no & yes & 94 & 1\\\\\n\t 25 & 4195 & 50 & 452 &  8 & 14 & no  & no & yes & 94 & 1\\\\\n\t 26 & 1290 & 33 &  80 &  2 & 14 & no  & no & yes & 94 & 1\\\\\n\t 27 & 1975 & 33 & 130 &  4 & 14 & no  & no & yes & 94 & 1\\\\\n\t 28 & 3995 & 33 & 452 &  8 & 14 & no  & no & yes & 94 & 1\\\\\n\t 29 & 3095 & 33 & 340 & 16 & 14 & no  & no & yes & 94 & 1\\\\\n\t 30 & 3244 & 66 & 245 &  8 & 14 & no  & no & yes & 94 & 1\\\\\n\t ⋮ & ⋮ & ⋮ & ⋮ & ⋮ & ⋮ & ⋮ & ⋮ & ⋮ & ⋮ & ⋮\\\\\n\t 6230 & 2344 &  66 &  850 & 16 & 15 & yes & no  & yes & 39 & 35\\\\\n\t 6231 & 2890 & 100 & 1200 & 24 & 17 & yes & no  & yes & 39 & 35\\\\\n\t 6232 & 2390 &  66 &  850 & 16 & 17 & yes & no  & yes & 39 & 35\\\\\n\t 6233 & 1495 &  66 &  528 &  8 & 14 & no  & no  & yes & 39 & 35\\\\\n\t 6234 & 1844 & 100 &  528 &  8 & 14 & no  & no  & yes & 39 & 35\\\\\n\t 6235 & 1699 &  66 &  630 &  8 & 15 & no  & no  & no  & 39 & 35\\\\\n\t 6236 & 3290 &  75 & 1600 & 32 & 17 & yes & no  & yes & 39 & 35\\\\\n\t 6237 & 2790 &  66 & 1200 & 24 & 17 & yes & no  & yes & 39 & 35\\\\\n\t 6238 & 2845 & 100 & 1600 & 24 & 15 & yes & no  & yes & 39 & 35\\\\\n\t 6239 & 1744 &  66 &  528 &  8 & 14 & no  & no  & yes & 39 & 35\\\\\n\t 6240 & 3095 & 100 & 1600 & 32 & 15 & yes & no  & yes & 39 & 35\\\\\n\t 6241 & 1595 & 100 &  528 &  8 & 14 & no  & no  & yes & 39 & 35\\\\\n\t 6242 & 2254 & 100 &  850 & 16 & 15 & yes & no  & yes & 39 & 35\\\\\n\t 6243 & 2723 & 100 & 1200 & 24 & 15 & yes & yes & yes & 39 & 35\\\\\n\t 6244 & 2745 &  66 & 1600 & 24 & 15 & yes & no  & yes & 39 & 35\\\\\n\t 6245 & 3054 &  75 & 1600 & 32 & 15 & yes & no  & yes & 39 & 35\\\\\n\t 6246 & 2744 &  66 & 1200 & 24 & 15 & yes & no  & yes & 39 & 35\\\\\n\t 6247 & 1554 &  66 &  528 &  8 & 14 & no  & no  & yes & 39 & 35\\\\\n\t 6248 & 1654 & 100 &  528 &  8 & 14 & no  & no  & yes & 39 & 35\\\\\n\t 6249 & 2623 &  66 & 1200 & 24 & 15 & yes & yes & yes & 39 & 35\\\\\n\t 6250 & 2095 &  66 &  850 & 16 & 15 & yes & no  & yes & 39 & 35\\\\\n\t 6251 & 2495 &  66 & 1200 & 24 & 15 & yes & no  & yes & 39 & 35\\\\\n\t 6252 & 2995 &  66 & 1600 & 32 & 15 & yes & no  & yes & 39 & 35\\\\\n\t 6253 & 1690 &  66 & 1200 &  8 & 14 & no  & no  & yes & 39 & 35\\\\\n\t 6254 & 2154 &  66 &  850 & 16 & 15 & yes & no  & yes & 39 & 35\\\\\n\t 6255 & 1690 & 100 &  528 &  8 & 15 & no  & no  & yes & 39 & 35\\\\\n\t 6256 & 2223 &  66 &  850 & 16 & 15 & yes & yes & yes & 39 & 35\\\\\n\t 6257 & 2654 & 100 & 1200 & 24 & 15 & yes & no  & yes & 39 & 35\\\\\n\t 6258 & 2195 & 100 &  850 & 16 & 15 & yes & no  & yes & 39 & 35\\\\\n\t 6259 & 2490 & 100 &  850 & 16 & 17 & yes & no  & yes & 39 & 35\\\\\n\\end{tabular}\n"
          },
          "metadata": {}
        }
      ]
    },
    {
      "cell_type": "code",
      "source": [
        "set.seed(13)\n",
        "Count_low<-data.frame()\n",
        "for (i in c(1:50)){\n",
        "    Count_low<-rbind(Count_low, c(i,sample(c(3:6),1), sample(c(6:20),1), sample(c(1:20),1), sample(c(1:9),1)))}\n",
        "colnames(Count_low)<-c(\"Вариант\",\"Количество С1 >=\",\"Количество С2 >=\", \"Количество С3 >=\", \"Количество С4 >=\")"
      ],
      "metadata": {
        "id": "_5Z3W7b0340J"
      },
      "execution_count": null,
      "outputs": []
    },
    {
      "cell_type": "code",
      "source": [
        "Count_up<-data.frame()\n",
        "for (i in c(1:50)){\n",
        "    Count_up<-rbind(Count_up, c(i,Count_low[i,2]+sample(c(3:6),1), Count_low[i,3]+sample(c(6:20),1),\n",
        "                                          Count_low[i,4]+sample(c(1:20),1), Count_low[i,5]+sample(c(1:9),1)))}\n",
        "colnames(Count_up)<-c(\"Вариант\",\"Количество С1 <=\",\"Количество С2 <=\", \"Количество С3 <=\", \"Количество С4 <=\")"
      ],
      "metadata": {
        "id": "1ExxrqtE5BTV"
      },
      "execution_count": null,
      "outputs": []
    },
    {
      "cell_type": "code",
      "source": [
        "var13_low <- Count_low[13,]\n",
        "var13_up <- Count_up[13,]\n",
        "View(var13_low)\n",
        "View(var13_up)"
      ],
      "metadata": {
        "colab": {
          "base_uri": "https://localhost:8080/",
          "height": 239
        },
        "id": "H7LEQdd55HHX",
        "outputId": "7d9dc07b-4366-43c2-b1ad-59f53c8f3cb0"
      },
      "execution_count": null,
      "outputs": [
        {
          "output_type": "display_data",
          "data": {
            "text/plain": [
              "   Вариант Количество С1 >= Количество С2 >= Количество С3 >= Количество С4 >=\n",
              "13 13      3                19               18               3               "
            ],
            "text/html": [
              "<table class=\"dataframe\">\n",
              "<caption>A data.frame: 1 × 5</caption>\n",
              "<thead>\n",
              "\t<tr><th></th><th scope=col>Вариант</th><th scope=col>Количество С1 &gt;=</th><th scope=col>Количество С2 &gt;=</th><th scope=col>Количество С3 &gt;=</th><th scope=col>Количество С4 &gt;=</th></tr>\n",
              "\t<tr><th></th><th scope=col>&lt;int&gt;</th><th scope=col>&lt;int&gt;</th><th scope=col>&lt;int&gt;</th><th scope=col>&lt;int&gt;</th><th scope=col>&lt;int&gt;</th></tr>\n",
              "</thead>\n",
              "<tbody>\n",
              "\t<tr><th scope=row>13</th><td>13</td><td>3</td><td>19</td><td>18</td><td>3</td></tr>\n",
              "</tbody>\n",
              "</table>\n"
            ],
            "text/markdown": "\nA data.frame: 1 × 5\n\n| <!--/--> | Вариант &lt;int&gt; | Количество С1 &gt;= &lt;int&gt; | Количество С2 &gt;= &lt;int&gt; | Количество С3 &gt;= &lt;int&gt; | Количество С4 &gt;= &lt;int&gt; |\n|---|---|---|---|---|---|\n| 13 | 13 | 3 | 19 | 18 | 3 |\n\n",
            "text/latex": "A data.frame: 1 × 5\n\\begin{tabular}{r|lllll}\n  & Вариант & Количество С1 >= & Количество С2 >= & Количество С3 >= & Количество С4 >=\\\\\n  & <int> & <int> & <int> & <int> & <int>\\\\\n\\hline\n\t13 & 13 & 3 & 19 & 18 & 3\\\\\n\\end{tabular}\n"
          },
          "metadata": {}
        },
        {
          "output_type": "display_data",
          "data": {
            "text/plain": [
              "   Вариант Количество С1 <= Количество С2 <= Количество С3 <= Количество С4 <=\n",
              "13 13      6                25               22               8               "
            ],
            "text/html": [
              "<table class=\"dataframe\">\n",
              "<caption>A data.frame: 1 × 5</caption>\n",
              "<thead>\n",
              "\t<tr><th></th><th scope=col>Вариант</th><th scope=col>Количество С1 &lt;=</th><th scope=col>Количество С2 &lt;=</th><th scope=col>Количество С3 &lt;=</th><th scope=col>Количество С4 &lt;=</th></tr>\n",
              "\t<tr><th></th><th scope=col>&lt;int&gt;</th><th scope=col>&lt;int&gt;</th><th scope=col>&lt;int&gt;</th><th scope=col>&lt;int&gt;</th><th scope=col>&lt;int&gt;</th></tr>\n",
              "</thead>\n",
              "<tbody>\n",
              "\t<tr><th scope=row>13</th><td>13</td><td>6</td><td>25</td><td>22</td><td>8</td></tr>\n",
              "</tbody>\n",
              "</table>\n"
            ],
            "text/markdown": "\nA data.frame: 1 × 5\n\n| <!--/--> | Вариант &lt;int&gt; | Количество С1 &lt;= &lt;int&gt; | Количество С2 &lt;= &lt;int&gt; | Количество С3 &lt;= &lt;int&gt; | Количество С4 &lt;= &lt;int&gt; |\n|---|---|---|---|---|---|\n| 13 | 13 | 6 | 25 | 22 | 8 |\n\n",
            "text/latex": "A data.frame: 1 × 5\n\\begin{tabular}{r|lllll}\n  & Вариант & Количество С1 <= & Количество С2 <= & Количество С3 <= & Количество С4 <=\\\\\n  & <int> & <int> & <int> & <int> & <int>\\\\\n\\hline\n\t13 & 13 & 6 & 25 & 22 & 8\\\\\n\\end{tabular}\n"
          },
          "metadata": {}
        }
      ]
    },
    {
      "cell_type": "markdown",
      "source": [
        "C1 >= 3, C2 >= 19, C3 >= 18, C4 >= 3  \n",
        "C1 <= 6, C2 <= 25, C3 <= 22, C4 <= 8\n",
        "\n",
        "ВвВведу ограничения:   \n",
        "Стоимость C1 <= 6 * 3200 (19200)  \n",
        "Стоимость C2 <= 25 * 3600 (90000)  \n",
        "Стоимость C3 <= 22 * 2800 (61600)  \n",
        "Стоимость С4 <= 8 * 1200 (9600)  \n",
        "Частота процессора (speed) C1 >= 3 * 55 (165)  \n",
        "Частота процессора (speed) C2 >= 19 * 42 (798)  \n",
        "Объём ОЗУ (ram) C1 >= 3 * 7 (21)  \n",
        "Объём ОЗУ (ram) C2 >= 19 * 7 (133)  \n",
        "Объём винчестера (hd) C2 >= 19 * 210 (3990)\n",
        "\n",
        "И ограничения нижнего уровня по сегментам:  \n",
        "Суммарная производительность (speed, ram) C1 максимизируется  \n",
        "Суммарный объём памяти (hd, ram) C2 максимизируется  \n",
        "Суммарный объём ОЗУ C3 максимизируется"
      ],
      "metadata": {
        "id": "kQc9QwWiMCTr"
      }
    },
    {
      "cell_type": "code",
      "source": [
        "Res<-lm(price~speed+ram+hd, Data)\n",
        "Res"
      ],
      "metadata": {
        "colab": {
          "base_uri": "https://localhost:8080/",
          "height": 136
        },
        "id": "avb0WFt16iVb",
        "outputId": "e61fd2e6-914c-44b2-bb07-504321d0e1ea"
      },
      "execution_count": null,
      "outputs": [
        {
          "output_type": "display_data",
          "data": {
            "text/plain": [
              "\n",
              "Call:\n",
              "lm(formula = price ~ speed + ram + hd, data = Data)\n",
              "\n",
              "Coefficients:\n",
              "(Intercept)        speed          ram           hd  \n",
              "  1492.1775       5.8112      78.2357      -0.5357  \n"
            ]
          },
          "metadata": {}
        }
      ]
    },
    {
      "cell_type": "code",
      "source": [
        "mean(Data$speed)\n",
        "mean(Data$ram)\n",
        "mean(Data$hd)"
      ],
      "metadata": {
        "colab": {
          "base_uri": "https://localhost:8080/",
          "height": 68
        },
        "id": "t1nfRl9IhIgD",
        "outputId": "b1c61400-91b9-48ca-ae98-c1a523731745"
      },
      "execution_count": null,
      "outputs": [
        {
          "output_type": "display_data",
          "data": {
            "text/html": [
              "52.0110241252596"
            ],
            "text/markdown": "52.0110241252596",
            "text/latex": "52.0110241252596",
            "text/plain": [
              "[1] 52.01102"
            ]
          },
          "metadata": {}
        },
        {
          "output_type": "display_data",
          "data": {
            "text/html": [
              "8.28694679661288"
            ],
            "text/markdown": "8.28694679661288",
            "text/latex": "8.28694679661288",
            "text/plain": [
              "[1] 8.286947"
            ]
          },
          "metadata": {}
        },
        {
          "output_type": "display_data",
          "data": {
            "text/html": [
              "416.601693561272"
            ],
            "text/markdown": "416.601693561272",
            "text/latex": "416.601693561272",
            "text/plain": [
              "[1] 416.6017"
            ]
          },
          "metadata": {}
        }
      ]
    },
    {
      "cell_type": "markdown",
      "source": [
        "Стоимость выражена через регрессионную зависимость:  \n",
        "$$price = 1492.1775 + 5.8112 \\cdot speed + 78.2357 \\cdot ram - 0.5357 \\cdot hd$$  "
      ],
      "metadata": {
        "id": "5z4BS7bycJNm"
      }
    },
    {
      "cell_type": "markdown",
      "source": [
        "Критерий верхнего уровня:\n",
        "$$ H_1 = N_1 \\cdot price_1 + N_2 \\cdot price_2 + N_3 \\cdot price_3 + N_4 \\cdot price_4 → min $$  \n",
        "Подставим регрессионные зависимости:  \n",
        "$$H_1 = 1492.1775 \\cdot N_1 + 5.8112 \\cdot speed_1 \\cdot N_1 + 78.2357 \\cdot ram_1 \\cdot N_1 - 0.5357 \\cdot hd_1 \\cdot N_1 \\\\ + 1492.1775 \\cdot N_2 + 5.8112 \\cdot speed_2 \\cdot N_2 + 78.2357 \\cdot ram_2 \\cdot N_2 - 0.5357 \\cdot hd_2 \\cdot N_2 \\\\ + 1492.1775 \\cdot N_3 + 5.8112 \\cdot speed_3 \\cdot N_3 + 78.2357 \\cdot ram_3 \\cdot N_3 - 0.5357 \\cdot hd_3 \\cdot N_3 \\\\ + 1492.1775 \\cdot N_4 + 5.8112 \\cdot speed_4 \\cdot N_4 + 78.2357 \\cdot ram_4 \\cdot N_4 - 0.5357 \\cdot hd_4 \\cdot N_4$$"
      ],
      "metadata": {
        "id": "ZiEhddERmlSA"
      }
    },
    {
      "cell_type": "markdown",
      "source": [
        "Обозначим:  \n",
        "$$ x_1 = 1492.1775 \\cdot N_1, ~~~~ 3 \\cdot 1492.1775 \\le x_1 \\le 6 \\cdot 1492.1775 \\\\\n",
        "x_2 = speed_1 \\cdot N_1, ~~~~ 3 \\cdot 52.01102 \\le x_2 \\le 6 \\cdot 52.011 \\\\\n",
        "x_3 = ram_1 \\cdot N_1, ~~~~ 3 \\cdot 8.28694 \\le x_3 \\le 6 \\cdot 8.28694 \\\\\n",
        "x_4 = hd_1 \\cdot N_1, ~~~~ 3 \\cdot 416.60169 \\le x_4 \\le 6 \\cdot 416.60169 \\\\\n",
        "x_5 = 1492.1775 \\cdot N_2, ~~~~ 19 \\cdot 1492.1775 \\le x_5 \\le 25 \\cdot 1492.1775 \\\\\n",
        "x_6 = speed_2 \\cdot N_2, ~~~~ 19 \\cdot 52.01102 \\le x_6 \\le 25 \\cdot 52.011 \\\\\n",
        "x_7 = ram_2 \\cdot N_2, ~~~~ 19 \\cdot 8.28694 \\le x_7 \\le 25 \\cdot 8.28694 \\\\\n",
        "x_8 = hd_2 \\cdot N_2, ~~~~ 19 \\cdot 416.60169 \\le x_8 \\le 25 \\cdot 416.60169 \\\\\n",
        "x_9 = 1492.1775 \\cdot N_3, ~~~~ 18 \\cdot 1492.1775 \\le x_9 \\le 22 \\cdot 1492.1775 \\\\\n",
        "x_{10} = speed_3 \\cdot N_3, ~~~~ 18 \\cdot 52.01102 \\le x_{10} \\le 22 \\cdot 52.011 \\\\\n",
        "x_{11} = ram_3 \\cdot N_3, ~~~~ 18 \\cdot 8.28694 \\le x_{11} \\le 22 \\cdot 8.28694 \\\\\n",
        "x_{12} = hd_3 \\cdot N_3, ~~~~ 18 \\cdot 416.60169 \\le x_{12} \\le 22 \\cdot 416.60169 \\\\\n",
        "x_{13} = 1492.1775 \\cdot N_4, ~~~~ 3 \\cdot 1492.1775 \\le x_{13} \\le 8 \\cdot 1492.1775 \\\\\n",
        "x_{14} = speed_4 \\cdot N_4, ~~~~ 3 \\cdot 52.01102 \\le x_{14} \\le 8 \\cdot 52.011 \\\\\n",
        "x_{15} = ram_4 \\cdot N_4, ~~~~ 3 \\cdot 8.28694 \\le x_{15} \\le 8 \\cdot 8.28694 \\\\\n",
        "x_{16} = hd_4 \\cdot N_4, ~~~~ 3 \\cdot 416.60169 \\le x_{16} \\le 8 \\cdot 416.60169 $$"
      ],
      "metadata": {
        "id": "LeejWFuAmuPv"
      }
    },
    {
      "cell_type": "markdown",
      "source": [
        "Учтём ограничения нижнего уровня:\n",
        "$$ N_1 \\cdot price_1 \\le 19200 ⇒ x_1 + 5.8112 \\cdot x_2 + 78.2357 \\cdot x_3 - 0.5357 \\cdot x_4 \\le 19200 \\\\\n",
        "N_2 \\cdot price_2 \\le 90000 ⇒ x_5 + 5.8112 \\cdot x_6 + 78.2357 \\cdot x_7 - 0.5357 \\cdot x_8 \\le 90000 \\\\\n",
        "N_3 \\cdot price_3 \\le 61600 ⇒ x_9 + 5.8112 \\cdot x_{10} + 78.2357 \\cdot x_{11} - 0.5357 \\cdot x_{12} \\le 61600 \\\\\n",
        "N_4 \\cdot price_4 \\le 9600 ⇒ x_{13} + 5.8112 \\cdot x_{14} + 78.2357 \\cdot x_{15} - 0.5357 \\cdot x_{16} \\le 9600 \\\\\n",
        "N_1 \\cdot speed_1 \\ge 165 ⇒ x_2 \\ge 165 \\\\\n",
        "N_1 \\cdot ram_1 \\ge 21 ⇒ x_3 \\ge 21 \\\\\n",
        "N_2 \\cdot speed_2 \\ge 798 ⇒ x_6 \\ge 798 \\\\\n",
        "N_2 \\cdot ram_2 \\ge 133 ⇒ x_7 \\ge 133 \\\\\n",
        "N_2 \\cdot hd_2 \\ge 3990 ⇒ x_8 \\ge 3990 $$"
      ],
      "metadata": {
        "id": "DTlut_wwzf79"
      }
    },
    {
      "cell_type": "code",
      "source": [
        "max(Data$speed)\n",
        "max(Data$ram)\n",
        "max(Data$hd)"
      ],
      "metadata": {
        "colab": {
          "base_uri": "https://localhost:8080/",
          "height": 68
        },
        "id": "70RqD9hZCDld",
        "outputId": "92315a0c-0a6c-49db-8a4b-1876ba5e7548"
      },
      "execution_count": null,
      "outputs": [
        {
          "output_type": "display_data",
          "data": {
            "text/html": [
              "100"
            ],
            "text/markdown": "100",
            "text/latex": "100",
            "text/plain": [
              "[1] 100"
            ]
          },
          "metadata": {}
        },
        {
          "output_type": "display_data",
          "data": {
            "text/html": [
              "32"
            ],
            "text/markdown": "32",
            "text/latex": "32",
            "text/plain": [
              "[1] 32"
            ]
          },
          "metadata": {}
        },
        {
          "output_type": "display_data",
          "data": {
            "text/html": [
              "2100"
            ],
            "text/markdown": "2100",
            "text/latex": "2100",
            "text/plain": [
              "[1] 2100"
            ]
          },
          "metadata": {}
        }
      ]
    },
    {
      "cell_type": "markdown",
      "source": [
        "Для оптимизации на нижнем уровне нужно провести нормализацию:\n",
        "$$ \\bar x_2 = \\frac {x_2} {max(N_1) \\cdot max(speed)} = \\frac {x_2}{6 \\cdot 100} = \\frac {x_2} {600} \\\\\n",
        "\\bar x_3 = \\frac {x_3} {max(N_1) \\cdot max(ram)} = \\frac {x_3}{6 \\cdot 32} = \\frac {x_3} {192} \\\\\n",
        "\\bar x_7 = \\frac {x_7} {max(N_2) \\cdot max(ram)} = \\frac {x_7}{25 \\cdot 32} = \\frac {x_7} {800} \\\\\n",
        "\\bar x_8 = \\frac {x_8} {max(N_2) \\cdot max(hd)} = \\frac {x_8}{25 \\cdot 2100} = \\frac {x_8} {52200} \\\\\n",
        "\\bar x_{11} = \\frac {x_{11}} {max(N_3) \\cdot max(ram)} = \\frac {x_{11}}{22 \\cdot 32} = \\frac {x_{11}} {704}$$"
      ],
      "metadata": {
        "id": "1ARUQBlYAvJ5"
      }
    },
    {
      "cell_type": "markdown",
      "source": [
        "Сформулируем частные критерии оптимизации:  \n",
        "$$ W_1 = 0.7 \\cdot \\frac {x_2}{600} + 0.3 \\cdot \\frac {x_3}{192} → max \\\\\n",
        "W_2 = 0.6 \\cdot \\frac {x_7}{800} + 0.4 \\cdot \\frac {x_8}{52200} → max \\\\\n",
        "W_3 = \\frac {x_{11}}{704} → max $$"
      ],
      "metadata": {
        "id": "kXHCxD_9FAZ4"
      }
    },
    {
      "cell_type": "markdown",
      "source": [
        "Критерий нижнего уровня:\n",
        "$$ H_2 = 0.4 \\cdot W_1 + 0.4 \\cdot W_2 + 0.2 \\cdot W_3 = 0.7 \\cdot 0.4 \\cdot \\frac {x_2}{600} + 0.3 \\cdot 0.4 \\cdot \\frac {x_3}{192} + 0.6 \\cdot 0.4 \\cdot \\frac {x_7}{800} + 0.4 \\cdot 0.4 \\cdot \\frac {x_8}{52200} + 0.2 \\cdot \\frac {x_{11}}{704} → max $$"
      ],
      "metadata": {
        "id": "_5BKeb49G6WD"
      }
    },
    {
      "cell_type": "markdown",
      "source": [
        "Итоговые критерии:  \n",
        "$$ H_1 = x_1 + 5.8112 \\cdot x_2 + 78.2357 \\cdot x_3 - 0.5357 \\cdot x_4 + x_5 + 5.8112 \\cdot x_6 + 78.2357 \\cdot x_7 - 0.5357 \\cdot x_8 + x_9 + 5.8112 \\cdot x_{10} + 78.2357 \\cdot x_{11} - 0.5357 \\cdot x_{12} + x_{13} + 5.8112 \\cdot x_{14} + 78.2357 \\cdot x_{15} - 0.5357 \\cdot x_{16} → min $$ \\\\\n",
        "$$ H_2 = 0.4 \\cdot W_1 + 0.4 \\cdot W_2 + 0.2 \\cdot W_3 = 0.7 \\cdot 0.4 \\cdot \\frac {x_2}{600} + 0.3 \\cdot 0.4 \\cdot \\frac {x_3}{192} + 0.6 \\cdot 0.4 \\cdot \\frac {x_7}{800} + 0.4 \\cdot 0.4 \\cdot \\frac {x_8}{52200} + 0.2 \\cdot \\frac {x_{11}}{704} → max $$"
      ],
      "metadata": {
        "id": "1vmEjtnKIKjE"
      }
    },
    {
      "cell_type": "markdown",
      "source": [
        "Дальше решим полученную оптимизационную задачу методом последовательных уступок:"
      ],
      "metadata": {
        "id": "Ws58IsoLKLoR"
      }
    },
    {
      "cell_type": "code",
      "source": [
        "H1 <- function(x) {return(sum(c(1, 5.8112, 78.2357, -0.5357, 1, 5.8112, 78.2357, -0.5357, 1, 5.8112, 78.2357, -0.5357, 1, 5.8112, 78.2357, -0.5357)*x))}"
      ],
      "metadata": {
        "id": "PUA0JKhC9ULq"
      },
      "execution_count": null,
      "outputs": []
    },
    {
      "cell_type": "markdown",
      "source": [],
      "metadata": {
        "id": "Z5JEzAPKfaCc"
      }
    },
    {
      "cell_type": "code",
      "source": [
        "H2 <- function(x) {return(sum(c(0, (0.7*0.4)/600, (0.3*0.4)/192, 0, 0, 0, (0.6*0.4)/800, (0.4*0.4)/52200, 0, 0, (0.2/704), 0, 0, 0, 0, 0)*x))}\n"
      ],
      "metadata": {
        "id": "6y9IWMbcMTi9"
      },
      "execution_count": null,
      "outputs": []
    },
    {
      "cell_type": "code",
      "source": [
        "objective.in<-c(1, 5.8112, 78.2357, -0.5357, 1, 5.8112, 78.2357, -0.5357, 1, 5.8112, 78.2357, -0.5357, 1, 5.8112, 78.2357, -0.5357) # H1\n",
        "const.mat<-matrix(c(0, ((0.7*0.4)/600), ((0.3*0.4)/192), 0, 0, 0, ((0.6*0.4)/800), ((0.4*0.4)/52200), 0, 0, (0.2/704), 0, 0, 0, 0, 0,              # H2\n",
        "                    1,0,0,0,0,0,0,0,0,0,0,0,0,0,0,0,\n",
        "                    1,0,0,0,0,0,0,0,0,0,0,0,0,0,0,0,\n",
        "\n",
        "                    0,1,0,0,0,0,0,0,0,0,0,0,0,0,0,0,\n",
        "                    0,1,0,0,0,0,0,0,0,0,0,0,0,0,0,0,\n",
        "\n",
        "                    0,0,1,0,0,0,0,0,0,0,0,0,0,0,0,0,\n",
        "                    0,0,1,0,0,0,0,0,0,0,0,0,0,0,0,0,\n",
        "\n",
        "                    0,0,0,1,0,0,0,0,0,0,0,0,0,0,0,0,\n",
        "                    0,0,0,1,0,0,0,0,0,0,0,0,0,0,0,0,\n",
        "\n",
        "                    0,0,0,0,1,0,0,0,0,0,0,0,0,0,0,0,\n",
        "                    0,0,0,0,1,0,0,0,0,0,0,0,0,0,0,0,\n",
        "\n",
        "                    0,0,0,0,0,1,0,0,0,0,0,0,0,0,0,0,\n",
        "                    0,0,0,0,0,1,0,0,0,0,0,0,0,0,0,0,\n",
        "\n",
        "                    0,0,0,0,0,0,1,0,0,0,0,0,0,0,0,0,\n",
        "                    0,0,0,0,0,0,1,0,0,0,0,0,0,0,0,0,\n",
        "\n",
        "                    0,0,0,0,0,0,0,1,0,0,0,0,0,0,0,0,\n",
        "                    0,0,0,0,0,0,0,1,0,0,0,0,0,0,0,0,\n",
        "\n",
        "                    0,0,0,0,0,0,0,0,1,0,0,0,0,0,0,0,\n",
        "                    0,0,0,0,0,0,0,0,1,0,0,0,0,0,0,0,\n",
        "\n",
        "                    0,0,0,0,0,0,0,0,0,1,0,0,0,0,0,0,\n",
        "                    0,0,0,0,0,0,0,0,0,1,0,0,0,0,0,0,\n",
        "\n",
        "                    0,0,0,0,0,0,0,0,0,0,1,0,0,0,0,0,\n",
        "                    0,0,0,0,0,0,0,0,0,0,1,0,0,0,0,0,\n",
        "\n",
        "                    0,0,0,0,0,0,0,0,0,0,0,1,0,0,0,0,\n",
        "                    0,0,0,0,0,0,0,0,0,0,0,1,0,0,0,0,\n",
        "\n",
        "                    0,0,0,0,0,0,0,0,0,0,0,0,1,0,0,0,\n",
        "                    0,0,0,0,0,0,0,0,0,0,0,0,1,0,0,0,\n",
        "\n",
        "                    0,0,0,0,0,0,0,0,0,0,0,0,0,1,0,0,\n",
        "                    0,0,0,0,0,0,0,0,0,0,0,0,0,1,0,0,\n",
        "\n",
        "                    0,0,0,0,0,0,0,0,0,0,0,0,0,0,1,0,\n",
        "                    0,0,0,0,0,0,0,0,0,0,0,0,0,0,1,0,\n",
        "\n",
        "                    0,0,0,0,0,0,0,0,0,0,0,0,0,0,0,1,\n",
        "                    0,0,0,0,0,0,0,0,0,0,0,0,0,0,0,1,\n",
        "\n",
        "                    1,5.8112,78.2357,-0.5357,0,0,0,0,0,0,0,0,0,0,0,0,\n",
        "                    0,0,0,0,1,5.8112,78.2357,-0.5357,0,0,0,0,0,0,0,0,\n",
        "                    0,0,0,0,0,0,0,0,1,5.8112,78.2357,-0.5357,0,0,0,0,\n",
        "                    0,0,0,0,0,0,0,0,0,0,0,0,1,5.8112,78.2357,-0.5357,\n",
        "\n",
        "                    0,1,0,0,0,0,0,0,0,0,0,0,0,0,0,0,\n",
        "                    0,0,1,0,0,0,0,0,0,0,0,0,0,0,0,0,\n",
        "                    0,0,0,0,0,1,0,0,0,0,0,0,0,0,0,0,\n",
        "                    0,0,0,0,0,0,1,0,0,0,0,0,0,0,0,0,\n",
        "                    0,0,0,0,0,0,0,1,0,0,0,0,0,0,0,0\n",
        "                    ), nrow=42, byrow=TRUE)\n",
        "const.dir<-c(\">=\",\n",
        "  \">=\",\"<=\", \">=\",\"<=\", \">=\",\"<=\", \">=\",\"<=\", \">=\",\"<=\", \">=\",\"<=\", \">=\",\"<=\", \">=\",\"<=\",\n",
        "  \">=\",\"<=\", \">=\",\"<=\", \">=\",\"<=\", \">=\",\"<=\", \">=\",\"<=\", \">=\",\"<=\", \">=\",\"<=\", \">=\",\"<=\",\n",
        "  \"<=\",\"<=\",\"<=\",\"<=\", \">=\",\">=\",\">=\",\">=\",\">=\")\n",
        "const.rhs<-c(0,\n",
        "             3 * 1492.177, 6 * 1492.177,\n",
        "             3 * 52.01102, 6 * 52.01102,\n",
        "             3 * 8.286947, 6 * 8.286947,\n",
        "             3 * 416.6017, 6 * 416.6017,\n",
        "             19 * 1492.1775, 25 * 1492.1775,\n",
        "             19 * 52.01102, 25 * 52.01102,\n",
        "             19 * 8.286947, 25 * 8.286947,\n",
        "             19 * 416.6017, 25 * 416.6017,\n",
        "             18 * 1492.1775, 22 * 1492.1775,\n",
        "             18 * 52.01102, 22 * 52.01102,\n",
        "             18 * 8.286947, 22 * 8.286947,\n",
        "             18 * 416.6017, 22 * 416.6017,\n",
        "             3 * 1492.1775, 8 * 1492.1775,\n",
        "             3 * 52.01102, 8 * 52.01102,\n",
        "             3 * 8.286947, 8 * 8.286947,\n",
        "             3 * 416.6017, 8 * 416.6017,\n",
        "             19200, 90000, 61600, 9600,\n",
        "             165, 21, 798, 133, 3990)"
      ],
      "metadata": {
        "id": "qWgAFboFPoch"
      },
      "execution_count": null,
      "outputs": []
    },
    {
      "cell_type": "code",
      "source": [
        "Res <- lp(\"min\", objective.in, const.mat, const.dir, const.rhs)\n",
        "\n",
        "r<-Res$solution\n",
        "r\n",
        "H1(Res$solution)\n",
        "H2(Res$solution)"
      ],
      "metadata": {
        "colab": {
          "base_uri": "https://localhost:8080/",
          "height": 68
        },
        "id": "WoBtHvoVkrWH",
        "outputId": "959d01c3-87c0-4ede-dddf-ce7f38e1df36"
      },
      "execution_count": null,
      "outputs": [
        {
          "output_type": "display_data",
          "data": {
            "text/html": [
              "<style>\n",
              ".list-inline {list-style: none; margin:0; padding: 0}\n",
              ".list-inline>li {display: inline-block}\n",
              ".list-inline>li:not(:last-child)::after {content: \"\\00b7\"; padding: 0 .5ex}\n",
              "</style>\n",
              "<ol class=list-inline><li>4476.531</li><li>165</li><li>24.860841</li><li>2499.6102</li><li>28351.3725</li><li>988.20938</li><li>157.451993</li><li>10415.0425</li><li>26859.195</li><li>936.19836</li><li>149.165046</li><li>9165.2374</li><li>4476.5325</li><li>156.03306</li><li>24.860841</li><li>3332.8136</li></ol>\n"
            ],
            "text/markdown": "1. 4476.531\n2. 165\n3. 24.860841\n4. 2499.6102\n5. 28351.3725\n6. 988.20938\n7. 157.451993\n8. 10415.0425\n9. 26859.195\n10. 936.19836\n11. 149.165046\n12. 9165.2374\n13. 4476.5325\n14. 156.03306\n15. 24.860841\n16. 3332.8136\n\n\n",
            "text/latex": "\\begin{enumerate*}\n\\item 4476.531\n\\item 165\n\\item 24.860841\n\\item 2499.6102\n\\item 28351.3725\n\\item 988.20938\n\\item 157.451993\n\\item 10415.0425\n\\item 26859.195\n\\item 936.19836\n\\item 149.165046\n\\item 9165.2374\n\\item 4476.5325\n\\item 156.03306\n\\item 24.860841\n\\item 3332.8136\n\\end{enumerate*}\n",
            "text/plain": [
              " [1]  4476.53100   165.00000    24.86084  2499.61020 28351.37250   988.20938\n",
              " [7]   157.45199 10415.04250 26859.19500   936.19836   149.16505  9165.23740\n",
              "[13]  4476.53250   156.03306    24.86084  3332.81360"
            ]
          },
          "metadata": {}
        },
        {
          "output_type": "display_data",
          "data": {
            "text/html": [
              "91477.1604794097"
            ],
            "text/markdown": "91477.1604794097",
            "text/latex": "91477.1604794097",
            "text/plain": [
              "[1] 91477.16"
            ]
          },
          "metadata": {}
        },
        {
          "output_type": "display_data",
          "data": {
            "text/html": [
              "0.214073558963436"
            ],
            "text/markdown": "0.214073558963436",
            "text/latex": "0.214073558963436",
            "text/plain": [
              "[1] 0.2140736"
            ]
          },
          "metadata": {}
        }
      ]
    },
    {
      "cell_type": "markdown",
      "source": [
        "$H_1 = 91477.1604794097, H_2 = 0.214073558963436$ \\\\\n",
        "Поменяем направление оптимизации, задав ограничение $H_1 \\le 92000$:"
      ],
      "metadata": {
        "id": "c3MzsfZJqxeh"
      }
    },
    {
      "cell_type": "code",
      "source": [
        "objective.in<-c(0, ((0.7*0.4)/600), ((0.3*0.4)/192), 0, 0, 0, ((0.6*0.4)/800), ((0.4*0.4)/52200), 0, 0, (0.2/704), 0, 0, 0, 0, 0)                  # H2\n",
        "const.mat<-matrix(c(1, 5.8112, 78.2357, -0.5357, 1, 5.8112, 78.2357, -0.5357, 1, 5.8112, 78.2357, -0.5357, 1, 5.8112, 78.2357, -0.5357,            # H1\n",
        "                    1,0,0,0,0,0,0,0,0,0,0,0,0,0,0,0,\n",
        "                    1,0,0,0,0,0,0,0,0,0,0,0,0,0,0,0,\n",
        "\n",
        "                    0,1,0,0,0,0,0,0,0,0,0,0,0,0,0,0,\n",
        "                    0,1,0,0,0,0,0,0,0,0,0,0,0,0,0,0,\n",
        "\n",
        "                    0,0,1,0,0,0,0,0,0,0,0,0,0,0,0,0,\n",
        "                    0,0,1,0,0,0,0,0,0,0,0,0,0,0,0,0,\n",
        "\n",
        "                    0,0,0,1,0,0,0,0,0,0,0,0,0,0,0,0,\n",
        "                    0,0,0,1,0,0,0,0,0,0,0,0,0,0,0,0,\n",
        "\n",
        "                    0,0,0,0,1,0,0,0,0,0,0,0,0,0,0,0,\n",
        "                    0,0,0,0,1,0,0,0,0,0,0,0,0,0,0,0,\n",
        "\n",
        "                    0,0,0,0,0,1,0,0,0,0,0,0,0,0,0,0,\n",
        "                    0,0,0,0,0,1,0,0,0,0,0,0,0,0,0,0,\n",
        "\n",
        "                    0,0,0,0,0,0,1,0,0,0,0,0,0,0,0,0,\n",
        "                    0,0,0,0,0,0,1,0,0,0,0,0,0,0,0,0,\n",
        "\n",
        "                    0,0,0,0,0,0,0,1,0,0,0,0,0,0,0,0,\n",
        "                    0,0,0,0,0,0,0,1,0,0,0,0,0,0,0,0,\n",
        "\n",
        "                    0,0,0,0,0,0,0,0,1,0,0,0,0,0,0,0,\n",
        "                    0,0,0,0,0,0,0,0,1,0,0,0,0,0,0,0,\n",
        "\n",
        "                    0,0,0,0,0,0,0,0,0,1,0,0,0,0,0,0,\n",
        "                    0,0,0,0,0,0,0,0,0,1,0,0,0,0,0,0,\n",
        "\n",
        "                    0,0,0,0,0,0,0,0,0,0,1,0,0,0,0,0,\n",
        "                    0,0,0,0,0,0,0,0,0,0,1,0,0,0,0,0,\n",
        "\n",
        "                    0,0,0,0,0,0,0,0,0,0,0,1,0,0,0,0,\n",
        "                    0,0,0,0,0,0,0,0,0,0,0,1,0,0,0,0,\n",
        "\n",
        "                    0,0,0,0,0,0,0,0,0,0,0,0,1,0,0,0,\n",
        "                    0,0,0,0,0,0,0,0,0,0,0,0,1,0,0,0,\n",
        "\n",
        "                    0,0,0,0,0,0,0,0,0,0,0,0,0,1,0,0,\n",
        "                    0,0,0,0,0,0,0,0,0,0,0,0,0,1,0,0,\n",
        "\n",
        "                    0,0,0,0,0,0,0,0,0,0,0,0,0,0,1,0,\n",
        "                    0,0,0,0,0,0,0,0,0,0,0,0,0,0,1,0,\n",
        "\n",
        "                    0,0,0,0,0,0,0,0,0,0,0,0,0,0,0,1,\n",
        "                    0,0,0,0,0,0,0,0,0,0,0,0,0,0,0,1,\n",
        "\n",
        "                    1,5.8112,78.2357,-0.5357,0,0,0,0,0,0,0,0,0,0,0,0,\n",
        "                    0,0,0,0,1,5.8112,78.2357,-0.5357,0,0,0,0,0,0,0,0,\n",
        "                    0,0,0,0,0,0,0,0,1,5.8112,78.2357,-0.5357,0,0,0,0,\n",
        "                    0,0,0,0,0,0,0,0,0,0,0,0,1,5.8112,78.2357,-0.5357,\n",
        "\n",
        "                    0,1,0,0,0,0,0,0,0,0,0,0,0,0,0,0,\n",
        "                    0,0,1,0,0,0,0,0,0,0,0,0,0,0,0,0,\n",
        "                    0,0,0,0,0,1,0,0,0,0,0,0,0,0,0,0,\n",
        "                    0,0,0,0,0,0,1,0,0,0,0,0,0,0,0,0,\n",
        "                    0,0,0,0,0,0,0,1,0,0,0,0,0,0,0,0\n",
        "                    ), nrow=42, byrow=TRUE)\n",
        "const.dir<-c(\"<=\",\n",
        "  \">=\",\"<=\", \">=\",\"<=\", \">=\",\"<=\", \">=\",\"<=\", \">=\",\"<=\", \">=\",\"<=\", \">=\",\"<=\", \">=\",\"<=\",\n",
        "  \">=\",\"<=\", \">=\",\"<=\", \">=\",\"<=\", \">=\",\"<=\", \">=\",\"<=\", \">=\",\"<=\", \">=\",\"<=\", \">=\",\"<=\",\n",
        "  \"<=\",\"<=\",\"<=\",\"<=\", \">=\",\">=\",\">=\",\">=\",\">=\")\n",
        "const.rhs<-c(92000,\n",
        "             3 * 1492.177, 6 * 1492.177,\n",
        "             3 * 52.01102, 6 * 52.01102,\n",
        "             3 * 8.286947, 6 * 8.286947,\n",
        "             3 * 416.6017, 6 * 416.6017,\n",
        "             19 * 1492.1775, 25 * 1492.1775,\n",
        "             19 * 52.01102, 25 * 52.01102,\n",
        "             19 * 8.286947, 25 * 8.286947,\n",
        "             19 * 416.6017, 25 * 416.6017,\n",
        "             18 * 1492.1775, 22 * 1492.1775,\n",
        "             18 * 52.01102, 22 * 52.01102,\n",
        "             18 * 8.286947, 22 * 8.286947,\n",
        "             18 * 416.6017, 22 * 416.6017,\n",
        "             3 * 1492.1775, 8 * 1492.1775,\n",
        "             3 * 52.01102, 8 * 52.01102,\n",
        "             3 * 8.286947, 8 * 8.286947,\n",
        "             3 * 416.6017, 8 * 416.6017,\n",
        "             19200, 90000, 61600, 9600,\n",
        "             165, 21, 798, 133, 3990)"
      ],
      "metadata": {
        "id": "GPPhfuzBrXAF"
      },
      "execution_count": null,
      "outputs": []
    },
    {
      "cell_type": "code",
      "source": [
        "Res<-lp(\"max\", objective.in, const.mat, const.dir, const.rhs)\n",
        "\n",
        "r<-Res$solution\n",
        "r\n",
        "H1(Res$solution)\n",
        "H2(Res$solution)"
      ],
      "metadata": {
        "colab": {
          "base_uri": "https://localhost:8080/",
          "height": 68
        },
        "id": "fSEjccTWtXYc",
        "outputId": "de75bf84-1091-46af-9422-e5c529967691"
      },
      "execution_count": null,
      "outputs": [
        {
          "output_type": "display_data",
          "data": {
            "text/html": [
              "<style>\n",
              ".list-inline {list-style: none; margin:0; padding: 0}\n",
              ".list-inline>li {display: inline-block}\n",
              ".list-inline>li:not(:last-child)::after {content: \"\\00b7\"; padding: 0 .5ex}\n",
              "</style>\n",
              "<ol class=list-inline><li>4476.531</li><li>254.97100781083</li><li>24.860841</li><li>2499.6102</li><li>28351.3725</li><li>988.20938</li><li>157.451993</li><li>10415.0425</li><li>26859.195</li><li>936.19836</li><li>149.165046</li><li>9165.2374</li><li>4476.5325</li><li>156.03306</li><li>24.860841</li><li>3332.8136</li></ol>\n"
            ],
            "text/markdown": "1. 4476.531\n2. 254.97100781083\n3. 24.860841\n4. 2499.6102\n5. 28351.3725\n6. 988.20938\n7. 157.451993\n8. 10415.0425\n9. 26859.195\n10. 936.19836\n11. 149.165046\n12. 9165.2374\n13. 4476.5325\n14. 156.03306\n15. 24.860841\n16. 3332.8136\n\n\n",
            "text/latex": "\\begin{enumerate*}\n\\item 4476.531\n\\item 254.97100781083\n\\item 24.860841\n\\item 2499.6102\n\\item 28351.3725\n\\item 988.20938\n\\item 157.451993\n\\item 10415.0425\n\\item 26859.195\n\\item 936.19836\n\\item 149.165046\n\\item 9165.2374\n\\item 4476.5325\n\\item 156.03306\n\\item 24.860841\n\\item 3332.8136\n\\end{enumerate*}\n",
            "text/plain": [
              " [1]  4476.53100   254.97101    24.86084  2499.61020 28351.37250   988.20938\n",
              " [7]   157.45199 10415.04250 26859.19500   936.19836   149.16505  9165.23740\n",
              "[13]  4476.53250   156.03306    24.86084  3332.81360"
            ]
          },
          "metadata": {}
        },
        {
          "output_type": "display_data",
          "data": {
            "text/html": [
              "92000"
            ],
            "text/markdown": "92000",
            "text/latex": "92000",
            "text/plain": [
              "[1] 92000"
            ]
          },
          "metadata": {}
        },
        {
          "output_type": "display_data",
          "data": {
            "text/html": [
              "0.256060029275157"
            ],
            "text/markdown": "0.256060029275157",
            "text/latex": "0.256060029275157",
            "text/plain": [
              "[1] 0.25606"
            ]
          },
          "metadata": {}
        }
      ]
    },
    {
      "cell_type": "markdown",
      "source": [
        "$H_1 = 92000, H_2 = 0.256060029275157$ \\\\\n",
        "Поменяем ещё раз, задав $H_2 = 0.24$:"
      ],
      "metadata": {
        "id": "r0Qu5NduBm_x"
      }
    },
    {
      "cell_type": "code",
      "source": [
        "objective.in<-c(1, 5.8112, 78.2357, -0.5357, 1, 5.8112, 78.2357, -0.5357, 1, 5.8112, 78.2357, -0.5357, 1, 5.8112, 78.2357, -0.5357)    # H1\n",
        "const.mat<-matrix(c(0, ((0.7*0.4)/600), ((0.3*0.4)/192), 0, 0, 0, ((0.6*0.4)/800), ((0.4*0.4)/52200), 0, 0, (0.2/704), 0, 0, 0, 0, 0,  # H2\n",
        "                    1,0,0,0,0,0,0,0,0,0,0,0,0,0,0,0,\n",
        "                    1,0,0,0,0,0,0,0,0,0,0,0,0,0,0,0,\n",
        "\n",
        "                    0,1,0,0,0,0,0,0,0,0,0,0,0,0,0,0,\n",
        "                    0,1,0,0,0,0,0,0,0,0,0,0,0,0,0,0,\n",
        "\n",
        "                    0,0,1,0,0,0,0,0,0,0,0,0,0,0,0,0,\n",
        "                    0,0,1,0,0,0,0,0,0,0,0,0,0,0,0,0,\n",
        "\n",
        "                    0,0,0,1,0,0,0,0,0,0,0,0,0,0,0,0,\n",
        "                    0,0,0,1,0,0,0,0,0,0,0,0,0,0,0,0,\n",
        "\n",
        "                    0,0,0,0,1,0,0,0,0,0,0,0,0,0,0,0,\n",
        "                    0,0,0,0,1,0,0,0,0,0,0,0,0,0,0,0,\n",
        "\n",
        "                    0,0,0,0,0,1,0,0,0,0,0,0,0,0,0,0,\n",
        "                    0,0,0,0,0,1,0,0,0,0,0,0,0,0,0,0,\n",
        "\n",
        "                    0,0,0,0,0,0,1,0,0,0,0,0,0,0,0,0,\n",
        "                    0,0,0,0,0,0,1,0,0,0,0,0,0,0,0,0,\n",
        "\n",
        "                    0,0,0,0,0,0,0,1,0,0,0,0,0,0,0,0,\n",
        "                    0,0,0,0,0,0,0,1,0,0,0,0,0,0,0,0,\n",
        "\n",
        "                    0,0,0,0,0,0,0,0,1,0,0,0,0,0,0,0,\n",
        "                    0,0,0,0,0,0,0,0,1,0,0,0,0,0,0,0,\n",
        "\n",
        "                    0,0,0,0,0,0,0,0,0,1,0,0,0,0,0,0,\n",
        "                    0,0,0,0,0,0,0,0,0,1,0,0,0,0,0,0,\n",
        "\n",
        "                    0,0,0,0,0,0,0,0,0,0,1,0,0,0,0,0,\n",
        "                    0,0,0,0,0,0,0,0,0,0,1,0,0,0,0,0,\n",
        "\n",
        "                    0,0,0,0,0,0,0,0,0,0,0,1,0,0,0,0,\n",
        "                    0,0,0,0,0,0,0,0,0,0,0,1,0,0,0,0,\n",
        "\n",
        "                    0,0,0,0,0,0,0,0,0,0,0,0,1,0,0,0,\n",
        "                    0,0,0,0,0,0,0,0,0,0,0,0,1,0,0,0,\n",
        "\n",
        "                    0,0,0,0,0,0,0,0,0,0,0,0,0,1,0,0,\n",
        "                    0,0,0,0,0,0,0,0,0,0,0,0,0,1,0,0,\n",
        "\n",
        "                    0,0,0,0,0,0,0,0,0,0,0,0,0,0,1,0,\n",
        "                    0,0,0,0,0,0,0,0,0,0,0,0,0,0,1,0,\n",
        "\n",
        "                    0,0,0,0,0,0,0,0,0,0,0,0,0,0,0,1,\n",
        "                    0,0,0,0,0,0,0,0,0,0,0,0,0,0,0,1,\n",
        "\n",
        "                    1,5.8112,78.2357,-0.5357,0,0,0,0,0,0,0,0,0,0,0,0,\n",
        "                    0,0,0,0,1,5.8112,78.2357,-0.5357,0,0,0,0,0,0,0,0,\n",
        "                    0,0,0,0,0,0,0,0,1,5.8112,78.2357,-0.5357,0,0,0,0,\n",
        "                    0,0,0,0,0,0,0,0,0,0,0,0,1,5.8112,78.2357,-0.5357,\n",
        "\n",
        "                    0,1,0,0,0,0,0,0,0,0,0,0,0,0,0,0,\n",
        "                    0,0,1,0,0,0,0,0,0,0,0,0,0,0,0,0,\n",
        "                    0,0,0,0,0,1,0,0,0,0,0,0,0,0,0,0,\n",
        "                    0,0,0,0,0,0,1,0,0,0,0,0,0,0,0,0,\n",
        "                    0,0,0,0,0,0,0,1,0,0,0,0,0,0,0,0\n",
        "                    ), nrow=42, byrow=TRUE)\n",
        "const.dir<-c(\">=\",\n",
        "  \">=\",\"<=\", \">=\",\"<=\", \">=\",\"<=\", \">=\",\"<=\", \">=\",\"<=\", \">=\",\"<=\", \">=\",\"<=\", \">=\",\"<=\",\n",
        "  \">=\",\"<=\", \">=\",\"<=\", \">=\",\"<=\", \">=\",\"<=\", \">=\",\"<=\", \">=\",\"<=\", \">=\",\"<=\", \">=\",\"<=\",\n",
        "  \"<=\",\"<=\",\"<=\",\"<=\", \">=\",\">=\",\">=\",\">=\",\">=\")\n",
        "const.rhs<-c(0.24,\n",
        "             3 * 1492.177, 6 * 1492.177,\n",
        "             3 * 52.01102, 6 * 52.01102,\n",
        "             3 * 8.286947, 6 * 8.286947,\n",
        "             3 * 416.6017, 6 * 416.6017,\n",
        "             19 * 1492.1775, 25 * 1492.1775,\n",
        "             19 * 52.01102, 25 * 52.01102,\n",
        "             19 * 8.286947, 25 * 8.286947,\n",
        "             19 * 416.6017, 25 * 416.6017,\n",
        "             18 * 1492.1775, 22 * 1492.1775,\n",
        "             18 * 52.01102, 22 * 52.01102,\n",
        "             18 * 8.286947, 22 * 8.286947,\n",
        "             18 * 416.6017, 22 * 416.6017,\n",
        "             3 * 1492.1775, 8 * 1492.1775,\n",
        "             3 * 52.01102, 8 * 52.01102,\n",
        "             3 * 8.286947, 8 * 8.286947,\n",
        "             3 * 416.6017, 8 * 416.6017,\n",
        "             19200, 90000, 61600, 9600,\n",
        "             165, 21, 798, 133, 3990)"
      ],
      "metadata": {
        "id": "4yRndw_YByfR"
      },
      "execution_count": null,
      "outputs": []
    },
    {
      "cell_type": "code",
      "source": [
        "Res <- lp(\"min\", objective.in, const.mat, const.dir, const.rhs)\n",
        "\n",
        "r<-Res$solution\n",
        "r\n",
        "H1(Res$solution)\n",
        "H2(Res$solution)"
      ],
      "metadata": {
        "colab": {
          "base_uri": "https://localhost:8080/",
          "height": 68
        },
        "id": "H2JJXYY8B_0E",
        "outputId": "d510c8cd-72a8-4f84-b3a1-134a8ef42f94"
      },
      "execution_count": null,
      "outputs": [
        {
          "output_type": "display_data",
          "data": {
            "text/html": [
              "<style>\n",
              ".list-inline {list-style: none; margin:0; padding: 0}\n",
              ".list-inline>li {display: inline-block}\n",
              ".list-inline>li:not(:last-child)::after {content: \"\\00b7\"; padding: 0 .5ex}\n",
              "</style>\n",
              "<ol class=list-inline><li>4476.531</li><li>220.556659364168</li><li>24.860841</li><li>2499.6102</li><li>28351.3725</li><li>988.20938</li><li>157.451993</li><li>10415.0425</li><li>26859.195</li><li>936.19836</li><li>149.165046</li><li>9165.2374</li><li>4476.5325</li><li>156.03306</li><li>24.860841</li><li>3332.8136</li></ol>\n"
            ],
            "text/markdown": "1. 4476.531\n2. 220.556659364168\n3. 24.860841\n4. 2499.6102\n5. 28351.3725\n6. 988.20938\n7. 157.451993\n8. 10415.0425\n9. 26859.195\n10. 936.19836\n11. 149.165046\n12. 9165.2374\n13. 4476.5325\n14. 156.03306\n15. 24.860841\n16. 3332.8136\n\n\n",
            "text/latex": "\\begin{enumerate*}\n\\item 4476.531\n\\item 220.556659364168\n\\item 24.860841\n\\item 2499.6102\n\\item 28351.3725\n\\item 988.20938\n\\item 157.451993\n\\item 10415.0425\n\\item 26859.195\n\\item 936.19836\n\\item 149.165046\n\\item 9165.2374\n\\item 4476.5325\n\\item 156.03306\n\\item 24.860841\n\\item 3332.8136\n\\end{enumerate*}\n",
            "text/plain": [
              " [1]  4476.53100   220.55666    24.86084  2499.61020 28351.37250   988.20938\n",
              " [7]   157.45199 10415.04250 26859.19500   936.19836   149.16505  9165.23740\n",
              "[13]  4476.53250   156.03306    24.86084  3332.81360"
            ]
          },
          "metadata": {}
        },
        {
          "output_type": "display_data",
          "data": {
            "text/html": [
              "91800.0113383068"
            ],
            "text/markdown": "91800.0113383068",
            "text/latex": "91800.0113383068",
            "text/plain": [
              "[1] 91800.01"
            ]
          },
          "metadata": {}
        },
        {
          "output_type": "display_data",
          "data": {
            "text/html": [
              "0.240000000000048"
            ],
            "text/markdown": "0.240000000000048",
            "text/latex": "0.240000000000048",
            "text/plain": [
              "[1] 0.24"
            ]
          },
          "metadata": {}
        }
      ]
    },
    {
      "cell_type": "markdown",
      "source": [
        "$H_1 = 91800.0113, H_2 = 0.24$ \\\\\n",
        "Дальнейшие улучшения ограничены, остановимся на этом."
      ],
      "metadata": {
        "id": "jpejWNQwCSMm"
      }
    },
    {
      "cell_type": "markdown",
      "source": [
        "Найдём кортежи $<speed_i, ram_i, hd_i>$, определяющие координаты идеальных точек."
      ],
      "metadata": {
        "id": "nHibLQuPDXSE"
      }
    },
    {
      "cell_type": "code",
      "source": [
        "n1 = r[1]/1492.1775\n",
        "n2 = r[5]/1492.1775\n",
        "n3 = r[9]/1492.1775\n",
        "n4 = r[13]/1492.1775\n",
        "speed1 = r[2]/n1\n",
        "speed2 = r[6]/n2\n",
        "speed3 = r[10]/n3\n",
        "speed4 = r[14]/n4\n",
        "ram1 = r[3]/n1\n",
        "ram2 = r[7]/n2\n",
        "ram3 = r[11]/n3\n",
        "ram4 = r[15]/n4\n",
        "hd1 = r[4]/n1\n",
        "hd2 = r[8]/n2\n",
        "hd3 = r[12]/n3\n",
        "hd4 = r[16]/n4\n",
        "\n",
        "print(n1)\n",
        "print(n2)\n",
        "print(n3)\n",
        "print(n4)\n",
        "print(speed1)\n",
        "print(speed2)\n",
        "print(speed3)\n",
        "print(speed4)\n",
        "print(ram1)\n",
        "print(ram2)\n",
        "print(ram3)\n",
        "print(ram4)\n",
        "print(hd1)\n",
        "print(hd2)\n",
        "print(hd3)\n",
        "print(hd4)"
      ],
      "metadata": {
        "colab": {
          "base_uri": "https://localhost:8080/"
        },
        "id": "Cm9qwYHHEmpe",
        "outputId": "950d5490-1df5-4574-ab09-36abee8ab4ea"
      },
      "execution_count": null,
      "outputs": [
        {
          "output_type": "stream",
          "name": "stdout",
          "text": [
            "[1] 2.999999\n",
            "[1] 19\n",
            "[1] 18\n",
            "[1] 3\n",
            "[1] 73.51891\n",
            "[1] 52.01102\n",
            "[1] 52.01102\n",
            "[1] 52.01102\n",
            "[1] 8.28695\n",
            "[1] 8.286947\n",
            "[1] 8.286947\n",
            "[1] 8.286947\n",
            "[1] 833.2037\n",
            "[1] 548.1601\n",
            "[1] 509.1799\n",
            "[1] 1110.938\n"
          ]
        }
      ]
    },
    {
      "cell_type": "markdown",
      "source": [
        "Выберем варианты, удовлетворяющие условиям работоспособности:"
      ],
      "metadata": {
        "id": "DduWR6doGf6Q"
      }
    },
    {
      "cell_type": "code",
      "source": [
        "df1<-data.frame()\n",
        "for (i in c(1:length(rownames(Data))))\n",
        "{\n",
        "  # if ((Data[i,2]<3000) & (Data[i,3]>66) & (Data[i,5]>8)) # C1\n",
        "  # if ((Data[i,2]<2500) & (Data[i,3]>33) & (Data[i,4]>200) & (Data[i,5]>8)) # C2\n",
        "  # if ((Data[i,2]<1700)) # C3\n",
        "  if ((Data[i,2]<2100) & (Data[i,3]<33) & (Data[i,4]<200)) # C4\n",
        "    df1<-rbind(df1,Data[i,])\n",
        "}\n",
        "df1"
      ],
      "metadata": {
        "colab": {
          "base_uri": "https://localhost:8080/",
          "height": 1000
        },
        "id": "llAVeoHXGrjy",
        "outputId": "c7ec9840-428a-4479-c167-eda0b9a2e134"
      },
      "execution_count": null,
      "outputs": [
        {
          "output_type": "display_data",
          "data": {
            "text/html": [
              "<table class=\"dataframe\">\n",
              "<caption>A data.frame: 245 × 11</caption>\n",
              "<thead>\n",
              "\t<tr><th></th><th scope=col>X</th><th scope=col>price</th><th scope=col>speed</th><th scope=col>hd</th><th scope=col>ram</th><th scope=col>screen</th><th scope=col>cd</th><th scope=col>multi</th><th scope=col>premium</th><th scope=col>ads</th><th scope=col>trend</th></tr>\n",
              "\t<tr><th></th><th scope=col>&lt;int&gt;</th><th scope=col>&lt;int&gt;</th><th scope=col>&lt;int&gt;</th><th scope=col>&lt;int&gt;</th><th scope=col>&lt;int&gt;</th><th scope=col>&lt;int&gt;</th><th scope=col>&lt;chr&gt;</th><th scope=col>&lt;chr&gt;</th><th scope=col>&lt;chr&gt;</th><th scope=col>&lt;int&gt;</th><th scope=col>&lt;int&gt;</th></tr>\n",
              "</thead>\n",
              "<tbody>\n",
              "\t<tr><th scope=row>1</th><td>  1</td><td>1499</td><td>25</td><td> 80</td><td>4</td><td>14</td><td>no </td><td>no</td><td>yes</td><td> 94</td><td>1</td></tr>\n",
              "\t<tr><th scope=row>3</th><td>  3</td><td>1595</td><td>25</td><td>170</td><td>4</td><td>15</td><td>no </td><td>no</td><td>yes</td><td> 94</td><td>1</td></tr>\n",
              "\t<tr><th scope=row>4</th><td>  4</td><td>1849</td><td>25</td><td>170</td><td>8</td><td>14</td><td>no </td><td>no</td><td>no </td><td> 94</td><td>1</td></tr>\n",
              "\t<tr><th scope=row>7</th><td>  7</td><td>1720</td><td>25</td><td>170</td><td>4</td><td>14</td><td>yes</td><td>no</td><td>yes</td><td> 94</td><td>1</td></tr>\n",
              "\t<tr><th scope=row>32</th><td> 32</td><td>1995</td><td>25</td><td>130</td><td>4</td><td>14</td><td>no </td><td>no</td><td>yes</td><td> 94</td><td>1</td></tr>\n",
              "\t<tr><th scope=row>48</th><td> 48</td><td>1749</td><td>25</td><td>120</td><td>4</td><td>14</td><td>no </td><td>no</td><td>yes</td><td> 94</td><td>1</td></tr>\n",
              "\t<tr><th scope=row>66</th><td> 66</td><td>1495</td><td>25</td><td>170</td><td>4</td><td>14</td><td>no </td><td>no</td><td>yes</td><td> 94</td><td>1</td></tr>\n",
              "\t<tr><th scope=row>68</th><td> 68</td><td>1499</td><td>25</td><td>120</td><td>4</td><td>14</td><td>no </td><td>no</td><td>yes</td><td> 94</td><td>1</td></tr>\n",
              "\t<tr><th scope=row>80</th><td> 80</td><td>1629</td><td>25</td><td> 80</td><td>8</td><td>14</td><td>no </td><td>no</td><td>no </td><td> 94</td><td>1</td></tr>\n",
              "\t<tr><th scope=row>89</th><td> 89</td><td>1395</td><td>25</td><td> 85</td><td>2</td><td>14</td><td>no </td><td>no</td><td>yes</td><td> 94</td><td>1</td></tr>\n",
              "\t<tr><th scope=row>96</th><td> 96</td><td>1495</td><td>25</td><td>170</td><td>4</td><td>14</td><td>no </td><td>no</td><td>yes</td><td> 95</td><td>2</td></tr>\n",
              "\t<tr><th scope=row>105</th><td>105</td><td>1395</td><td>25</td><td> 85</td><td>2</td><td>14</td><td>no </td><td>no</td><td>yes</td><td> 95</td><td>2</td></tr>\n",
              "\t<tr><th scope=row>108</th><td>108</td><td>1720</td><td>25</td><td>170</td><td>4</td><td>14</td><td>yes</td><td>no</td><td>yes</td><td> 95</td><td>2</td></tr>\n",
              "\t<tr><th scope=row>115</th><td>115</td><td>1499</td><td>25</td><td>170</td><td>4</td><td>14</td><td>no </td><td>no</td><td>yes</td><td> 95</td><td>2</td></tr>\n",
              "\t<tr><th scope=row>132</th><td>132</td><td>1799</td><td>25</td><td>170</td><td>4</td><td>14</td><td>no </td><td>no</td><td>yes</td><td> 95</td><td>2</td></tr>\n",
              "\t<tr><th scope=row>135</th><td>135</td><td>1749</td><td>25</td><td>120</td><td>4</td><td>14</td><td>no </td><td>no</td><td>yes</td><td> 95</td><td>2</td></tr>\n",
              "\t<tr><th scope=row>162</th><td>162</td><td>1595</td><td>25</td><td>170</td><td>4</td><td>15</td><td>no </td><td>no</td><td>yes</td><td> 95</td><td>2</td></tr>\n",
              "\t<tr><th scope=row>166</th><td>166</td><td>1895</td><td>25</td><td>130</td><td>4</td><td>14</td><td>no </td><td>no</td><td>yes</td><td> 95</td><td>2</td></tr>\n",
              "\t<tr><th scope=row>183</th><td>183</td><td>1899</td><td>25</td><td>120</td><td>4</td><td>14</td><td>no </td><td>no</td><td>yes</td><td> 95</td><td>2</td></tr>\n",
              "\t<tr><th scope=row>204</th><td>204</td><td>1499</td><td>25</td><td>170</td><td>4</td><td>14</td><td>no </td><td>no</td><td>yes</td><td>100</td><td>3</td></tr>\n",
              "\t<tr><th scope=row>216</th><td>216</td><td>1395</td><td>25</td><td> 85</td><td>2</td><td>14</td><td>no </td><td>no</td><td>yes</td><td>100</td><td>3</td></tr>\n",
              "\t<tr><th scope=row>237</th><td>237</td><td>1595</td><td>25</td><td>170</td><td>4</td><td>15</td><td>no </td><td>no</td><td>yes</td><td>100</td><td>3</td></tr>\n",
              "\t<tr><th scope=row>239</th><td>239</td><td>1495</td><td>25</td><td>170</td><td>4</td><td>14</td><td>no </td><td>no</td><td>yes</td><td>100</td><td>3</td></tr>\n",
              "\t<tr><th scope=row>242</th><td>242</td><td>1895</td><td>25</td><td>130</td><td>4</td><td>14</td><td>no </td><td>no</td><td>yes</td><td>100</td><td>3</td></tr>\n",
              "\t<tr><th scope=row>252</th><td>252</td><td>1499</td><td>25</td><td>170</td><td>4</td><td>14</td><td>no </td><td>no</td><td>yes</td><td>100</td><td>3</td></tr>\n",
              "\t<tr><th scope=row>254</th><td>254</td><td>1720</td><td>25</td><td>170</td><td>4</td><td>14</td><td>yes</td><td>no</td><td>yes</td><td>100</td><td>3</td></tr>\n",
              "\t<tr><th scope=row>287</th><td>287</td><td>1399</td><td>25</td><td>170</td><td>4</td><td>14</td><td>no </td><td>no</td><td>yes</td><td>100</td><td>3</td></tr>\n",
              "\t<tr><th scope=row>300</th><td>300</td><td>1595</td><td>25</td><td>170</td><td>4</td><td>14</td><td>no </td><td>no</td><td>yes</td><td>108</td><td>4</td></tr>\n",
              "\t<tr><th scope=row>301</th><td>301</td><td>1990</td><td>25</td><td>130</td><td>4</td><td>14</td><td>no </td><td>no</td><td>yes</td><td>108</td><td>4</td></tr>\n",
              "\t<tr><th scope=row>302</th><td>302</td><td>1895</td><td>25</td><td>130</td><td>4</td><td>14</td><td>no </td><td>no</td><td>yes</td><td>108</td><td>4</td></tr>\n",
              "\t<tr><th scope=row>⋮</th><td>⋮</td><td>⋮</td><td>⋮</td><td>⋮</td><td>⋮</td><td>⋮</td><td>⋮</td><td>⋮</td><td>⋮</td><td>⋮</td><td>⋮</td></tr>\n",
              "\t<tr><th scope=row>3008</th><td>3008</td><td>1290</td><td>25</td><td>107</td><td>2</td><td>14</td><td>no </td><td>no </td><td>yes</td><td>267</td><td>15</td></tr>\n",
              "\t<tr><th scope=row>3081</th><td>3081</td><td>1195</td><td>25</td><td>107</td><td>2</td><td>14</td><td>no </td><td>no </td><td>yes</td><td>267</td><td>15</td></tr>\n",
              "\t<tr><th scope=row>3118</th><td>3118</td><td>1299</td><td>25</td><td>100</td><td>4</td><td>14</td><td>no </td><td>no </td><td>no </td><td>307</td><td>16</td></tr>\n",
              "\t<tr><th scope=row>3128</th><td>3128</td><td>1195</td><td>25</td><td>107</td><td>2</td><td>14</td><td>no </td><td>no </td><td>yes</td><td>307</td><td>16</td></tr>\n",
              "\t<tr><th scope=row>3144</th><td>3144</td><td>1509</td><td>25</td><td>120</td><td>4</td><td>15</td><td>no </td><td>no </td><td>no </td><td>307</td><td>16</td></tr>\n",
              "\t<tr><th scope=row>3159</th><td>3159</td><td>1290</td><td>25</td><td>107</td><td>2</td><td>15</td><td>no </td><td>no </td><td>yes</td><td>307</td><td>16</td></tr>\n",
              "\t<tr><th scope=row>3203</th><td>3203</td><td>1359</td><td>25</td><td>120</td><td>4</td><td>14</td><td>no </td><td>no </td><td>no </td><td>307</td><td>16</td></tr>\n",
              "\t<tr><th scope=row>3216</th><td>3216</td><td>1929</td><td>25</td><td>120</td><td>4</td><td>17</td><td>no </td><td>no </td><td>no </td><td>307</td><td>16</td></tr>\n",
              "\t<tr><th scope=row>3220</th><td>3220</td><td>1259</td><td>25</td><td>120</td><td>4</td><td>14</td><td>no </td><td>no </td><td>no </td><td>307</td><td>16</td></tr>\n",
              "\t<tr><th scope=row>3221</th><td>3221</td><td>1444</td><td>25</td><td>107</td><td>2</td><td>14</td><td>no </td><td>no </td><td>yes</td><td>307</td><td>16</td></tr>\n",
              "\t<tr><th scope=row>3228</th><td>3228</td><td>1344</td><td>25</td><td>107</td><td>2</td><td>14</td><td>no </td><td>no </td><td>yes</td><td>307</td><td>16</td></tr>\n",
              "\t<tr><th scope=row>3245</th><td>3245</td><td>1290</td><td>25</td><td>107</td><td>2</td><td>14</td><td>no </td><td>no </td><td>yes</td><td>307</td><td>16</td></tr>\n",
              "\t<tr><th scope=row>3388</th><td>3388</td><td>1494</td><td>25</td><td>107</td><td>2</td><td>14</td><td>yes</td><td>yes</td><td>yes</td><td>307</td><td>16</td></tr>\n",
              "\t<tr><th scope=row>3405</th><td>3405</td><td>1195</td><td>25</td><td>107</td><td>2</td><td>14</td><td>no </td><td>no </td><td>yes</td><td>339</td><td>17</td></tr>\n",
              "\t<tr><th scope=row>3568</th><td>3568</td><td>1290</td><td>25</td><td>107</td><td>2</td><td>15</td><td>no </td><td>no </td><td>yes</td><td>339</td><td>17</td></tr>\n",
              "\t<tr><th scope=row>3578</th><td>3578</td><td>1249</td><td>25</td><td>100</td><td>4</td><td>14</td><td>no </td><td>no </td><td>no </td><td>339</td><td>17</td></tr>\n",
              "\t<tr><th scope=row>3608</th><td>3608</td><td>1344</td><td>25</td><td>107</td><td>2</td><td>14</td><td>no </td><td>no </td><td>yes</td><td>339</td><td>17</td></tr>\n",
              "\t<tr><th scope=row>3627</th><td>3627</td><td>1444</td><td>25</td><td>107</td><td>2</td><td>14</td><td>no </td><td>no </td><td>yes</td><td>339</td><td>17</td></tr>\n",
              "\t<tr><th scope=row>3637</th><td>3637</td><td>1509</td><td>25</td><td>120</td><td>4</td><td>15</td><td>no </td><td>no </td><td>no </td><td>339</td><td>17</td></tr>\n",
              "\t<tr><th scope=row>3665</th><td>3665</td><td>1259</td><td>25</td><td>120</td><td>4</td><td>14</td><td>no </td><td>no </td><td>no </td><td>339</td><td>17</td></tr>\n",
              "\t<tr><th scope=row>3670</th><td>3670</td><td>1929</td><td>25</td><td>120</td><td>4</td><td>17</td><td>no </td><td>no </td><td>no </td><td>339</td><td>17</td></tr>\n",
              "\t<tr><th scope=row>3682</th><td>3682</td><td>1359</td><td>25</td><td>120</td><td>4</td><td>14</td><td>no </td><td>no </td><td>no </td><td>339</td><td>17</td></tr>\n",
              "\t<tr><th scope=row>3720</th><td>3720</td><td>1290</td><td>25</td><td>107</td><td>2</td><td>14</td><td>no </td><td>no </td><td>yes</td><td>339</td><td>17</td></tr>\n",
              "\t<tr><th scope=row>3746</th><td>3746</td><td>1359</td><td>25</td><td>120</td><td>4</td><td>14</td><td>no </td><td>no </td><td>no </td><td>273</td><td>18</td></tr>\n",
              "\t<tr><th scope=row>3877</th><td>3877</td><td>1249</td><td>25</td><td>100</td><td>4</td><td>14</td><td>no </td><td>no </td><td>no </td><td>273</td><td>18</td></tr>\n",
              "\t<tr><th scope=row>3888</th><td>3888</td><td>1938</td><td>25</td><td>120</td><td>4</td><td>15</td><td>no </td><td>no </td><td>no </td><td>273</td><td>18</td></tr>\n",
              "\t<tr><th scope=row>4138</th><td>4138</td><td>1249</td><td>25</td><td>100</td><td>4</td><td>14</td><td>no </td><td>no </td><td>no </td><td>225</td><td>19</td></tr>\n",
              "\t<tr><th scope=row>4423</th><td>4423</td><td>1249</td><td>25</td><td>100</td><td>4</td><td>14</td><td>no </td><td>no </td><td>no </td><td>248</td><td>20</td></tr>\n",
              "\t<tr><th scope=row>4644</th><td>4644</td><td>1249</td><td>25</td><td>100</td><td>4</td><td>14</td><td>no </td><td>no </td><td>no </td><td>205</td><td>21</td></tr>\n",
              "\t<tr><th scope=row>4671</th><td>4671</td><td>1195</td><td>25</td><td>128</td><td>4</td><td>14</td><td>no </td><td>no </td><td>yes</td><td>205</td><td>21</td></tr>\n",
              "</tbody>\n",
              "</table>\n"
            ],
            "text/markdown": "\nA data.frame: 245 × 11\n\n| <!--/--> | X &lt;int&gt; | price &lt;int&gt; | speed &lt;int&gt; | hd &lt;int&gt; | ram &lt;int&gt; | screen &lt;int&gt; | cd &lt;chr&gt; | multi &lt;chr&gt; | premium &lt;chr&gt; | ads &lt;int&gt; | trend &lt;int&gt; |\n|---|---|---|---|---|---|---|---|---|---|---|---|\n| 1 |   1 | 1499 | 25 |  80 | 4 | 14 | no  | no | yes |  94 | 1 |\n| 3 |   3 | 1595 | 25 | 170 | 4 | 15 | no  | no | yes |  94 | 1 |\n| 4 |   4 | 1849 | 25 | 170 | 8 | 14 | no  | no | no  |  94 | 1 |\n| 7 |   7 | 1720 | 25 | 170 | 4 | 14 | yes | no | yes |  94 | 1 |\n| 32 |  32 | 1995 | 25 | 130 | 4 | 14 | no  | no | yes |  94 | 1 |\n| 48 |  48 | 1749 | 25 | 120 | 4 | 14 | no  | no | yes |  94 | 1 |\n| 66 |  66 | 1495 | 25 | 170 | 4 | 14 | no  | no | yes |  94 | 1 |\n| 68 |  68 | 1499 | 25 | 120 | 4 | 14 | no  | no | yes |  94 | 1 |\n| 80 |  80 | 1629 | 25 |  80 | 8 | 14 | no  | no | no  |  94 | 1 |\n| 89 |  89 | 1395 | 25 |  85 | 2 | 14 | no  | no | yes |  94 | 1 |\n| 96 |  96 | 1495 | 25 | 170 | 4 | 14 | no  | no | yes |  95 | 2 |\n| 105 | 105 | 1395 | 25 |  85 | 2 | 14 | no  | no | yes |  95 | 2 |\n| 108 | 108 | 1720 | 25 | 170 | 4 | 14 | yes | no | yes |  95 | 2 |\n| 115 | 115 | 1499 | 25 | 170 | 4 | 14 | no  | no | yes |  95 | 2 |\n| 132 | 132 | 1799 | 25 | 170 | 4 | 14 | no  | no | yes |  95 | 2 |\n| 135 | 135 | 1749 | 25 | 120 | 4 | 14 | no  | no | yes |  95 | 2 |\n| 162 | 162 | 1595 | 25 | 170 | 4 | 15 | no  | no | yes |  95 | 2 |\n| 166 | 166 | 1895 | 25 | 130 | 4 | 14 | no  | no | yes |  95 | 2 |\n| 183 | 183 | 1899 | 25 | 120 | 4 | 14 | no  | no | yes |  95 | 2 |\n| 204 | 204 | 1499 | 25 | 170 | 4 | 14 | no  | no | yes | 100 | 3 |\n| 216 | 216 | 1395 | 25 |  85 | 2 | 14 | no  | no | yes | 100 | 3 |\n| 237 | 237 | 1595 | 25 | 170 | 4 | 15 | no  | no | yes | 100 | 3 |\n| 239 | 239 | 1495 | 25 | 170 | 4 | 14 | no  | no | yes | 100 | 3 |\n| 242 | 242 | 1895 | 25 | 130 | 4 | 14 | no  | no | yes | 100 | 3 |\n| 252 | 252 | 1499 | 25 | 170 | 4 | 14 | no  | no | yes | 100 | 3 |\n| 254 | 254 | 1720 | 25 | 170 | 4 | 14 | yes | no | yes | 100 | 3 |\n| 287 | 287 | 1399 | 25 | 170 | 4 | 14 | no  | no | yes | 100 | 3 |\n| 300 | 300 | 1595 | 25 | 170 | 4 | 14 | no  | no | yes | 108 | 4 |\n| 301 | 301 | 1990 | 25 | 130 | 4 | 14 | no  | no | yes | 108 | 4 |\n| 302 | 302 | 1895 | 25 | 130 | 4 | 14 | no  | no | yes | 108 | 4 |\n| ⋮ | ⋮ | ⋮ | ⋮ | ⋮ | ⋮ | ⋮ | ⋮ | ⋮ | ⋮ | ⋮ | ⋮ |\n| 3008 | 3008 | 1290 | 25 | 107 | 2 | 14 | no  | no  | yes | 267 | 15 |\n| 3081 | 3081 | 1195 | 25 | 107 | 2 | 14 | no  | no  | yes | 267 | 15 |\n| 3118 | 3118 | 1299 | 25 | 100 | 4 | 14 | no  | no  | no  | 307 | 16 |\n| 3128 | 3128 | 1195 | 25 | 107 | 2 | 14 | no  | no  | yes | 307 | 16 |\n| 3144 | 3144 | 1509 | 25 | 120 | 4 | 15 | no  | no  | no  | 307 | 16 |\n| 3159 | 3159 | 1290 | 25 | 107 | 2 | 15 | no  | no  | yes | 307 | 16 |\n| 3203 | 3203 | 1359 | 25 | 120 | 4 | 14 | no  | no  | no  | 307 | 16 |\n| 3216 | 3216 | 1929 | 25 | 120 | 4 | 17 | no  | no  | no  | 307 | 16 |\n| 3220 | 3220 | 1259 | 25 | 120 | 4 | 14 | no  | no  | no  | 307 | 16 |\n| 3221 | 3221 | 1444 | 25 | 107 | 2 | 14 | no  | no  | yes | 307 | 16 |\n| 3228 | 3228 | 1344 | 25 | 107 | 2 | 14 | no  | no  | yes | 307 | 16 |\n| 3245 | 3245 | 1290 | 25 | 107 | 2 | 14 | no  | no  | yes | 307 | 16 |\n| 3388 | 3388 | 1494 | 25 | 107 | 2 | 14 | yes | yes | yes | 307 | 16 |\n| 3405 | 3405 | 1195 | 25 | 107 | 2 | 14 | no  | no  | yes | 339 | 17 |\n| 3568 | 3568 | 1290 | 25 | 107 | 2 | 15 | no  | no  | yes | 339 | 17 |\n| 3578 | 3578 | 1249 | 25 | 100 | 4 | 14 | no  | no  | no  | 339 | 17 |\n| 3608 | 3608 | 1344 | 25 | 107 | 2 | 14 | no  | no  | yes | 339 | 17 |\n| 3627 | 3627 | 1444 | 25 | 107 | 2 | 14 | no  | no  | yes | 339 | 17 |\n| 3637 | 3637 | 1509 | 25 | 120 | 4 | 15 | no  | no  | no  | 339 | 17 |\n| 3665 | 3665 | 1259 | 25 | 120 | 4 | 14 | no  | no  | no  | 339 | 17 |\n| 3670 | 3670 | 1929 | 25 | 120 | 4 | 17 | no  | no  | no  | 339 | 17 |\n| 3682 | 3682 | 1359 | 25 | 120 | 4 | 14 | no  | no  | no  | 339 | 17 |\n| 3720 | 3720 | 1290 | 25 | 107 | 2 | 14 | no  | no  | yes | 339 | 17 |\n| 3746 | 3746 | 1359 | 25 | 120 | 4 | 14 | no  | no  | no  | 273 | 18 |\n| 3877 | 3877 | 1249 | 25 | 100 | 4 | 14 | no  | no  | no  | 273 | 18 |\n| 3888 | 3888 | 1938 | 25 | 120 | 4 | 15 | no  | no  | no  | 273 | 18 |\n| 4138 | 4138 | 1249 | 25 | 100 | 4 | 14 | no  | no  | no  | 225 | 19 |\n| 4423 | 4423 | 1249 | 25 | 100 | 4 | 14 | no  | no  | no  | 248 | 20 |\n| 4644 | 4644 | 1249 | 25 | 100 | 4 | 14 | no  | no  | no  | 205 | 21 |\n| 4671 | 4671 | 1195 | 25 | 128 | 4 | 14 | no  | no  | yes | 205 | 21 |\n\n",
            "text/latex": "A data.frame: 245 × 11\n\\begin{tabular}{r|lllllllllll}\n  & X & price & speed & hd & ram & screen & cd & multi & premium & ads & trend\\\\\n  & <int> & <int> & <int> & <int> & <int> & <int> & <chr> & <chr> & <chr> & <int> & <int>\\\\\n\\hline\n\t1 &   1 & 1499 & 25 &  80 & 4 & 14 & no  & no & yes &  94 & 1\\\\\n\t3 &   3 & 1595 & 25 & 170 & 4 & 15 & no  & no & yes &  94 & 1\\\\\n\t4 &   4 & 1849 & 25 & 170 & 8 & 14 & no  & no & no  &  94 & 1\\\\\n\t7 &   7 & 1720 & 25 & 170 & 4 & 14 & yes & no & yes &  94 & 1\\\\\n\t32 &  32 & 1995 & 25 & 130 & 4 & 14 & no  & no & yes &  94 & 1\\\\\n\t48 &  48 & 1749 & 25 & 120 & 4 & 14 & no  & no & yes &  94 & 1\\\\\n\t66 &  66 & 1495 & 25 & 170 & 4 & 14 & no  & no & yes &  94 & 1\\\\\n\t68 &  68 & 1499 & 25 & 120 & 4 & 14 & no  & no & yes &  94 & 1\\\\\n\t80 &  80 & 1629 & 25 &  80 & 8 & 14 & no  & no & no  &  94 & 1\\\\\n\t89 &  89 & 1395 & 25 &  85 & 2 & 14 & no  & no & yes &  94 & 1\\\\\n\t96 &  96 & 1495 & 25 & 170 & 4 & 14 & no  & no & yes &  95 & 2\\\\\n\t105 & 105 & 1395 & 25 &  85 & 2 & 14 & no  & no & yes &  95 & 2\\\\\n\t108 & 108 & 1720 & 25 & 170 & 4 & 14 & yes & no & yes &  95 & 2\\\\\n\t115 & 115 & 1499 & 25 & 170 & 4 & 14 & no  & no & yes &  95 & 2\\\\\n\t132 & 132 & 1799 & 25 & 170 & 4 & 14 & no  & no & yes &  95 & 2\\\\\n\t135 & 135 & 1749 & 25 & 120 & 4 & 14 & no  & no & yes &  95 & 2\\\\\n\t162 & 162 & 1595 & 25 & 170 & 4 & 15 & no  & no & yes &  95 & 2\\\\\n\t166 & 166 & 1895 & 25 & 130 & 4 & 14 & no  & no & yes &  95 & 2\\\\\n\t183 & 183 & 1899 & 25 & 120 & 4 & 14 & no  & no & yes &  95 & 2\\\\\n\t204 & 204 & 1499 & 25 & 170 & 4 & 14 & no  & no & yes & 100 & 3\\\\\n\t216 & 216 & 1395 & 25 &  85 & 2 & 14 & no  & no & yes & 100 & 3\\\\\n\t237 & 237 & 1595 & 25 & 170 & 4 & 15 & no  & no & yes & 100 & 3\\\\\n\t239 & 239 & 1495 & 25 & 170 & 4 & 14 & no  & no & yes & 100 & 3\\\\\n\t242 & 242 & 1895 & 25 & 130 & 4 & 14 & no  & no & yes & 100 & 3\\\\\n\t252 & 252 & 1499 & 25 & 170 & 4 & 14 & no  & no & yes & 100 & 3\\\\\n\t254 & 254 & 1720 & 25 & 170 & 4 & 14 & yes & no & yes & 100 & 3\\\\\n\t287 & 287 & 1399 & 25 & 170 & 4 & 14 & no  & no & yes & 100 & 3\\\\\n\t300 & 300 & 1595 & 25 & 170 & 4 & 14 & no  & no & yes & 108 & 4\\\\\n\t301 & 301 & 1990 & 25 & 130 & 4 & 14 & no  & no & yes & 108 & 4\\\\\n\t302 & 302 & 1895 & 25 & 130 & 4 & 14 & no  & no & yes & 108 & 4\\\\\n\t⋮ & ⋮ & ⋮ & ⋮ & ⋮ & ⋮ & ⋮ & ⋮ & ⋮ & ⋮ & ⋮ & ⋮\\\\\n\t3008 & 3008 & 1290 & 25 & 107 & 2 & 14 & no  & no  & yes & 267 & 15\\\\\n\t3081 & 3081 & 1195 & 25 & 107 & 2 & 14 & no  & no  & yes & 267 & 15\\\\\n\t3118 & 3118 & 1299 & 25 & 100 & 4 & 14 & no  & no  & no  & 307 & 16\\\\\n\t3128 & 3128 & 1195 & 25 & 107 & 2 & 14 & no  & no  & yes & 307 & 16\\\\\n\t3144 & 3144 & 1509 & 25 & 120 & 4 & 15 & no  & no  & no  & 307 & 16\\\\\n\t3159 & 3159 & 1290 & 25 & 107 & 2 & 15 & no  & no  & yes & 307 & 16\\\\\n\t3203 & 3203 & 1359 & 25 & 120 & 4 & 14 & no  & no  & no  & 307 & 16\\\\\n\t3216 & 3216 & 1929 & 25 & 120 & 4 & 17 & no  & no  & no  & 307 & 16\\\\\n\t3220 & 3220 & 1259 & 25 & 120 & 4 & 14 & no  & no  & no  & 307 & 16\\\\\n\t3221 & 3221 & 1444 & 25 & 107 & 2 & 14 & no  & no  & yes & 307 & 16\\\\\n\t3228 & 3228 & 1344 & 25 & 107 & 2 & 14 & no  & no  & yes & 307 & 16\\\\\n\t3245 & 3245 & 1290 & 25 & 107 & 2 & 14 & no  & no  & yes & 307 & 16\\\\\n\t3388 & 3388 & 1494 & 25 & 107 & 2 & 14 & yes & yes & yes & 307 & 16\\\\\n\t3405 & 3405 & 1195 & 25 & 107 & 2 & 14 & no  & no  & yes & 339 & 17\\\\\n\t3568 & 3568 & 1290 & 25 & 107 & 2 & 15 & no  & no  & yes & 339 & 17\\\\\n\t3578 & 3578 & 1249 & 25 & 100 & 4 & 14 & no  & no  & no  & 339 & 17\\\\\n\t3608 & 3608 & 1344 & 25 & 107 & 2 & 14 & no  & no  & yes & 339 & 17\\\\\n\t3627 & 3627 & 1444 & 25 & 107 & 2 & 14 & no  & no  & yes & 339 & 17\\\\\n\t3637 & 3637 & 1509 & 25 & 120 & 4 & 15 & no  & no  & no  & 339 & 17\\\\\n\t3665 & 3665 & 1259 & 25 & 120 & 4 & 14 & no  & no  & no  & 339 & 17\\\\\n\t3670 & 3670 & 1929 & 25 & 120 & 4 & 17 & no  & no  & no  & 339 & 17\\\\\n\t3682 & 3682 & 1359 & 25 & 120 & 4 & 14 & no  & no  & no  & 339 & 17\\\\\n\t3720 & 3720 & 1290 & 25 & 107 & 2 & 14 & no  & no  & yes & 339 & 17\\\\\n\t3746 & 3746 & 1359 & 25 & 120 & 4 & 14 & no  & no  & no  & 273 & 18\\\\\n\t3877 & 3877 & 1249 & 25 & 100 & 4 & 14 & no  & no  & no  & 273 & 18\\\\\n\t3888 & 3888 & 1938 & 25 & 120 & 4 & 15 & no  & no  & no  & 273 & 18\\\\\n\t4138 & 4138 & 1249 & 25 & 100 & 4 & 14 & no  & no  & no  & 225 & 19\\\\\n\t4423 & 4423 & 1249 & 25 & 100 & 4 & 14 & no  & no  & no  & 248 & 20\\\\\n\t4644 & 4644 & 1249 & 25 & 100 & 4 & 14 & no  & no  & no  & 205 & 21\\\\\n\t4671 & 4671 & 1195 & 25 & 128 & 4 & 14 & no  & no  & yes & 205 & 21\\\\\n\\end{tabular}\n",
            "text/plain": [
              "     X    price speed hd  ram screen cd  multi premium ads trend\n",
              "1      1  1499  25     80 4   14     no  no    yes      94 1    \n",
              "3      3  1595  25    170 4   15     no  no    yes      94 1    \n",
              "4      4  1849  25    170 8   14     no  no    no       94 1    \n",
              "7      7  1720  25    170 4   14     yes no    yes      94 1    \n",
              "32    32  1995  25    130 4   14     no  no    yes      94 1    \n",
              "48    48  1749  25    120 4   14     no  no    yes      94 1    \n",
              "66    66  1495  25    170 4   14     no  no    yes      94 1    \n",
              "68    68  1499  25    120 4   14     no  no    yes      94 1    \n",
              "80    80  1629  25     80 8   14     no  no    no       94 1    \n",
              "89    89  1395  25     85 2   14     no  no    yes      94 1    \n",
              "96    96  1495  25    170 4   14     no  no    yes      95 2    \n",
              "105  105  1395  25     85 2   14     no  no    yes      95 2    \n",
              "108  108  1720  25    170 4   14     yes no    yes      95 2    \n",
              "115  115  1499  25    170 4   14     no  no    yes      95 2    \n",
              "132  132  1799  25    170 4   14     no  no    yes      95 2    \n",
              "135  135  1749  25    120 4   14     no  no    yes      95 2    \n",
              "162  162  1595  25    170 4   15     no  no    yes      95 2    \n",
              "166  166  1895  25    130 4   14     no  no    yes      95 2    \n",
              "183  183  1899  25    120 4   14     no  no    yes      95 2    \n",
              "204  204  1499  25    170 4   14     no  no    yes     100 3    \n",
              "216  216  1395  25     85 2   14     no  no    yes     100 3    \n",
              "237  237  1595  25    170 4   15     no  no    yes     100 3    \n",
              "239  239  1495  25    170 4   14     no  no    yes     100 3    \n",
              "242  242  1895  25    130 4   14     no  no    yes     100 3    \n",
              "252  252  1499  25    170 4   14     no  no    yes     100 3    \n",
              "254  254  1720  25    170 4   14     yes no    yes     100 3    \n",
              "287  287  1399  25    170 4   14     no  no    yes     100 3    \n",
              "300  300  1595  25    170 4   14     no  no    yes     108 4    \n",
              "301  301  1990  25    130 4   14     no  no    yes     108 4    \n",
              "302  302  1895  25    130 4   14     no  no    yes     108 4    \n",
              "⋮    ⋮    ⋮     ⋮     ⋮   ⋮   ⋮      ⋮   ⋮     ⋮       ⋮   ⋮    \n",
              "3008 3008 1290  25    107 2   14     no  no    yes     267 15   \n",
              "3081 3081 1195  25    107 2   14     no  no    yes     267 15   \n",
              "3118 3118 1299  25    100 4   14     no  no    no      307 16   \n",
              "3128 3128 1195  25    107 2   14     no  no    yes     307 16   \n",
              "3144 3144 1509  25    120 4   15     no  no    no      307 16   \n",
              "3159 3159 1290  25    107 2   15     no  no    yes     307 16   \n",
              "3203 3203 1359  25    120 4   14     no  no    no      307 16   \n",
              "3216 3216 1929  25    120 4   17     no  no    no      307 16   \n",
              "3220 3220 1259  25    120 4   14     no  no    no      307 16   \n",
              "3221 3221 1444  25    107 2   14     no  no    yes     307 16   \n",
              "3228 3228 1344  25    107 2   14     no  no    yes     307 16   \n",
              "3245 3245 1290  25    107 2   14     no  no    yes     307 16   \n",
              "3388 3388 1494  25    107 2   14     yes yes   yes     307 16   \n",
              "3405 3405 1195  25    107 2   14     no  no    yes     339 17   \n",
              "3568 3568 1290  25    107 2   15     no  no    yes     339 17   \n",
              "3578 3578 1249  25    100 4   14     no  no    no      339 17   \n",
              "3608 3608 1344  25    107 2   14     no  no    yes     339 17   \n",
              "3627 3627 1444  25    107 2   14     no  no    yes     339 17   \n",
              "3637 3637 1509  25    120 4   15     no  no    no      339 17   \n",
              "3665 3665 1259  25    120 4   14     no  no    no      339 17   \n",
              "3670 3670 1929  25    120 4   17     no  no    no      339 17   \n",
              "3682 3682 1359  25    120 4   14     no  no    no      339 17   \n",
              "3720 3720 1290  25    107 2   14     no  no    yes     339 17   \n",
              "3746 3746 1359  25    120 4   14     no  no    no      273 18   \n",
              "3877 3877 1249  25    100 4   14     no  no    no      273 18   \n",
              "3888 3888 1938  25    120 4   15     no  no    no      273 18   \n",
              "4138 4138 1249  25    100 4   14     no  no    no      225 19   \n",
              "4423 4423 1249  25    100 4   14     no  no    no      248 20   \n",
              "4644 4644 1249  25    100 4   14     no  no    no      205 21   \n",
              "4671 4671 1195  25    128 4   14     no  no    yes     205 21   "
            ]
          },
          "metadata": {}
        }
      ]
    },
    {
      "cell_type": "markdown",
      "source": [
        "Выполним нормирование показателей:"
      ],
      "metadata": {
        "id": "64EEI2HyJxuH"
      }
    },
    {
      "cell_type": "code",
      "source": [
        "mmax<-max(Data$price); mmin<-min(Data$price)\n",
        "p1<-(mmax-df1$price)*100/(mmax-mmin)\n",
        "\n",
        "mmax<-max(Data$speed); mmin<-min(Data$speed)\n",
        "p2<-(df1$speed-mmin)*100/(mmax-mmin)\n",
        "\n",
        "mmax<-max(Data$hd); mmin<-min(Data$hd)\n",
        "p3<-(df1$hd-mmin)*100/(mmax-mmin)\n",
        "\n",
        "mmax<-max(Data$ram); mmin<-min(Data$ram)\n",
        "p4<-(df1$ram-mmin)*100/(mmax-mmin)\n",
        "\n",
        "df_norm1<-data.frame(p1,p2,p3,p4)\n",
        "rownames(df_norm1)<-rownames(df1)\n",
        "View(df_norm1)"
      ],
      "metadata": {
        "colab": {
          "base_uri": "https://localhost:8080/",
          "height": 1000
        },
        "id": "99FElEkRJ4qS",
        "outputId": "2a8453d7-670f-4089-fc14-a1c010316a74"
      },
      "execution_count": null,
      "outputs": [
        {
          "output_type": "display_data",
          "data": {
            "text/plain": [
              "     p1       p2 p3        p4       \n",
              "1    87.64045 0  0.0000000  6.666667\n",
              "3    85.48315 0  4.4554455  6.666667\n",
              "4    79.77528 0  4.4554455 20.000000\n",
              "7    82.67416 0  4.4554455  6.666667\n",
              "32   76.49438 0  2.4752475  6.666667\n",
              "48   82.02247 0  1.9801980  6.666667\n",
              "66   87.73034 0  4.4554455  6.666667\n",
              "68   87.64045 0  1.9801980  6.666667\n",
              "80   84.71910 0  0.0000000 20.000000\n",
              "89   89.97753 0  0.2475248  0.000000\n",
              "96   87.73034 0  4.4554455  6.666667\n",
              "105  89.97753 0  0.2475248  0.000000\n",
              "108  82.67416 0  4.4554455  6.666667\n",
              "115  87.64045 0  4.4554455  6.666667\n",
              "132  80.89888 0  4.4554455  6.666667\n",
              "135  82.02247 0  1.9801980  6.666667\n",
              "162  85.48315 0  4.4554455  6.666667\n",
              "166  78.74157 0  2.4752475  6.666667\n",
              "183  78.65169 0  1.9801980  6.666667\n",
              "204  87.64045 0  4.4554455  6.666667\n",
              "216  89.97753 0  0.2475248  0.000000\n",
              "237  85.48315 0  4.4554455  6.666667\n",
              "239  87.73034 0  4.4554455  6.666667\n",
              "242  78.74157 0  2.4752475  6.666667\n",
              "252  87.64045 0  4.4554455  6.666667\n",
              "254  82.67416 0  4.4554455  6.666667\n",
              "287  89.88764 0  4.4554455  6.666667\n",
              "300  85.48315 0  4.4554455  6.666667\n",
              "301  76.60674 0  2.4752475  6.666667\n",
              "302  78.74157 0  2.4752475  6.666667\n",
              "⋮    ⋮        ⋮  ⋮         ⋮        \n",
              "3008 92.33708 0  1.336634  0.000000 \n",
              "3081 94.47191 0  1.336634  0.000000 \n",
              "3118 92.13483 0  0.990099  6.666667 \n",
              "3128 94.47191 0  1.336634  0.000000 \n",
              "3144 87.41573 0  1.980198  6.666667 \n",
              "3159 92.33708 0  1.336634  0.000000 \n",
              "3203 90.78652 0  1.980198  6.666667 \n",
              "3216 77.97753 0  1.980198  6.666667 \n",
              "3220 93.03371 0  1.980198  6.666667 \n",
              "3221 88.87640 0  1.336634  0.000000 \n",
              "3228 91.12360 0  1.336634  0.000000 \n",
              "3245 92.33708 0  1.336634  0.000000 \n",
              "3388 87.75281 0  1.336634  0.000000 \n",
              "3405 94.47191 0  1.336634  0.000000 \n",
              "3568 92.33708 0  1.336634  0.000000 \n",
              "3578 93.25843 0  0.990099  6.666667 \n",
              "3608 91.12360 0  1.336634  0.000000 \n",
              "3627 88.87640 0  1.336634  0.000000 \n",
              "3637 87.41573 0  1.980198  6.666667 \n",
              "3665 93.03371 0  1.980198  6.666667 \n",
              "3670 77.97753 0  1.980198  6.666667 \n",
              "3682 90.78652 0  1.980198  6.666667 \n",
              "3720 92.33708 0  1.336634  0.000000 \n",
              "3746 90.78652 0  1.980198  6.666667 \n",
              "3877 93.25843 0  0.990099  6.666667 \n",
              "3888 77.77528 0  1.980198  6.666667 \n",
              "4138 93.25843 0  0.990099  6.666667 \n",
              "4423 93.25843 0  0.990099  6.666667 \n",
              "4644 93.25843 0  0.990099  6.666667 \n",
              "4671 94.47191 0  2.376238  6.666667 "
            ],
            "text/html": [
              "<table class=\"dataframe\">\n",
              "<caption>A data.frame: 245 × 4</caption>\n",
              "<thead>\n",
              "\t<tr><th></th><th scope=col>p1</th><th scope=col>p2</th><th scope=col>p3</th><th scope=col>p4</th></tr>\n",
              "\t<tr><th></th><th scope=col>&lt;dbl&gt;</th><th scope=col>&lt;dbl&gt;</th><th scope=col>&lt;dbl&gt;</th><th scope=col>&lt;dbl&gt;</th></tr>\n",
              "</thead>\n",
              "<tbody>\n",
              "\t<tr><th scope=row>1</th><td>87.64045</td><td>0</td><td>0.0000000</td><td> 6.666667</td></tr>\n",
              "\t<tr><th scope=row>3</th><td>85.48315</td><td>0</td><td>4.4554455</td><td> 6.666667</td></tr>\n",
              "\t<tr><th scope=row>4</th><td>79.77528</td><td>0</td><td>4.4554455</td><td>20.000000</td></tr>\n",
              "\t<tr><th scope=row>7</th><td>82.67416</td><td>0</td><td>4.4554455</td><td> 6.666667</td></tr>\n",
              "\t<tr><th scope=row>32</th><td>76.49438</td><td>0</td><td>2.4752475</td><td> 6.666667</td></tr>\n",
              "\t<tr><th scope=row>48</th><td>82.02247</td><td>0</td><td>1.9801980</td><td> 6.666667</td></tr>\n",
              "\t<tr><th scope=row>66</th><td>87.73034</td><td>0</td><td>4.4554455</td><td> 6.666667</td></tr>\n",
              "\t<tr><th scope=row>68</th><td>87.64045</td><td>0</td><td>1.9801980</td><td> 6.666667</td></tr>\n",
              "\t<tr><th scope=row>80</th><td>84.71910</td><td>0</td><td>0.0000000</td><td>20.000000</td></tr>\n",
              "\t<tr><th scope=row>89</th><td>89.97753</td><td>0</td><td>0.2475248</td><td> 0.000000</td></tr>\n",
              "\t<tr><th scope=row>96</th><td>87.73034</td><td>0</td><td>4.4554455</td><td> 6.666667</td></tr>\n",
              "\t<tr><th scope=row>105</th><td>89.97753</td><td>0</td><td>0.2475248</td><td> 0.000000</td></tr>\n",
              "\t<tr><th scope=row>108</th><td>82.67416</td><td>0</td><td>4.4554455</td><td> 6.666667</td></tr>\n",
              "\t<tr><th scope=row>115</th><td>87.64045</td><td>0</td><td>4.4554455</td><td> 6.666667</td></tr>\n",
              "\t<tr><th scope=row>132</th><td>80.89888</td><td>0</td><td>4.4554455</td><td> 6.666667</td></tr>\n",
              "\t<tr><th scope=row>135</th><td>82.02247</td><td>0</td><td>1.9801980</td><td> 6.666667</td></tr>\n",
              "\t<tr><th scope=row>162</th><td>85.48315</td><td>0</td><td>4.4554455</td><td> 6.666667</td></tr>\n",
              "\t<tr><th scope=row>166</th><td>78.74157</td><td>0</td><td>2.4752475</td><td> 6.666667</td></tr>\n",
              "\t<tr><th scope=row>183</th><td>78.65169</td><td>0</td><td>1.9801980</td><td> 6.666667</td></tr>\n",
              "\t<tr><th scope=row>204</th><td>87.64045</td><td>0</td><td>4.4554455</td><td> 6.666667</td></tr>\n",
              "\t<tr><th scope=row>216</th><td>89.97753</td><td>0</td><td>0.2475248</td><td> 0.000000</td></tr>\n",
              "\t<tr><th scope=row>237</th><td>85.48315</td><td>0</td><td>4.4554455</td><td> 6.666667</td></tr>\n",
              "\t<tr><th scope=row>239</th><td>87.73034</td><td>0</td><td>4.4554455</td><td> 6.666667</td></tr>\n",
              "\t<tr><th scope=row>242</th><td>78.74157</td><td>0</td><td>2.4752475</td><td> 6.666667</td></tr>\n",
              "\t<tr><th scope=row>252</th><td>87.64045</td><td>0</td><td>4.4554455</td><td> 6.666667</td></tr>\n",
              "\t<tr><th scope=row>254</th><td>82.67416</td><td>0</td><td>4.4554455</td><td> 6.666667</td></tr>\n",
              "\t<tr><th scope=row>287</th><td>89.88764</td><td>0</td><td>4.4554455</td><td> 6.666667</td></tr>\n",
              "\t<tr><th scope=row>300</th><td>85.48315</td><td>0</td><td>4.4554455</td><td> 6.666667</td></tr>\n",
              "\t<tr><th scope=row>301</th><td>76.60674</td><td>0</td><td>2.4752475</td><td> 6.666667</td></tr>\n",
              "\t<tr><th scope=row>302</th><td>78.74157</td><td>0</td><td>2.4752475</td><td> 6.666667</td></tr>\n",
              "\t<tr><th scope=row>⋮</th><td>⋮</td><td>⋮</td><td>⋮</td><td>⋮</td></tr>\n",
              "\t<tr><th scope=row>3008</th><td>92.33708</td><td>0</td><td>1.336634</td><td>0.000000</td></tr>\n",
              "\t<tr><th scope=row>3081</th><td>94.47191</td><td>0</td><td>1.336634</td><td>0.000000</td></tr>\n",
              "\t<tr><th scope=row>3118</th><td>92.13483</td><td>0</td><td>0.990099</td><td>6.666667</td></tr>\n",
              "\t<tr><th scope=row>3128</th><td>94.47191</td><td>0</td><td>1.336634</td><td>0.000000</td></tr>\n",
              "\t<tr><th scope=row>3144</th><td>87.41573</td><td>0</td><td>1.980198</td><td>6.666667</td></tr>\n",
              "\t<tr><th scope=row>3159</th><td>92.33708</td><td>0</td><td>1.336634</td><td>0.000000</td></tr>\n",
              "\t<tr><th scope=row>3203</th><td>90.78652</td><td>0</td><td>1.980198</td><td>6.666667</td></tr>\n",
              "\t<tr><th scope=row>3216</th><td>77.97753</td><td>0</td><td>1.980198</td><td>6.666667</td></tr>\n",
              "\t<tr><th scope=row>3220</th><td>93.03371</td><td>0</td><td>1.980198</td><td>6.666667</td></tr>\n",
              "\t<tr><th scope=row>3221</th><td>88.87640</td><td>0</td><td>1.336634</td><td>0.000000</td></tr>\n",
              "\t<tr><th scope=row>3228</th><td>91.12360</td><td>0</td><td>1.336634</td><td>0.000000</td></tr>\n",
              "\t<tr><th scope=row>3245</th><td>92.33708</td><td>0</td><td>1.336634</td><td>0.000000</td></tr>\n",
              "\t<tr><th scope=row>3388</th><td>87.75281</td><td>0</td><td>1.336634</td><td>0.000000</td></tr>\n",
              "\t<tr><th scope=row>3405</th><td>94.47191</td><td>0</td><td>1.336634</td><td>0.000000</td></tr>\n",
              "\t<tr><th scope=row>3568</th><td>92.33708</td><td>0</td><td>1.336634</td><td>0.000000</td></tr>\n",
              "\t<tr><th scope=row>3578</th><td>93.25843</td><td>0</td><td>0.990099</td><td>6.666667</td></tr>\n",
              "\t<tr><th scope=row>3608</th><td>91.12360</td><td>0</td><td>1.336634</td><td>0.000000</td></tr>\n",
              "\t<tr><th scope=row>3627</th><td>88.87640</td><td>0</td><td>1.336634</td><td>0.000000</td></tr>\n",
              "\t<tr><th scope=row>3637</th><td>87.41573</td><td>0</td><td>1.980198</td><td>6.666667</td></tr>\n",
              "\t<tr><th scope=row>3665</th><td>93.03371</td><td>0</td><td>1.980198</td><td>6.666667</td></tr>\n",
              "\t<tr><th scope=row>3670</th><td>77.97753</td><td>0</td><td>1.980198</td><td>6.666667</td></tr>\n",
              "\t<tr><th scope=row>3682</th><td>90.78652</td><td>0</td><td>1.980198</td><td>6.666667</td></tr>\n",
              "\t<tr><th scope=row>3720</th><td>92.33708</td><td>0</td><td>1.336634</td><td>0.000000</td></tr>\n",
              "\t<tr><th scope=row>3746</th><td>90.78652</td><td>0</td><td>1.980198</td><td>6.666667</td></tr>\n",
              "\t<tr><th scope=row>3877</th><td>93.25843</td><td>0</td><td>0.990099</td><td>6.666667</td></tr>\n",
              "\t<tr><th scope=row>3888</th><td>77.77528</td><td>0</td><td>1.980198</td><td>6.666667</td></tr>\n",
              "\t<tr><th scope=row>4138</th><td>93.25843</td><td>0</td><td>0.990099</td><td>6.666667</td></tr>\n",
              "\t<tr><th scope=row>4423</th><td>93.25843</td><td>0</td><td>0.990099</td><td>6.666667</td></tr>\n",
              "\t<tr><th scope=row>4644</th><td>93.25843</td><td>0</td><td>0.990099</td><td>6.666667</td></tr>\n",
              "\t<tr><th scope=row>4671</th><td>94.47191</td><td>0</td><td>2.376238</td><td>6.666667</td></tr>\n",
              "</tbody>\n",
              "</table>\n"
            ],
            "text/markdown": "\nA data.frame: 245 × 4\n\n| <!--/--> | p1 &lt;dbl&gt; | p2 &lt;dbl&gt; | p3 &lt;dbl&gt; | p4 &lt;dbl&gt; |\n|---|---|---|---|---|\n| 1 | 87.64045 | 0 | 0.0000000 |  6.666667 |\n| 3 | 85.48315 | 0 | 4.4554455 |  6.666667 |\n| 4 | 79.77528 | 0 | 4.4554455 | 20.000000 |\n| 7 | 82.67416 | 0 | 4.4554455 |  6.666667 |\n| 32 | 76.49438 | 0 | 2.4752475 |  6.666667 |\n| 48 | 82.02247 | 0 | 1.9801980 |  6.666667 |\n| 66 | 87.73034 | 0 | 4.4554455 |  6.666667 |\n| 68 | 87.64045 | 0 | 1.9801980 |  6.666667 |\n| 80 | 84.71910 | 0 | 0.0000000 | 20.000000 |\n| 89 | 89.97753 | 0 | 0.2475248 |  0.000000 |\n| 96 | 87.73034 | 0 | 4.4554455 |  6.666667 |\n| 105 | 89.97753 | 0 | 0.2475248 |  0.000000 |\n| 108 | 82.67416 | 0 | 4.4554455 |  6.666667 |\n| 115 | 87.64045 | 0 | 4.4554455 |  6.666667 |\n| 132 | 80.89888 | 0 | 4.4554455 |  6.666667 |\n| 135 | 82.02247 | 0 | 1.9801980 |  6.666667 |\n| 162 | 85.48315 | 0 | 4.4554455 |  6.666667 |\n| 166 | 78.74157 | 0 | 2.4752475 |  6.666667 |\n| 183 | 78.65169 | 0 | 1.9801980 |  6.666667 |\n| 204 | 87.64045 | 0 | 4.4554455 |  6.666667 |\n| 216 | 89.97753 | 0 | 0.2475248 |  0.000000 |\n| 237 | 85.48315 | 0 | 4.4554455 |  6.666667 |\n| 239 | 87.73034 | 0 | 4.4554455 |  6.666667 |\n| 242 | 78.74157 | 0 | 2.4752475 |  6.666667 |\n| 252 | 87.64045 | 0 | 4.4554455 |  6.666667 |\n| 254 | 82.67416 | 0 | 4.4554455 |  6.666667 |\n| 287 | 89.88764 | 0 | 4.4554455 |  6.666667 |\n| 300 | 85.48315 | 0 | 4.4554455 |  6.666667 |\n| 301 | 76.60674 | 0 | 2.4752475 |  6.666667 |\n| 302 | 78.74157 | 0 | 2.4752475 |  6.666667 |\n| ⋮ | ⋮ | ⋮ | ⋮ | ⋮ |\n| 3008 | 92.33708 | 0 | 1.336634 | 0.000000 |\n| 3081 | 94.47191 | 0 | 1.336634 | 0.000000 |\n| 3118 | 92.13483 | 0 | 0.990099 | 6.666667 |\n| 3128 | 94.47191 | 0 | 1.336634 | 0.000000 |\n| 3144 | 87.41573 | 0 | 1.980198 | 6.666667 |\n| 3159 | 92.33708 | 0 | 1.336634 | 0.000000 |\n| 3203 | 90.78652 | 0 | 1.980198 | 6.666667 |\n| 3216 | 77.97753 | 0 | 1.980198 | 6.666667 |\n| 3220 | 93.03371 | 0 | 1.980198 | 6.666667 |\n| 3221 | 88.87640 | 0 | 1.336634 | 0.000000 |\n| 3228 | 91.12360 | 0 | 1.336634 | 0.000000 |\n| 3245 | 92.33708 | 0 | 1.336634 | 0.000000 |\n| 3388 | 87.75281 | 0 | 1.336634 | 0.000000 |\n| 3405 | 94.47191 | 0 | 1.336634 | 0.000000 |\n| 3568 | 92.33708 | 0 | 1.336634 | 0.000000 |\n| 3578 | 93.25843 | 0 | 0.990099 | 6.666667 |\n| 3608 | 91.12360 | 0 | 1.336634 | 0.000000 |\n| 3627 | 88.87640 | 0 | 1.336634 | 0.000000 |\n| 3637 | 87.41573 | 0 | 1.980198 | 6.666667 |\n| 3665 | 93.03371 | 0 | 1.980198 | 6.666667 |\n| 3670 | 77.97753 | 0 | 1.980198 | 6.666667 |\n| 3682 | 90.78652 | 0 | 1.980198 | 6.666667 |\n| 3720 | 92.33708 | 0 | 1.336634 | 0.000000 |\n| 3746 | 90.78652 | 0 | 1.980198 | 6.666667 |\n| 3877 | 93.25843 | 0 | 0.990099 | 6.666667 |\n| 3888 | 77.77528 | 0 | 1.980198 | 6.666667 |\n| 4138 | 93.25843 | 0 | 0.990099 | 6.666667 |\n| 4423 | 93.25843 | 0 | 0.990099 | 6.666667 |\n| 4644 | 93.25843 | 0 | 0.990099 | 6.666667 |\n| 4671 | 94.47191 | 0 | 2.376238 | 6.666667 |\n\n",
            "text/latex": "A data.frame: 245 × 4\n\\begin{tabular}{r|llll}\n  & p1 & p2 & p3 & p4\\\\\n  & <dbl> & <dbl> & <dbl> & <dbl>\\\\\n\\hline\n\t1 & 87.64045 & 0 & 0.0000000 &  6.666667\\\\\n\t3 & 85.48315 & 0 & 4.4554455 &  6.666667\\\\\n\t4 & 79.77528 & 0 & 4.4554455 & 20.000000\\\\\n\t7 & 82.67416 & 0 & 4.4554455 &  6.666667\\\\\n\t32 & 76.49438 & 0 & 2.4752475 &  6.666667\\\\\n\t48 & 82.02247 & 0 & 1.9801980 &  6.666667\\\\\n\t66 & 87.73034 & 0 & 4.4554455 &  6.666667\\\\\n\t68 & 87.64045 & 0 & 1.9801980 &  6.666667\\\\\n\t80 & 84.71910 & 0 & 0.0000000 & 20.000000\\\\\n\t89 & 89.97753 & 0 & 0.2475248 &  0.000000\\\\\n\t96 & 87.73034 & 0 & 4.4554455 &  6.666667\\\\\n\t105 & 89.97753 & 0 & 0.2475248 &  0.000000\\\\\n\t108 & 82.67416 & 0 & 4.4554455 &  6.666667\\\\\n\t115 & 87.64045 & 0 & 4.4554455 &  6.666667\\\\\n\t132 & 80.89888 & 0 & 4.4554455 &  6.666667\\\\\n\t135 & 82.02247 & 0 & 1.9801980 &  6.666667\\\\\n\t162 & 85.48315 & 0 & 4.4554455 &  6.666667\\\\\n\t166 & 78.74157 & 0 & 2.4752475 &  6.666667\\\\\n\t183 & 78.65169 & 0 & 1.9801980 &  6.666667\\\\\n\t204 & 87.64045 & 0 & 4.4554455 &  6.666667\\\\\n\t216 & 89.97753 & 0 & 0.2475248 &  0.000000\\\\\n\t237 & 85.48315 & 0 & 4.4554455 &  6.666667\\\\\n\t239 & 87.73034 & 0 & 4.4554455 &  6.666667\\\\\n\t242 & 78.74157 & 0 & 2.4752475 &  6.666667\\\\\n\t252 & 87.64045 & 0 & 4.4554455 &  6.666667\\\\\n\t254 & 82.67416 & 0 & 4.4554455 &  6.666667\\\\\n\t287 & 89.88764 & 0 & 4.4554455 &  6.666667\\\\\n\t300 & 85.48315 & 0 & 4.4554455 &  6.666667\\\\\n\t301 & 76.60674 & 0 & 2.4752475 &  6.666667\\\\\n\t302 & 78.74157 & 0 & 2.4752475 &  6.666667\\\\\n\t⋮ & ⋮ & ⋮ & ⋮ & ⋮\\\\\n\t3008 & 92.33708 & 0 & 1.336634 & 0.000000\\\\\n\t3081 & 94.47191 & 0 & 1.336634 & 0.000000\\\\\n\t3118 & 92.13483 & 0 & 0.990099 & 6.666667\\\\\n\t3128 & 94.47191 & 0 & 1.336634 & 0.000000\\\\\n\t3144 & 87.41573 & 0 & 1.980198 & 6.666667\\\\\n\t3159 & 92.33708 & 0 & 1.336634 & 0.000000\\\\\n\t3203 & 90.78652 & 0 & 1.980198 & 6.666667\\\\\n\t3216 & 77.97753 & 0 & 1.980198 & 6.666667\\\\\n\t3220 & 93.03371 & 0 & 1.980198 & 6.666667\\\\\n\t3221 & 88.87640 & 0 & 1.336634 & 0.000000\\\\\n\t3228 & 91.12360 & 0 & 1.336634 & 0.000000\\\\\n\t3245 & 92.33708 & 0 & 1.336634 & 0.000000\\\\\n\t3388 & 87.75281 & 0 & 1.336634 & 0.000000\\\\\n\t3405 & 94.47191 & 0 & 1.336634 & 0.000000\\\\\n\t3568 & 92.33708 & 0 & 1.336634 & 0.000000\\\\\n\t3578 & 93.25843 & 0 & 0.990099 & 6.666667\\\\\n\t3608 & 91.12360 & 0 & 1.336634 & 0.000000\\\\\n\t3627 & 88.87640 & 0 & 1.336634 & 0.000000\\\\\n\t3637 & 87.41573 & 0 & 1.980198 & 6.666667\\\\\n\t3665 & 93.03371 & 0 & 1.980198 & 6.666667\\\\\n\t3670 & 77.97753 & 0 & 1.980198 & 6.666667\\\\\n\t3682 & 90.78652 & 0 & 1.980198 & 6.666667\\\\\n\t3720 & 92.33708 & 0 & 1.336634 & 0.000000\\\\\n\t3746 & 90.78652 & 0 & 1.980198 & 6.666667\\\\\n\t3877 & 93.25843 & 0 & 0.990099 & 6.666667\\\\\n\t3888 & 77.77528 & 0 & 1.980198 & 6.666667\\\\\n\t4138 & 93.25843 & 0 & 0.990099 & 6.666667\\\\\n\t4423 & 93.25843 & 0 & 0.990099 & 6.666667\\\\\n\t4644 & 93.25843 & 0 & 0.990099 & 6.666667\\\\\n\t4671 & 94.47191 & 0 & 2.376238 & 6.666667\\\\\n\\end{tabular}\n"
          },
          "metadata": {}
        }
      ]
    },
    {
      "cell_type": "markdown",
      "source": [
        "Проведём Парето-оптимизацию:"
      ],
      "metadata": {
        "id": "nTrH0JLlKJ1r"
      }
    },
    {
      "cell_type": "code",
      "source": [
        "DPareto<-function(X,Y){\n",
        "  p<-TRUE; l<-FALSE; i<-1;\n",
        "  while (p & (i<=length(X))){\n",
        "    if (X[i]<Y[i]) p<-FALSE\n",
        "    if (X[i]>Y[i]) l<-TRUE\n",
        "    i<-i+1\n",
        "  }\n",
        "  if (!p | !l) return(FALSE)\n",
        "  else return(TRUE)\n",
        "}"
      ],
      "metadata": {
        "id": "Dm44pVKfKMsG"
      },
      "execution_count": null,
      "outputs": []
    },
    {
      "cell_type": "code",
      "source": [
        "result<-c()\n",
        "for (i in c(1:length(rownames(df_norm1)))){\n",
        "  p<-TRUE\n",
        "  for (j in c(1:length(rownames(df_norm1)))){\n",
        "    if (DPareto(df_norm1[j,],df_norm1[i,]))\n",
        "      p<-FALSE}\n",
        "  if (p) result<-c(result, rownames(df_norm1)[i])\n",
        "}\n",
        "result"
      ],
      "metadata": {
        "colab": {
          "base_uri": "https://localhost:8080/",
          "height": 34
        },
        "id": "np4PfPIBKPyP",
        "outputId": "71236210-da93-46b1-db5e-9df05c118288"
      },
      "execution_count": null,
      "outputs": [
        {
          "output_type": "display_data",
          "data": {
            "text/html": [
              "<style>\n",
              ".list-inline {list-style: none; margin:0; padding: 0}\n",
              ".list-inline>li {display: inline-block}\n",
              ".list-inline>li:not(:last-child)::after {content: \"\\00b7\"; padding: 0 .5ex}\n",
              "</style>\n",
              "<ol class=list-inline><li>'4'</li><li>'849'</li><li>'1059'</li><li>'1134'</li><li>'1437'</li><li>'1624'</li><li>'4671'</li></ol>\n"
            ],
            "text/markdown": "1. '4'\n2. '849'\n3. '1059'\n4. '1134'\n5. '1437'\n6. '1624'\n7. '4671'\n\n\n",
            "text/latex": "\\begin{enumerate*}\n\\item '4'\n\\item '849'\n\\item '1059'\n\\item '1134'\n\\item '1437'\n\\item '1624'\n\\item '4671'\n\\end{enumerate*}\n",
            "text/plain": [
              "[1] \"4\"    \"849\"  \"1059\" \"1134\" \"1437\" \"1624\" \"4671\""
            ]
          },
          "metadata": {}
        }
      ]
    },
    {
      "cell_type": "markdown",
      "source": [
        "Найдём идеальную точку по датафрейму, для которого отброшены решения, неудовлетворяющие условиям работоспособности, а также осуществлено приведение шкал:"
      ],
      "metadata": {
        "id": "UCQCbqp6KroP"
      }
    },
    {
      "cell_type": "code",
      "source": [
        "# ideal<-c(max(df_norm1$p1), max(df_norm1$p2), max(df_norm1$p3), max(df_norm1$p4))\n",
        "ideal<-c(speed4, hd4, ram4) # С1\n",
        "ideal"
      ],
      "metadata": {
        "colab": {
          "base_uri": "https://localhost:8080/",
          "height": 34
        },
        "id": "UCrp99DfK-Rq",
        "outputId": "e9c8934a-8363-474c-ef33-04e482a3f939"
      },
      "execution_count": null,
      "outputs": [
        {
          "output_type": "display_data",
          "data": {
            "text/html": [
              "<style>\n",
              ".list-inline {list-style: none; margin:0; padding: 0}\n",
              ".list-inline>li {display: inline-block}\n",
              ".list-inline>li:not(:last-child)::after {content: \"\\00b7\"; padding: 0 .5ex}\n",
              "</style>\n",
              "<ol class=list-inline><li>52.01102</li><li>1110.93786666667</li><li>8.286947</li></ol>\n"
            ],
            "text/markdown": "1. 52.01102\n2. 1110.93786666667\n3. 8.286947\n\n\n",
            "text/latex": "\\begin{enumerate*}\n\\item 52.01102\n\\item 1110.93786666667\n\\item 8.286947\n\\end{enumerate*}\n",
            "text/plain": [
              "[1]   52.011020 1110.937867    8.286947"
            ]
          },
          "metadata": {}
        }
      ]
    },
    {
      "cell_type": "markdown",
      "source": [
        "Используя евклидову метрику, определим расстояние каждого Парето-оптимального решения до идеальной точки:"
      ],
      "metadata": {
        "id": "n3gyMCV0LHYW"
      }
    },
    {
      "cell_type": "code",
      "source": [
        "distance<-function(A, B){\n",
        "  return(sqrt(sum((A-B)^2)))}\n"
      ],
      "metadata": {
        "id": "AP2pKuyULHCj"
      },
      "execution_count": null,
      "outputs": []
    },
    {
      "cell_type": "code",
      "source": [
        "for (i in result){\n",
        "  print(paste(i, \":\", as.character(distance(ideal, df_norm1[i,]))))}"
      ],
      "metadata": {
        "colab": {
          "base_uri": "https://localhost:8080/"
        },
        "id": "-tpQ0xU8LTSY",
        "outputId": "1d824193-ffe7-461b-caf7-efdbb87829e9"
      },
      "execution_count": null,
      "outputs": [
        {
          "output_type": "stream",
          "name": "stdout",
          "text": [
            "[1] \"4 : 1111.75230316019\"\n",
            "[1] \"849 : 1112.59645692942\"\n",
            "[1] \"1059 : 1112.59645692942\"\n",
            "[1] \"1134 : 1111.94372933613\"\n",
            "[1] \"1437 : 1112.59645692942\"\n",
            "[1] \"1624 : 1112.59645692942\"\n",
            "[1] \"4671 : 1112.68904804872\"\n"
          ]
        }
      ]
    },
    {
      "cell_type": "markdown",
      "source": [
        "Оптимальные решения  \n",
        "для сегмента C1:\n",
        "```\n",
        "5882 : 735.465597396234\n",
        "6149 : 767.989305595273\n",
        "6158 : 734.65495784364\n",
        "6162 : 734.793858109729\n",
        "6169 : 735.218308467024\n",
        "6203 : 734.793858109729\n",
        "6222 : 734.793858109729\n",
        "6238 : 736.431548001925\n",
        "```\n",
        "\n",
        "для сегмента C2:  \n",
        "```\n",
        "5878 : 494.440980085098\n",
        "6083 : 496.177749600594\n",
        "6094 : 496.177749600594\n",
        "6149 : 484.653826645379\n",
        "6158 : 450.494700178646\n",
        "6168 : 495.737965584639\n",
        "6169 : 451.019699783478\n",
        "6181 : 496.177749600594\n",
        "```\n",
        "\n",
        "для сегмента C3:  \n",
        "```\n",
        "2718 : 503.547616514359\n",
        "4294 : 503.405330300772\n",
        "4328 : 501.533647417386\n",
        "4660 : 502.576670011156\n",
        "4737 : 502.576670011156\n",
        "5455 : 458.659064396405\n",
        "5533 : 478.826025974322\n",
        "5622 : 458.659064396405\n",
        "5648 : 479.906205892101\n",
        "5687 : 457.355626700804\n",
        "5704 : 457.355626700804\n",
        "5715 : 445.287116092005\n",
        "5732 : 445.87921532562\n",
        "5743 : 411.87095182226\n",
        "5746 : 479.906205892101\n",
        "5749 : 458.659064396405\n",
        "5765 : 445.605310881765\n",
        "5771 : 457.923299678926\n",
        "5787 : 458.765001406128\n",
        "5788 : 457.661017249047\n",
        "5793 : 480.102470267071\n",
        "5926 : 458.765001406128\n",
        "5958 : 480.102470267071\n",
        "5997 : 457.439350936349\n",
        "6013 : 457.523712915012\n",
        "6054 : 457.439350936349\n",
        "6057 : 458.746616612706\n",
        "6066 : 457.523712915012\n",
        "6096 : 458.746616612706\n",
        "6099 : 457.523712915012\n",
        "6111 : 459.765025609997\n",
        "6145 : 457.523712915012\n",
        "6172 : 459.765025609997\n",
        "6176 : 413.66494619833\n",
        "6178 : 458.746616612706\n",
        "6180 : 414.81231639881\n",
        "6199 : 412.026953271777\n",
        "6241 : 412.026953271777\n",
        "6253 : 459.143663390839\n",
        "```\n",
        "\n",
        "для сегмента C4:  \n",
        "```\n",
        "4 : 1111.75230316019\n",
        "849 : 1112.59645692942\n",
        "1059 : 1112.59645692942\n",
        "1134 : 1111.94372933613\n",
        "1437 : 1112.59645692942\n",
        "1624 : 1112.59645692942\n",
        "4671 : 1112.68904804872\n",
        "```\n"
      ],
      "metadata": {
        "id": "bQ3q1rALMIba"
      }
    },
    {
      "cell_type": "markdown",
      "source": [
        "Итог:  \n",
        "сегмент С1: количество компьютеров 3, номер варианта 6162 из датафрейма Data;  \n",
        "сегмент C2: количество компьютеров 19, номер варианта 6158 из датафрейма Data;  \n",
        "сегмент C3: количество компьютеров 18, номер варианта 6199 из датафрейма Data;  \n",
        "сегмент C4: количество компьютеров 3, номер варианта 4 из датафрейма Data."
      ],
      "metadata": {
        "id": "v_BB7NVap4pR"
      }
    }
  ]
}