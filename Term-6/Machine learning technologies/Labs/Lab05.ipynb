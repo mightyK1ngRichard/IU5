{
 "cells": [
  {
   "cell_type": "code",
   "execution_count": 13,
   "metadata": {},
   "outputs": [],
   "source": [
    "import pandas as pd\n",
    "from sklearn.ensemble import RandomForestClassifier\n",
    "from sklearn.model_selection import train_test_split\n",
    "from sklearn.preprocessing import LabelEncoder\n",
    "\n",
    "# Загрузка данных\n",
    "data = pd.read_csv('column_3C.dat', sep=' ', header=None)\n",
    "# Зададим названия столбцов\n",
    "columns = ['pelvic_incidence', 'pelvic_tilt', 'lumbar_lordosis_angle', 'sacral_slope',\n",
    "           'pelvic_radius', 'degree_spondylolisthesis', 'class']\n",
    "\n",
    "# Присвоим названия столбцам\n",
    "data.columns = columns\n",
    "label_encoder = LabelEncoder()\n",
    "\n",
    "# Кодирование категориального признака\n",
    "data['class'] = label_encoder.fit_transform(data['class'])\n",
    "\n",
    "# Разделим данные на признаки и целевую переменную\n",
    "X = data.drop('class', axis=1)\n",
    "y = data['class']\n",
    "\n",
    "# Разделение на обучающий и тестовый наборы\n",
    "X_train, X_test, y_train, y_test = train_test_split(X, y, test_size=0.2, random_state=42)\n",
    "\n"
   ]
  },
  {
   "cell_type": "code",
   "execution_count": 14,
   "metadata": {},
   "outputs": [
    {
     "name": "stdout",
     "output_type": "stream",
     "text": [
      "0.8064516129032258\n"
     ]
    }
   ],
   "source": [
    "# Создание и обучение модели случайного леса\n",
    "rf = RandomForestClassifier(n_estimators=100, random_state=42)\n",
    "rf.fit(X_train, y_train)\n",
    "\n",
    "# Прогнозирование на тестовом наборе\n",
    "predictions = rf.predict(X_test)\n",
    "\n",
    "# Оценка точности модели\n",
    "accuracy = rf.score(X_test, y_test)\n",
    "print(accuracy)"
   ]
  },
  {
   "cell_type": "code",
   "execution_count": 15,
   "metadata": {},
   "outputs": [
    {
     "name": "stdout",
     "output_type": "stream",
     "text": [
      "0.8709677419354839\n"
     ]
    }
   ],
   "source": [
    "import xgboost as xgb\n",
    "# Создание и обучение модели градиентного бустинга\n",
    "xgb_model = xgb.XGBClassifier(n_estimators=100, learning_rate=0.1, random_state=42)\n",
    "xgb_model.fit(X_train, y_train)\n",
    "\n",
    "# Прогнозирование на тестовом наборе\n",
    "predictions = xgb_model.predict(X_test)\n",
    "\n",
    "# Оценка точности модели\n",
    "accuracy = xgb_model.score(X_test, y_test)\n",
    "\n",
    "print(accuracy)"
   ]
  },
  {
   "cell_type": "code",
   "execution_count": 16,
   "metadata": {},
   "outputs": [
    {
     "name": "stdout",
     "output_type": "stream",
     "text": [
      "0.8064516129032258\n"
     ]
    },
    {
     "name": "stderr",
     "output_type": "stream",
     "text": [
      "c:\\Users\\romas\\OneDrive\\Рабочий стол\\ml_labs\\.venv\\lib\\site-packages\\sklearn\\linear_model\\_logistic.py:458: ConvergenceWarning: lbfgs failed to converge (status=1):\n",
      "STOP: TOTAL NO. of ITERATIONS REACHED LIMIT.\n",
      "\n",
      "Increase the number of iterations (max_iter) or scale the data as shown in:\n",
      "    https://scikit-learn.org/stable/modules/preprocessing.html\n",
      "Please also refer to the documentation for alternative solver options:\n",
      "    https://scikit-learn.org/stable/modules/linear_model.html#logistic-regression\n",
      "  n_iter_i = _check_optimize_result(\n"
     ]
    }
   ],
   "source": [
    "from sklearn.ensemble import RandomForestClassifier\n",
    "from sklearn.neighbors import KNeighborsClassifier\n",
    "from sklearn.linear_model import LogisticRegression\n",
    "from mlxtend.classifier import StackingClassifier\n",
    "# Определение базовых моделей\n",
    "model1 = RandomForestClassifier(n_estimators=100, random_state=42)\n",
    "model2 = KNeighborsClassifier(n_neighbors=3)\n",
    "model3 = LogisticRegression()\n",
    "\n",
    "# Определение метамодели\n",
    "meta_model = LogisticRegression()\n",
    "\n",
    "# Создание и обучение модели стекинга\n",
    "stacking_model = StackingClassifier(classifiers=[model1, model2, model3], meta_classifier=meta_model)\n",
    "stacking_model.fit(X_train, y_train)\n",
    "\n",
    "# Прогнозирование на тестовом наборе\n",
    "predictions = stacking_model.predict(X_test)\n",
    "\n",
    "# Оценка точности модели\n",
    "accuracy = stacking_model.score(X_test, y_test)\n",
    "print(accuracy)"
   ]
  }
 ],
 "metadata": {
  "kernelspec": {
   "display_name": ".venv",
   "language": "python",
   "name": "python3"
  },
  "language_info": {
   "codemirror_mode": {
    "name": "ipython",
    "version": 3
   },
   "file_extension": ".py",
   "mimetype": "text/x-python",
   "name": "python",
   "nbconvert_exporter": "python",
   "pygments_lexer": "ipython3",
   "version": "3.10.7"
  },
  "orig_nbformat": 4
 },
 "nbformat": 4,
 "nbformat_minor": 2
}
