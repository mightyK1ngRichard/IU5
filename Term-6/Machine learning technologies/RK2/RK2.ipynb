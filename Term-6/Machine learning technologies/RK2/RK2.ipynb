{
 "cells": [
  {
   "cell_type": "markdown",
   "metadata": {},
   "source": [
    "#### Пермяков Дмитрий ИУ5-63Б\n",
    "Вариант 13"
   ]
  },
  {
   "cell_type": "markdown",
   "metadata": {},
   "source": [
    "## 1. Предобработка данных"
   ]
  },
  {
   "cell_type": "code",
   "execution_count": 16,
   "metadata": {},
   "outputs": [
    {
     "name": "stdout",
     "output_type": "stream",
     "text": [
      "   page_id                                 name  \\\n",
      "0     1678            Spider-Man (Peter Parker)   \n",
      "1     7139      Captain America (Steven Rogers)   \n",
      "2    64786  Wolverine (James \\\"Logan\\\" Howlett)   \n",
      "3     1868    Iron Man (Anthony \\\"Tony\\\" Stark)   \n",
      "4     2460                  Thor (Thor Odinson)   \n",
      "\n",
      "                                   urlslug                ID  \\\n",
      "0              \\/Spider-Man_(Peter_Parker)   Secret Identity   \n",
      "1        \\/Captain_America_(Steven_Rogers)   Public Identity   \n",
      "2  \\/Wolverine_(James_%22Logan%22_Howlett)   Public Identity   \n",
      "3    \\/Iron_Man_(Anthony_%22Tony%22_Stark)   Public Identity   \n",
      "4                    \\/Thor_(Thor_Odinson)  No Dual Identity   \n",
      "\n",
      "                ALIGN         EYE        HAIR              SEX  GSM  \\\n",
      "0     Good Characters  Hazel Eyes  Brown Hair  Male Characters  NaN   \n",
      "1     Good Characters   Blue Eyes  White Hair  Male Characters  NaN   \n",
      "2  Neutral Characters   Blue Eyes  Black Hair  Male Characters  NaN   \n",
      "3     Good Characters   Blue Eyes  Black Hair  Male Characters  NaN   \n",
      "4     Good Characters   Blue Eyes  Blond Hair  Male Characters  NaN   \n",
      "\n",
      "               ALIVE  APPEARANCES FIRST APPEARANCE    Year  \n",
      "0  Living Characters       4043.0           Aug-62  1962.0  \n",
      "1  Living Characters       3360.0           Mar-41  1941.0  \n",
      "2  Living Characters       3061.0           Oct-74  1974.0  \n",
      "3  Living Characters       2961.0           Mar-63  1963.0  \n",
      "4  Living Characters       2258.0           Nov-50  1950.0  \n",
      "<class 'pandas.core.frame.DataFrame'>\n",
      "RangeIndex: 16376 entries, 0 to 16375\n",
      "Data columns (total 13 columns):\n",
      " #   Column            Non-Null Count  Dtype  \n",
      "---  ------            --------------  -----  \n",
      " 0   page_id           16376 non-null  int64  \n",
      " 1   name              16376 non-null  object \n",
      " 2   urlslug           16376 non-null  object \n",
      " 3   ID                12606 non-null  object \n",
      " 4   ALIGN             13564 non-null  object \n",
      " 5   EYE               6609 non-null   object \n",
      " 6   HAIR              12112 non-null  object \n",
      " 7   SEX               15522 non-null  object \n",
      " 8   GSM               90 non-null     object \n",
      " 9   ALIVE             16373 non-null  object \n",
      " 10  APPEARANCES       15280 non-null  float64\n",
      " 11  FIRST APPEARANCE  15561 non-null  object \n",
      " 12  Year              15561 non-null  float64\n",
      "dtypes: float64(2), int64(1), object(10)\n",
      "memory usage: 1.6+ MB\n",
      "None\n"
     ]
    }
   ],
   "source": [
    "import pandas as pd\n",
    "\n",
    "# Загрузка данных\n",
    "data = pd.read_csv('marvel-wikia-data.csv')\n",
    "\n",
    "# Проверка первых строк\n",
    "print(data.head())\n",
    "\n",
    "# Проверка информации о данных\n",
    "print(data.info())\n"
   ]
  },
  {
   "cell_type": "code",
   "execution_count": 17,
   "metadata": {},
   "outputs": [
    {
     "name": "stdout",
     "output_type": "stream",
     "text": [
      "   page_id                                 name  \\\n",
      "0     1678            Spider-Man (Peter Parker)   \n",
      "1     7139      Captain America (Steven Rogers)   \n",
      "2    64786  Wolverine (James \\\"Logan\\\" Howlett)   \n",
      "3     1868    Iron Man (Anthony \\\"Tony\\\" Stark)   \n",
      "4     2460                  Thor (Thor Odinson)   \n",
      "\n",
      "                                   urlslug                ID  \\\n",
      "0              \\/Spider-Man_(Peter_Parker)   Secret Identity   \n",
      "1        \\/Captain_America_(Steven_Rogers)   Public Identity   \n",
      "2  \\/Wolverine_(James_%22Logan%22_Howlett)   Public Identity   \n",
      "3    \\/Iron_Man_(Anthony_%22Tony%22_Stark)   Public Identity   \n",
      "4                    \\/Thor_(Thor_Odinson)  No Dual Identity   \n",
      "\n",
      "                ALIGN         EYE        HAIR              SEX  GSM  \\\n",
      "0     Good Characters  Hazel Eyes  Brown Hair  Male Characters  NaN   \n",
      "1     Good Characters   Blue Eyes  White Hair  Male Characters  NaN   \n",
      "2  Neutral Characters   Blue Eyes  Black Hair  Male Characters  NaN   \n",
      "3     Good Characters   Blue Eyes  Black Hair  Male Characters  NaN   \n",
      "4     Good Characters   Blue Eyes  Blond Hair  Male Characters  NaN   \n",
      "\n",
      "               ALIVE  APPEARANCES FIRST APPEARANCE    Year  \n",
      "0  Living Characters       4043.0           Aug-62  1962.0  \n",
      "1  Living Characters       3360.0           Mar-41  1941.0  \n",
      "2  Living Characters       3061.0           Oct-74  1974.0  \n",
      "3  Living Characters       2961.0           Mar-63  1963.0  \n",
      "4  Living Characters       2258.0           Nov-50  1950.0  \n"
     ]
    }
   ],
   "source": [
    "# Удаление дубликатов столбцов\n",
    "data = data.loc[:,~data.columns.duplicated()]\n",
    "\n",
    "# Проверка после удаления дубликатов\n",
    "print(data.head())"
   ]
  },
  {
   "cell_type": "code",
   "execution_count": 18,
   "metadata": {},
   "outputs": [
    {
     "name": "stdout",
     "output_type": "stream",
     "text": [
      "page_id             0\n",
      "name                0\n",
      "urlslug             0\n",
      "ID                  0\n",
      "ALIGN               0\n",
      "EYE                 0\n",
      "HAIR                0\n",
      "SEX                 0\n",
      "GSM                 0\n",
      "ALIVE               0\n",
      "APPEARANCES         0\n",
      "FIRST APPEARANCE    0\n",
      "Year                0\n",
      "dtype: int64\n"
     ]
    }
   ],
   "source": [
    "# Заполнение пропущенных значений\n",
    "data = data.fillna(method='ffill').fillna(method='bfill')  # Простой способ, можно уточнить в зависимости от данных\n",
    "\n",
    "# Проверка пропущенных значений\n",
    "print(data.isnull().sum())"
   ]
  },
  {
   "cell_type": "markdown",
   "metadata": {},
   "source": [
    "Кодирование категориальных признаков\n",
    "Преобразуем категориальные признаки в числовые."
   ]
  },
  {
   "cell_type": "code",
   "execution_count": 19,
   "metadata": {},
   "outputs": [
    {
     "name": "stdout",
     "output_type": "stream",
     "text": [
      "   page_id   name  urlslug  ID  ALIGN  EYE  HAIR  SEX  GSM  ALIVE  \\\n",
      "0     1678  13954    13953   3      1    9     6    3    0      1   \n",
      "1     7139   2327     2330   2      1    3    23    3    0      1   \n",
      "2    64786  15996    15999   2      2    3     2    3    0      1   \n",
      "3     1868   6771     6774   2      1    3     2    3    0      1   \n",
      "4     2460  14709    14709   1      1    3     3    3    0      1   \n",
      "\n",
      "   APPEARANCES  FIRST APPEARANCE    Year  \n",
      "0       4043.0                99  1962.0  \n",
      "1       3360.0               503  1941.0  \n",
      "2       3061.0               738  1974.0  \n",
      "3       2961.0               521  1963.0  \n",
      "4       2258.0               649  1950.0  \n"
     ]
    }
   ],
   "source": [
    "from sklearn.preprocessing import LabelEncoder\n",
    "\n",
    "# Применение LabelEncoder к категориальным признакам\n",
    "label_encoders = {}\n",
    "for column in data.select_dtypes(include=['object']).columns:\n",
    "    le = LabelEncoder()\n",
    "    data[column] = le.fit_transform(data[column])\n",
    "    label_encoders[column] = le\n",
    "\n",
    "# Проверка преобразованных данных\n",
    "print(data.head())"
   ]
  },
  {
   "cell_type": "markdown",
   "metadata": {
    "jp-MarkdownHeadingCollapsed": true
   },
   "source": [
    "## 2. Разделение данных на обучающую и тестовую выборки\n",
    "Разделим данные на признаки (X) и целевую переменную (y), а затем на обучающую и тестовую выборки."
   ]
  },
  {
   "cell_type": "code",
   "execution_count": 20,
   "metadata": {},
   "outputs": [
    {
     "name": "stdout",
     "output_type": "stream",
     "text": [
      "(13100, 12) (3276, 12) (13100,) (3276,)\n"
     ]
    }
   ],
   "source": [
    "from sklearn.model_selection import train_test_split\n",
    "\n",
    "# Предположим, что последний столбец — это целевая переменная\n",
    "X = data.iloc[:, :-1]\n",
    "y = data.iloc[:, -1]\n",
    "\n",
    "X_train, X_test, y_train, y_test = train_test_split(X, y, test_size=0.2, random_state=42)\n",
    "\n",
    "# Проверка размеров выборок\n",
    "print(X_train.shape, X_test.shape, y_train.shape, y_test.shape)"
   ]
  },
  {
   "cell_type": "markdown",
   "metadata": {
    "jp-MarkdownHeadingCollapsed": true
   },
   "source": [
    "## 3. Построение моделей"
   ]
  },
  {
   "cell_type": "markdown",
   "metadata": {
    "jp-MarkdownHeadingCollapsed": true
   },
   "source": [
    "#### Дерево решений"
   ]
  },
  {
   "cell_type": "code",
   "execution_count": 21,
   "metadata": {},
   "outputs": [
    {
     "name": "stdout",
     "output_type": "stream",
     "text": [
      "Decision Tree Accuracy: 0.3904151404151404\n",
      "Decision Tree F1 Score: 0.3925889200747888\n"
     ]
    }
   ],
   "source": [
    "from sklearn.tree import DecisionTreeClassifier\n",
    "from sklearn.metrics import accuracy_score, f1_score\n",
    "\n",
    "# Создание и обучение модели\n",
    "dt_model = DecisionTreeClassifier(random_state=42)\n",
    "dt_model.fit(X_train, y_train)\n",
    "\n",
    "# Предсказание на тестовой выборке\n",
    "y_pred_dt = dt_model.predict(X_test)\n",
    "\n",
    "# Оценка качества модели\n",
    "accuracy_dt = accuracy_score(y_test, y_pred_dt)\n",
    "f1_dt = f1_score(y_test, y_pred_dt, average='weighted')\n",
    "\n",
    "print(f\"Decision Tree Accuracy: {accuracy_dt}\")\n",
    "print(f\"Decision Tree F1 Score: {f1_dt}\")"
   ]
  },
  {
   "cell_type": "markdown",
   "metadata": {
    "jp-MarkdownHeadingCollapsed": true
   },
   "source": [
    "#### Случайный лес"
   ]
  },
  {
   "cell_type": "code",
   "execution_count": 22,
   "metadata": {},
   "outputs": [
    {
     "name": "stdout",
     "output_type": "stream",
     "text": [
      "Random Forest Accuracy: 0.33485958485958484\n",
      "Random Forest F1 Score: 0.3175576456271747\n"
     ]
    }
   ],
   "source": [
    "from sklearn.ensemble import RandomForestClassifier\n",
    "\n",
    "# Создание и обучение модели\n",
    "rf_model = RandomForestClassifier(random_state=42)\n",
    "rf_model.fit(X_train, y_train)\n",
    "\n",
    "# Предсказание на тестовой выборке\n",
    "y_pred_rf = rf_model.predict(X_test)\n",
    "\n",
    "# Оценка качества модели\n",
    "accuracy_rf = accuracy_score(y_test, y_pred_rf)\n",
    "f1_rf = f1_score(y_test, y_pred_rf, average='weighted')\n",
    "\n",
    "print(f\"Random Forest Accuracy: {accuracy_rf}\")\n",
    "print(f\"Random Forest F1 Score: {f1_rf}\")"
   ]
  },
  {
   "cell_type": "markdown",
   "metadata": {
    "jp-MarkdownHeadingCollapsed": true
   },
   "source": [
    "## 4. Оценка качества моделей\n",
    "Мы используем accuracy (точность) и F1 score (F1-мера) для оценки качества моделей:\n",
    "\n",
    "- Точность: Доля правильно предсказанных наблюдений к общему числу наблюдений.\n",
    "- F1-мера: Среднее гармоническое точности и полноты. Полезно, когда важен баланс между этими метриками.\n",
    "\n",
    "### Выводы\n",
    "#### Дерево решений:\n",
    "- Accuracy: указывает на долю верных предсказаний.\n",
    "- F1 Score: полезно для оценки, когда классы несбалансированы.\n",
    "    \n",
    "#### Случайный лес:\n",
    "Обычно показывает лучшую производительность за счет уменьшения переобучения.\n",
    "Если F1-мера выше у одной модели по сравнению с другой, это указывает на лучшее качество классификации, особенно при несбалансированных данных.\n",
    "\n",
    "Таким образом, вы сможете выбрать модель, которая показывает наилучшие результаты по данным метрикам на вашем наборе данных."
   ]
  }
 ],
 "metadata": {
  "kernelspec": {
   "display_name": "Python 3 (ipykernel)",
   "language": "python",
   "name": "python3"
  },
  "language_info": {
   "codemirror_mode": {
    "name": "ipython",
    "version": 3
   },
   "file_extension": ".py",
   "mimetype": "text/x-python",
   "name": "python",
   "nbconvert_exporter": "python",
   "pygments_lexer": "ipython3",
   "version": "3.12.2"
  },
  "vscode": {
   "interpreter": {
    "hash": "7299411f274db08d71a32cfd4eccf800a49003397182392a791bc1bc769eb3c7"
   }
  }
 },
 "nbformat": 4,
 "nbformat_minor": 4
}
